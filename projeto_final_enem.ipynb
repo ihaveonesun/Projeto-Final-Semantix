{
 "cells": [
  {
   "cell_type": "markdown",
   "id": "817daad8",
   "metadata": {},
   "source": [
    "<h1 style='color: green; font-size: 36px; font-weight: bold;'>Data Science - Análise do Enem</h1>"
   ]
  },
  {
   "cell_type": "markdown",
   "id": "9113c594",
   "metadata": {},
   "source": [
    "# <a name='descricao'>Descrição</a>\n",
    "<i>Porro velit modi dolore non. Sed porro dolore amet sed consectetur. Adipisci etincidunt numquam eius. Magnam voluptatem consectetur porro. Porro tempora aliquam neque amet consectetur porro. Aliquam velit dolore eius eius adipisci. Dolor est dolor modi sit ut. Quiquia quisquam porro adipisci labore. Dolore numquam quaerat ipsum.</i>"
   ]
  },
  {
   "cell_type": "markdown",
   "id": "892f38af",
   "metadata": {},
   "source": [
    "### Features:\n",
    "<ul style='font-size: 14px; line-height: 1,5 ; text-align: justify;'>\n",
    "    <li><b>Feature_1</b> - xxxx</li>\n",
    "    <li><b>Feature_2</b> - Área do  - xxxx em m²</li>\n",
    "    <li><b>Feature_3</b> - Distância do imóvel até a praia (km) (em linha reta)</li>\n",
    "    <li><b>Feature_4</b> - Distância do imóvel até a farmácia mais próxima (km) (em linha reta)</li>\n",
    "</ul>"
   ]
  },
  {
   "cell_type": "markdown",
   "id": "1862d2cb",
   "metadata": {},
   "source": [
    "# <a name='indice'>Índice</a>\n",
    "* [Descrição](#descricao)\n",
    "* [Índice](#indice)\n",
    "* [1. Importando Bibliotecas e Base de Dados](#secao_1)\n",
    "* [2. Conhecendo e Tratando a Base de Dados](#secao_2)\n",
    "* [3. Análise Descritiva](#secao_3)\n",
    "* [4. Comportamento da Variável Dependente](#secao_4)\n",
    "* [5. Análise de Outliers](#secao_5)\n",
    "* [6. Gráficos](#secao_6) \n",
    "* [7. Transformação dos Dados](#secao_7)\n",
    "* [X. Outras seções/etapas a depender do objetivo](#secao_x)\n",
    "* [Conclusão](#conclusao)"
   ]
  },
  {
   "cell_type": "markdown",
   "id": "31e57ed4",
   "metadata": {},
   "source": [
    "#  <a name=\"secao_1\"><font style='font-size: 30px;'>1 Importando Bibliotecas e Base de Dados</font></a>\n",
    "<hr style='border: 1px solid cyan;'>\n",
    "\n",
    "[voltar ao índice](#indice)"
   ]
  },
  {
   "cell_type": "code",
   "execution_count": 2,
   "id": "e9263a00",
   "metadata": {},
   "outputs": [],
   "source": [
    "import pandas as pd"
   ]
  },
  {
   "cell_type": "code",
   "execution_count": 3,
   "id": "aff6071b",
   "metadata": {},
   "outputs": [],
   "source": [
    "enem_df = pd.read_csv('dados/MICRODADOS_ENEM_2021.csv', encoding = 'latin_1', sep=';')"
   ]
  },
  {
   "cell_type": "markdown",
   "id": "4f17def4",
   "metadata": {},
   "source": [
    "#  <a name=\"secao_2\">2. Conhecendo e Tratando a Base de Dados</a>\n",
    "<hr style='border: 1px solid cyan;'>\n",
    "\n",
    "[voltar ao índice](#indice)"
   ]
  },
  {
   "cell_type": "markdown",
   "id": "9d2b1f3b",
   "metadata": {},
   "source": [
    "#### Informações gerais"
   ]
  },
  {
   "cell_type": "markdown",
   "id": "0bd8102d",
   "metadata": {},
   "source": [
    "Aplicar: \n",
    "* .info()\n",
    "* .head()\n",
    "* .shape\n",
    "* .dtypes\n",
    "* <font color='red'>.describe()</font> Obs: aplicável a variáveis quantitativas e já normalizadas\n",
    "* etc\n",
    "\n",
    "Obs: texto em vermelho são parâmetros a serem incluídos no modelo de notebook, visando sua melhoria"
   ]
  },
  {
   "cell_type": "code",
   "execution_count": 14,
   "id": "16544b91",
   "metadata": {},
   "outputs": [
    {
     "name": "stdout",
     "output_type": "stream",
     "text": [
      "<class 'pandas.core.frame.DataFrame'>\n",
      "RangeIndex: 3389832 entries, 0 to 3389831\n",
      "Data columns (total 76 columns):\n",
      " #   Column                  Non-Null Count    Dtype  \n",
      "---  ------                  --------------    -----  \n",
      " 0   NU_INSCRICAO            3389832 non-null  int64  \n",
      " 1   NU_ANO                  3389832 non-null  int64  \n",
      " 2   TP_FAIXA_ETARIA         3389832 non-null  int64  \n",
      " 3   TP_SEXO                 3389832 non-null  object \n",
      " 4   TP_ESTADO_CIVIL         3389832 non-null  int64  \n",
      " 5   TP_COR_RACA             3389832 non-null  int64  \n",
      " 6   TP_NACIONALIDADE        3389832 non-null  int64  \n",
      " 7   TP_ST_CONCLUSAO         3389832 non-null  int64  \n",
      " 8   TP_ANO_CONCLUIU         3389832 non-null  int64  \n",
      " 9   TP_ESCOLA               3389832 non-null  int64  \n",
      " 10  TP_ENSINO               1096828 non-null  float64\n",
      " 11  IN_TREINEIRO            3389832 non-null  int64  \n",
      " 12  CO_MUNICIPIO_ESC        813806 non-null   float64\n",
      " 13  NO_MUNICIPIO_ESC        813806 non-null   object \n",
      " 14  CO_UF_ESC               813806 non-null   float64\n",
      " 15  SG_UF_ESC               813806 non-null   object \n",
      " 16  TP_DEPENDENCIA_ADM_ESC  813806 non-null   float64\n",
      " 17  TP_LOCALIZACAO_ESC      813806 non-null   float64\n",
      " 18  TP_SIT_FUNC_ESC         813806 non-null   float64\n",
      " 19  CO_MUNICIPIO_PROVA      3389832 non-null  int64  \n",
      " 20  NO_MUNICIPIO_PROVA      3389832 non-null  object \n",
      " 21  CO_UF_PROVA             3389832 non-null  int64  \n",
      " 22  SG_UF_PROVA             3389832 non-null  object \n",
      " 23  TP_PRESENCA_CN          3389832 non-null  int64  \n",
      " 24  TP_PRESENCA_CH          3389832 non-null  int64  \n",
      " 25  TP_PRESENCA_LC          3389832 non-null  int64  \n",
      " 26  TP_PRESENCA_MT          3389832 non-null  int64  \n",
      " 27  CO_PROVA_CN             2245844 non-null  float64\n",
      " 28  CO_PROVA_CH             2378379 non-null  float64\n",
      " 29  CO_PROVA_LC             2378379 non-null  float64\n",
      " 30  CO_PROVA_MT             2245844 non-null  float64\n",
      " 31  NU_NOTA_CN              2245844 non-null  float64\n",
      " 32  NU_NOTA_CH              2378379 non-null  float64\n",
      " 33  NU_NOTA_LC              2378379 non-null  float64\n",
      " 34  NU_NOTA_MT              2245844 non-null  float64\n",
      " 35  TX_RESPOSTAS_CN         2245844 non-null  object \n",
      " 36  TX_RESPOSTAS_CH         2378379 non-null  object \n",
      " 37  TX_RESPOSTAS_LC         2378379 non-null  object \n",
      " 38  TX_RESPOSTAS_MT         2245844 non-null  object \n",
      " 39  TP_LINGUA               3389832 non-null  int64  \n",
      " 40  TX_GABARITO_CN          2245844 non-null  object \n",
      " 41  TX_GABARITO_CH          2378379 non-null  object \n",
      " 42  TX_GABARITO_LC          2378379 non-null  object \n",
      " 43  TX_GABARITO_MT          2245844 non-null  object \n",
      " 44  TP_STATUS_REDACAO       2378379 non-null  float64\n",
      " 45  NU_NOTA_COMP1           2378379 non-null  float64\n",
      " 46  NU_NOTA_COMP2           2378379 non-null  float64\n",
      " 47  NU_NOTA_COMP3           2378379 non-null  float64\n",
      " 48  NU_NOTA_COMP4           2378379 non-null  float64\n",
      " 49  NU_NOTA_COMP5           2378379 non-null  float64\n",
      " 50  NU_NOTA_REDACAO         2378379 non-null  float64\n",
      " 51  Q001                    3389830 non-null  object \n",
      " 52  Q002                    3389830 non-null  object \n",
      " 53  Q003                    3389830 non-null  object \n",
      " 54  Q004                    3389830 non-null  object \n",
      " 55  Q005                    3389830 non-null  float64\n",
      " 56  Q006                    3389830 non-null  object \n",
      " 57  Q007                    3389830 non-null  object \n",
      " 58  Q008                    3389830 non-null  object \n",
      " 59  Q009                    3389830 non-null  object \n",
      " 60  Q010                    3389830 non-null  object \n",
      " 61  Q011                    3389830 non-null  object \n",
      " 62  Q012                    3389830 non-null  object \n",
      " 63  Q013                    3389830 non-null  object \n",
      " 64  Q014                    3389830 non-null  object \n",
      " 65  Q015                    3389830 non-null  object \n",
      " 66  Q016                    3389830 non-null  object \n",
      " 67  Q017                    3389830 non-null  object \n",
      " 68  Q018                    3389830 non-null  object \n",
      " 69  Q019                    3389830 non-null  object \n",
      " 70  Q020                    3389830 non-null  object \n",
      " 71  Q021                    3389830 non-null  object \n",
      " 72  Q022                    3389830 non-null  object \n",
      " 73  Q023                    3389830 non-null  object \n",
      " 74  Q024                    3389830 non-null  object \n",
      " 75  Q025                    3389830 non-null  object \n",
      "dtypes: float64(22), int64(17), object(37)\n",
      "memory usage: 1.9+ GB\n"
     ]
    }
   ],
   "source": [
    "enem_df.info(show_counts=True)"
   ]
  },
  {
   "cell_type": "code",
   "execution_count": 6,
   "id": "4ef534af",
   "metadata": {},
   "outputs": [
    {
     "data": {
      "text/html": [
       "<div>\n",
       "<style scoped>\n",
       "    .dataframe tbody tr th:only-of-type {\n",
       "        vertical-align: middle;\n",
       "    }\n",
       "\n",
       "    .dataframe tbody tr th {\n",
       "        vertical-align: top;\n",
       "    }\n",
       "\n",
       "    .dataframe thead th {\n",
       "        text-align: right;\n",
       "    }\n",
       "</style>\n",
       "<table border=\"1\" class=\"dataframe\">\n",
       "  <thead>\n",
       "    <tr style=\"text-align: right;\">\n",
       "      <th></th>\n",
       "      <th>NU_INSCRICAO</th>\n",
       "      <th>NU_ANO</th>\n",
       "      <th>TP_FAIXA_ETARIA</th>\n",
       "      <th>TP_SEXO</th>\n",
       "      <th>TP_ESTADO_CIVIL</th>\n",
       "      <th>TP_COR_RACA</th>\n",
       "      <th>TP_NACIONALIDADE</th>\n",
       "      <th>TP_ST_CONCLUSAO</th>\n",
       "      <th>TP_ANO_CONCLUIU</th>\n",
       "      <th>TP_ESCOLA</th>\n",
       "      <th>...</th>\n",
       "      <th>Q016</th>\n",
       "      <th>Q017</th>\n",
       "      <th>Q018</th>\n",
       "      <th>Q019</th>\n",
       "      <th>Q020</th>\n",
       "      <th>Q021</th>\n",
       "      <th>Q022</th>\n",
       "      <th>Q023</th>\n",
       "      <th>Q024</th>\n",
       "      <th>Q025</th>\n",
       "    </tr>\n",
       "  </thead>\n",
       "  <tbody>\n",
       "    <tr>\n",
       "      <th>0</th>\n",
       "      <td>210053865474</td>\n",
       "      <td>2021</td>\n",
       "      <td>5</td>\n",
       "      <td>F</td>\n",
       "      <td>1</td>\n",
       "      <td>1</td>\n",
       "      <td>1</td>\n",
       "      <td>1</td>\n",
       "      <td>3</td>\n",
       "      <td>1</td>\n",
       "      <td>...</td>\n",
       "      <td>A</td>\n",
       "      <td>A</td>\n",
       "      <td>A</td>\n",
       "      <td>B</td>\n",
       "      <td>A</td>\n",
       "      <td>A</td>\n",
       "      <td>B</td>\n",
       "      <td>A</td>\n",
       "      <td>B</td>\n",
       "      <td>B</td>\n",
       "    </tr>\n",
       "    <tr>\n",
       "      <th>1</th>\n",
       "      <td>210052384164</td>\n",
       "      <td>2021</td>\n",
       "      <td>12</td>\n",
       "      <td>M</td>\n",
       "      <td>1</td>\n",
       "      <td>1</td>\n",
       "      <td>1</td>\n",
       "      <td>1</td>\n",
       "      <td>11</td>\n",
       "      <td>1</td>\n",
       "      <td>...</td>\n",
       "      <td>A</td>\n",
       "      <td>A</td>\n",
       "      <td>A</td>\n",
       "      <td>B</td>\n",
       "      <td>A</td>\n",
       "      <td>A</td>\n",
       "      <td>C</td>\n",
       "      <td>A</td>\n",
       "      <td>A</td>\n",
       "      <td>A</td>\n",
       "    </tr>\n",
       "    <tr>\n",
       "      <th>2</th>\n",
       "      <td>210052589243</td>\n",
       "      <td>2021</td>\n",
       "      <td>13</td>\n",
       "      <td>F</td>\n",
       "      <td>3</td>\n",
       "      <td>1</td>\n",
       "      <td>1</td>\n",
       "      <td>1</td>\n",
       "      <td>15</td>\n",
       "      <td>1</td>\n",
       "      <td>...</td>\n",
       "      <td>B</td>\n",
       "      <td>A</td>\n",
       "      <td>A</td>\n",
       "      <td>B</td>\n",
       "      <td>A</td>\n",
       "      <td>A</td>\n",
       "      <td>C</td>\n",
       "      <td>B</td>\n",
       "      <td>B</td>\n",
       "      <td>B</td>\n",
       "    </tr>\n",
       "    <tr>\n",
       "      <th>3</th>\n",
       "      <td>210052128335</td>\n",
       "      <td>2021</td>\n",
       "      <td>3</td>\n",
       "      <td>M</td>\n",
       "      <td>1</td>\n",
       "      <td>3</td>\n",
       "      <td>1</td>\n",
       "      <td>2</td>\n",
       "      <td>0</td>\n",
       "      <td>2</td>\n",
       "      <td>...</td>\n",
       "      <td>A</td>\n",
       "      <td>A</td>\n",
       "      <td>A</td>\n",
       "      <td>B</td>\n",
       "      <td>A</td>\n",
       "      <td>A</td>\n",
       "      <td>B</td>\n",
       "      <td>A</td>\n",
       "      <td>B</td>\n",
       "      <td>B</td>\n",
       "    </tr>\n",
       "    <tr>\n",
       "      <th>4</th>\n",
       "      <td>210051353021</td>\n",
       "      <td>2021</td>\n",
       "      <td>2</td>\n",
       "      <td>F</td>\n",
       "      <td>1</td>\n",
       "      <td>3</td>\n",
       "      <td>1</td>\n",
       "      <td>2</td>\n",
       "      <td>0</td>\n",
       "      <td>2</td>\n",
       "      <td>...</td>\n",
       "      <td>B</td>\n",
       "      <td>A</td>\n",
       "      <td>A</td>\n",
       "      <td>B</td>\n",
       "      <td>A</td>\n",
       "      <td>B</td>\n",
       "      <td>E</td>\n",
       "      <td>A</td>\n",
       "      <td>B</td>\n",
       "      <td>B</td>\n",
       "    </tr>\n",
       "  </tbody>\n",
       "</table>\n",
       "<p>5 rows × 76 columns</p>\n",
       "</div>"
      ],
      "text/plain": [
       "   NU_INSCRICAO  NU_ANO  TP_FAIXA_ETARIA TP_SEXO  TP_ESTADO_CIVIL  \\\n",
       "0  210053865474    2021                5       F                1   \n",
       "1  210052384164    2021               12       M                1   \n",
       "2  210052589243    2021               13       F                3   \n",
       "3  210052128335    2021                3       M                1   \n",
       "4  210051353021    2021                2       F                1   \n",
       "\n",
       "   TP_COR_RACA  TP_NACIONALIDADE  TP_ST_CONCLUSAO  TP_ANO_CONCLUIU  TP_ESCOLA  \\\n",
       "0            1                 1                1                3          1   \n",
       "1            1                 1                1               11          1   \n",
       "2            1                 1                1               15          1   \n",
       "3            3                 1                2                0          2   \n",
       "4            3                 1                2                0          2   \n",
       "\n",
       "   ...  Q016  Q017  Q018 Q019  Q020 Q021  Q022  Q023  Q024  Q025  \n",
       "0  ...     A     A     A    B     A    A     B     A     B     B  \n",
       "1  ...     A     A     A    B     A    A     C     A     A     A  \n",
       "2  ...     B     A     A    B     A    A     C     B     B     B  \n",
       "3  ...     A     A     A    B     A    A     B     A     B     B  \n",
       "4  ...     B     A     A    B     A    B     E     A     B     B  \n",
       "\n",
       "[5 rows x 76 columns]"
      ]
     },
     "execution_count": 6,
     "metadata": {},
     "output_type": "execute_result"
    }
   ],
   "source": [
    "enem_df.head()"
   ]
  },
  {
   "cell_type": "code",
   "execution_count": 7,
   "id": "d07c66e2",
   "metadata": {},
   "outputs": [
    {
     "data": {
      "text/plain": [
       "(3389832, 76)"
      ]
     },
     "execution_count": 7,
     "metadata": {},
     "output_type": "execute_result"
    }
   ],
   "source": [
    "enem_df.shape"
   ]
  },
  {
   "cell_type": "code",
   "execution_count": 13,
   "id": "c0a02573",
   "metadata": {},
   "outputs": [
    {
     "data": {
      "text/html": [
       "<div>\n",
       "<style scoped>\n",
       "    .dataframe tbody tr th:only-of-type {\n",
       "        vertical-align: middle;\n",
       "    }\n",
       "\n",
       "    .dataframe tbody tr th {\n",
       "        vertical-align: top;\n",
       "    }\n",
       "\n",
       "    .dataframe thead th {\n",
       "        text-align: right;\n",
       "    }\n",
       "</style>\n",
       "<table border=\"1\" class=\"dataframe\">\n",
       "  <thead>\n",
       "    <tr style=\"text-align: right;\">\n",
       "      <th></th>\n",
       "      <th>NU_INSCRICAO</th>\n",
       "      <th>NU_ANO</th>\n",
       "      <th>TP_FAIXA_ETARIA</th>\n",
       "      <th>TP_ESTADO_CIVIL</th>\n",
       "      <th>TP_COR_RACA</th>\n",
       "      <th>TP_NACIONALIDADE</th>\n",
       "      <th>TP_ST_CONCLUSAO</th>\n",
       "      <th>TP_ANO_CONCLUIU</th>\n",
       "      <th>TP_ESCOLA</th>\n",
       "      <th>TP_ENSINO</th>\n",
       "      <th>...</th>\n",
       "      <th>NU_NOTA_MT</th>\n",
       "      <th>TP_LINGUA</th>\n",
       "      <th>TP_STATUS_REDACAO</th>\n",
       "      <th>NU_NOTA_COMP1</th>\n",
       "      <th>NU_NOTA_COMP2</th>\n",
       "      <th>NU_NOTA_COMP3</th>\n",
       "      <th>NU_NOTA_COMP4</th>\n",
       "      <th>NU_NOTA_COMP5</th>\n",
       "      <th>NU_NOTA_REDACAO</th>\n",
       "      <th>Q005</th>\n",
       "    </tr>\n",
       "  </thead>\n",
       "  <tbody>\n",
       "    <tr>\n",
       "      <th>count</th>\n",
       "      <td>3.389832e+06</td>\n",
       "      <td>3389832.0</td>\n",
       "      <td>3.389832e+06</td>\n",
       "      <td>3.389832e+06</td>\n",
       "      <td>3.389832e+06</td>\n",
       "      <td>3.389832e+06</td>\n",
       "      <td>3.389832e+06</td>\n",
       "      <td>3.389832e+06</td>\n",
       "      <td>3.389832e+06</td>\n",
       "      <td>1.096828e+06</td>\n",
       "      <td>...</td>\n",
       "      <td>2.245844e+06</td>\n",
       "      <td>3.389832e+06</td>\n",
       "      <td>2.378379e+06</td>\n",
       "      <td>2.378379e+06</td>\n",
       "      <td>2.378379e+06</td>\n",
       "      <td>2.378379e+06</td>\n",
       "      <td>2.378379e+06</td>\n",
       "      <td>2.378379e+06</td>\n",
       "      <td>2.378379e+06</td>\n",
       "      <td>3.389830e+06</td>\n",
       "    </tr>\n",
       "    <tr>\n",
       "      <th>mean</th>\n",
       "      <td>2.100527e+11</td>\n",
       "      <td>2021.0</td>\n",
       "      <td>5.306013e+00</td>\n",
       "      <td>1.052073e+00</td>\n",
       "      <td>2.043491e+00</td>\n",
       "      <td>1.027106e+00</td>\n",
       "      <td>1.608430e+00</td>\n",
       "      <td>2.581980e+00</td>\n",
       "      <td>1.396214e+00</td>\n",
       "      <td>1.006295e+00</td>\n",
       "      <td>...</td>\n",
       "      <td>5.350802e+02</td>\n",
       "      <td>4.704640e-01</td>\n",
       "      <td>1.140684e+00</td>\n",
       "      <td>1.192657e+02</td>\n",
       "      <td>1.380269e+02</td>\n",
       "      <td>1.153117e+02</td>\n",
       "      <td>1.281853e+02</td>\n",
       "      <td>1.127109e+02</td>\n",
       "      <td>6.135005e+02</td>\n",
       "      <td>3.739557e+00</td>\n",
       "    </tr>\n",
       "    <tr>\n",
       "      <th>std</th>\n",
       "      <td>9.962403e+05</td>\n",
       "      <td>0.0</td>\n",
       "      <td>3.902871e+00</td>\n",
       "      <td>4.129414e-01</td>\n",
       "      <td>1.022561e+00</td>\n",
       "      <td>2.049293e-01</td>\n",
       "      <td>7.198306e-01</td>\n",
       "      <td>4.278731e+00</td>\n",
       "      <td>5.938455e-01</td>\n",
       "      <td>7.909361e-02</td>\n",
       "      <td>...</td>\n",
       "      <td>1.106267e+02</td>\n",
       "      <td>4.991269e-01</td>\n",
       "      <td>7.910804e-01</td>\n",
       "      <td>3.391962e+01</td>\n",
       "      <td>4.563224e+01</td>\n",
       "      <td>3.634138e+01</td>\n",
       "      <td>3.883252e+01</td>\n",
       "      <td>6.005667e+01</td>\n",
       "      <td>1.907142e+02</td>\n",
       "      <td>1.378942e+00</td>\n",
       "    </tr>\n",
       "    <tr>\n",
       "      <th>min</th>\n",
       "      <td>2.100510e+11</td>\n",
       "      <td>2021.0</td>\n",
       "      <td>1.000000e+00</td>\n",
       "      <td>0.000000e+00</td>\n",
       "      <td>0.000000e+00</td>\n",
       "      <td>0.000000e+00</td>\n",
       "      <td>1.000000e+00</td>\n",
       "      <td>0.000000e+00</td>\n",
       "      <td>1.000000e+00</td>\n",
       "      <td>1.000000e+00</td>\n",
       "      <td>...</td>\n",
       "      <td>0.000000e+00</td>\n",
       "      <td>0.000000e+00</td>\n",
       "      <td>1.000000e+00</td>\n",
       "      <td>0.000000e+00</td>\n",
       "      <td>0.000000e+00</td>\n",
       "      <td>0.000000e+00</td>\n",
       "      <td>0.000000e+00</td>\n",
       "      <td>0.000000e+00</td>\n",
       "      <td>0.000000e+00</td>\n",
       "      <td>1.000000e+00</td>\n",
       "    </tr>\n",
       "    <tr>\n",
       "      <th>25%</th>\n",
       "      <td>2.100519e+11</td>\n",
       "      <td>2021.0</td>\n",
       "      <td>2.000000e+00</td>\n",
       "      <td>1.000000e+00</td>\n",
       "      <td>1.000000e+00</td>\n",
       "      <td>1.000000e+00</td>\n",
       "      <td>1.000000e+00</td>\n",
       "      <td>0.000000e+00</td>\n",
       "      <td>1.000000e+00</td>\n",
       "      <td>1.000000e+00</td>\n",
       "      <td>...</td>\n",
       "      <td>4.447000e+02</td>\n",
       "      <td>0.000000e+00</td>\n",
       "      <td>1.000000e+00</td>\n",
       "      <td>1.000000e+02</td>\n",
       "      <td>1.200000e+02</td>\n",
       "      <td>1.000000e+02</td>\n",
       "      <td>1.200000e+02</td>\n",
       "      <td>8.000000e+01</td>\n",
       "      <td>5.200000e+02</td>\n",
       "      <td>3.000000e+00</td>\n",
       "    </tr>\n",
       "    <tr>\n",
       "      <th>50%</th>\n",
       "      <td>2.100527e+11</td>\n",
       "      <td>2021.0</td>\n",
       "      <td>4.000000e+00</td>\n",
       "      <td>1.000000e+00</td>\n",
       "      <td>2.000000e+00</td>\n",
       "      <td>1.000000e+00</td>\n",
       "      <td>1.000000e+00</td>\n",
       "      <td>0.000000e+00</td>\n",
       "      <td>1.000000e+00</td>\n",
       "      <td>1.000000e+00</td>\n",
       "      <td>...</td>\n",
       "      <td>5.154000e+02</td>\n",
       "      <td>0.000000e+00</td>\n",
       "      <td>1.000000e+00</td>\n",
       "      <td>1.200000e+02</td>\n",
       "      <td>1.200000e+02</td>\n",
       "      <td>1.200000e+02</td>\n",
       "      <td>1.200000e+02</td>\n",
       "      <td>1.200000e+02</td>\n",
       "      <td>6.000000e+02</td>\n",
       "      <td>4.000000e+00</td>\n",
       "    </tr>\n",
       "    <tr>\n",
       "      <th>75%</th>\n",
       "      <td>2.100536e+11</td>\n",
       "      <td>2021.0</td>\n",
       "      <td>7.000000e+00</td>\n",
       "      <td>1.000000e+00</td>\n",
       "      <td>3.000000e+00</td>\n",
       "      <td>1.000000e+00</td>\n",
       "      <td>2.000000e+00</td>\n",
       "      <td>3.000000e+00</td>\n",
       "      <td>2.000000e+00</td>\n",
       "      <td>1.000000e+00</td>\n",
       "      <td>...</td>\n",
       "      <td>6.139000e+02</td>\n",
       "      <td>1.000000e+00</td>\n",
       "      <td>1.000000e+00</td>\n",
       "      <td>1.400000e+02</td>\n",
       "      <td>1.800000e+02</td>\n",
       "      <td>1.400000e+02</td>\n",
       "      <td>1.600000e+02</td>\n",
       "      <td>1.600000e+02</td>\n",
       "      <td>7.400000e+02</td>\n",
       "      <td>4.000000e+00</td>\n",
       "    </tr>\n",
       "    <tr>\n",
       "      <th>max</th>\n",
       "      <td>2.100545e+11</td>\n",
       "      <td>2021.0</td>\n",
       "      <td>2.000000e+01</td>\n",
       "      <td>4.000000e+00</td>\n",
       "      <td>6.000000e+00</td>\n",
       "      <td>4.000000e+00</td>\n",
       "      <td>4.000000e+00</td>\n",
       "      <td>1.500000e+01</td>\n",
       "      <td>3.000000e+00</td>\n",
       "      <td>2.000000e+00</td>\n",
       "      <td>...</td>\n",
       "      <td>9.531000e+02</td>\n",
       "      <td>1.000000e+00</td>\n",
       "      <td>9.000000e+00</td>\n",
       "      <td>2.000000e+02</td>\n",
       "      <td>2.000000e+02</td>\n",
       "      <td>2.000000e+02</td>\n",
       "      <td>2.000000e+02</td>\n",
       "      <td>2.000000e+02</td>\n",
       "      <td>1.000000e+03</td>\n",
       "      <td>2.000000e+01</td>\n",
       "    </tr>\n",
       "  </tbody>\n",
       "</table>\n",
       "<p>8 rows × 39 columns</p>\n",
       "</div>"
      ],
      "text/plain": [
       "       NU_INSCRICAO     NU_ANO  TP_FAIXA_ETARIA  TP_ESTADO_CIVIL  \\\n",
       "count  3.389832e+06  3389832.0     3.389832e+06     3.389832e+06   \n",
       "mean   2.100527e+11     2021.0     5.306013e+00     1.052073e+00   \n",
       "std    9.962403e+05        0.0     3.902871e+00     4.129414e-01   \n",
       "min    2.100510e+11     2021.0     1.000000e+00     0.000000e+00   \n",
       "25%    2.100519e+11     2021.0     2.000000e+00     1.000000e+00   \n",
       "50%    2.100527e+11     2021.0     4.000000e+00     1.000000e+00   \n",
       "75%    2.100536e+11     2021.0     7.000000e+00     1.000000e+00   \n",
       "max    2.100545e+11     2021.0     2.000000e+01     4.000000e+00   \n",
       "\n",
       "        TP_COR_RACA  TP_NACIONALIDADE  TP_ST_CONCLUSAO  TP_ANO_CONCLUIU  \\\n",
       "count  3.389832e+06      3.389832e+06     3.389832e+06     3.389832e+06   \n",
       "mean   2.043491e+00      1.027106e+00     1.608430e+00     2.581980e+00   \n",
       "std    1.022561e+00      2.049293e-01     7.198306e-01     4.278731e+00   \n",
       "min    0.000000e+00      0.000000e+00     1.000000e+00     0.000000e+00   \n",
       "25%    1.000000e+00      1.000000e+00     1.000000e+00     0.000000e+00   \n",
       "50%    2.000000e+00      1.000000e+00     1.000000e+00     0.000000e+00   \n",
       "75%    3.000000e+00      1.000000e+00     2.000000e+00     3.000000e+00   \n",
       "max    6.000000e+00      4.000000e+00     4.000000e+00     1.500000e+01   \n",
       "\n",
       "          TP_ESCOLA     TP_ENSINO  ...    NU_NOTA_MT     TP_LINGUA  \\\n",
       "count  3.389832e+06  1.096828e+06  ...  2.245844e+06  3.389832e+06   \n",
       "mean   1.396214e+00  1.006295e+00  ...  5.350802e+02  4.704640e-01   \n",
       "std    5.938455e-01  7.909361e-02  ...  1.106267e+02  4.991269e-01   \n",
       "min    1.000000e+00  1.000000e+00  ...  0.000000e+00  0.000000e+00   \n",
       "25%    1.000000e+00  1.000000e+00  ...  4.447000e+02  0.000000e+00   \n",
       "50%    1.000000e+00  1.000000e+00  ...  5.154000e+02  0.000000e+00   \n",
       "75%    2.000000e+00  1.000000e+00  ...  6.139000e+02  1.000000e+00   \n",
       "max    3.000000e+00  2.000000e+00  ...  9.531000e+02  1.000000e+00   \n",
       "\n",
       "       TP_STATUS_REDACAO  NU_NOTA_COMP1  NU_NOTA_COMP2  NU_NOTA_COMP3  \\\n",
       "count       2.378379e+06   2.378379e+06   2.378379e+06   2.378379e+06   \n",
       "mean        1.140684e+00   1.192657e+02   1.380269e+02   1.153117e+02   \n",
       "std         7.910804e-01   3.391962e+01   4.563224e+01   3.634138e+01   \n",
       "min         1.000000e+00   0.000000e+00   0.000000e+00   0.000000e+00   \n",
       "25%         1.000000e+00   1.000000e+02   1.200000e+02   1.000000e+02   \n",
       "50%         1.000000e+00   1.200000e+02   1.200000e+02   1.200000e+02   \n",
       "75%         1.000000e+00   1.400000e+02   1.800000e+02   1.400000e+02   \n",
       "max         9.000000e+00   2.000000e+02   2.000000e+02   2.000000e+02   \n",
       "\n",
       "       NU_NOTA_COMP4  NU_NOTA_COMP5  NU_NOTA_REDACAO          Q005  \n",
       "count   2.378379e+06   2.378379e+06     2.378379e+06  3.389830e+06  \n",
       "mean    1.281853e+02   1.127109e+02     6.135005e+02  3.739557e+00  \n",
       "std     3.883252e+01   6.005667e+01     1.907142e+02  1.378942e+00  \n",
       "min     0.000000e+00   0.000000e+00     0.000000e+00  1.000000e+00  \n",
       "25%     1.200000e+02   8.000000e+01     5.200000e+02  3.000000e+00  \n",
       "50%     1.200000e+02   1.200000e+02     6.000000e+02  4.000000e+00  \n",
       "75%     1.600000e+02   1.600000e+02     7.400000e+02  4.000000e+00  \n",
       "max     2.000000e+02   2.000000e+02     1.000000e+03  2.000000e+01  \n",
       "\n",
       "[8 rows x 39 columns]"
      ]
     },
     "execution_count": 13,
     "metadata": {},
     "output_type": "execute_result"
    }
   ],
   "source": [
    "enem_df.describe()\n",
    "# aparentemente só aplicável em variáveis quantitativas e já normalizadas"
   ]
  },
  {
   "cell_type": "markdown",
   "id": "86956c66",
   "metadata": {},
   "source": [
    "### Consolidando base de dados"
   ]
  },
  {
   "cell_type": "markdown",
   "id": "8aeffc83",
   "metadata": {},
   "source": [
    "#### Tratando de valores nulos(?)"
   ]
  },
  {
   "cell_type": "code",
   "execution_count": null,
   "id": "8bd5970f",
   "metadata": {},
   "outputs": [],
   "source": []
  },
  {
   "cell_type": "markdown",
   "id": "2c82c7ac",
   "metadata": {},
   "source": [
    "#  <a name=\"secao_3\">3. Análise Descritiva</a>\n",
    "<hr style='border: 1px solid cyan;'>\n",
    "\n",
    "[voltar ao índice](#indice)"
   ]
  },
  {
   "cell_type": "markdown",
   "id": "b5bc25a4",
   "metadata": {},
   "source": [
    "#### Tratar features qualitativas(?)"
   ]
  },
  {
   "cell_type": "code",
   "execution_count": null,
   "id": "1bbefa7e",
   "metadata": {},
   "outputs": [],
   "source": []
  },
  {
   "cell_type": "markdown",
   "id": "2361abe6",
   "metadata": {},
   "source": [
    "#### Tratar features quantitativas(?)"
   ]
  },
  {
   "cell_type": "code",
   "execution_count": null,
   "id": "a3aa3d82",
   "metadata": {},
   "outputs": [],
   "source": []
  },
  {
   "cell_type": "markdown",
   "id": "425d9075",
   "metadata": {},
   "source": [
    "#### Descrição\n",
    "* .describe().round(2)\n"
   ]
  },
  {
   "cell_type": "markdown",
   "id": "3d9d9de5",
   "metadata": {},
   "source": [
    "#### Coeficiente de Variação(?)"
   ]
  },
  {
   "cell_type": "code",
   "execution_count": null,
   "id": "2b8f36a1",
   "metadata": {},
   "outputs": [],
   "source": []
  },
  {
   "cell_type": "markdown",
   "id": "823dc22f",
   "metadata": {},
   "source": [
    "#### Matriz (simples) de correlação"
   ]
  },
  {
   "cell_type": "code",
   "execution_count": 3,
   "id": "16fb4ab9",
   "metadata": {},
   "outputs": [],
   "source": [
    "# x.corr().round(2)"
   ]
  },
  {
   "cell_type": "markdown",
   "id": "28fdcf42",
   "metadata": {},
   "source": [
    "#  <a name=\"secao_4\">4. Comportamento da Variável Dependente (Y)</a>\n",
    "[voltar ao índice](#indice)\n",
    "\n",
    "<hr style='border: 1px solid cyan;'>"
   ]
  },
  {
   "cell_type": "markdown",
   "id": "7e095789",
   "metadata": {},
   "source": [
    "* Às principais features .value_counts(normalize=True)\n",
    "* box plot inicial\n",
    "* algum gráfico de linha (a depender do tipo de dado)\n",
    "* etc."
   ]
  },
  {
   "cell_type": "code",
   "execution_count": null,
   "id": "69112efb",
   "metadata": {},
   "outputs": [],
   "source": []
  },
  {
   "cell_type": "markdown",
   "id": "4f7dfd8d",
   "metadata": {},
   "source": [
    "#  <a name=\"secao_5\">5.  Análise de Outliers</a>\n",
    "<hr style='border: 1px solid cyan;'>\n",
    "\n",
    "[voltar ao índice](#indice)"
   ]
  },
  {
   "cell_type": "markdown",
   "id": "e36688df",
   "metadata": {},
   "source": [
    "Para a exclusão de outliers, usarei como regra os valores abaixo de Q1 - 1.5 x Amplitude e valores acima de Q3 + 1.5 x Amplitude. Sendo que a amplitude é definida pelo valor Q1-Q3."
   ]
  },
  {
   "cell_type": "markdown",
   "id": "ca8e35d4",
   "metadata": {},
   "source": [
    "* função de limites\n",
    "* função de exclusão\n",
    "* função de gráficos boxplot, histograma e boxplot bivariada"
   ]
  },
  {
   "cell_type": "markdown",
   "id": "15ce9101",
   "metadata": {},
   "source": [
    "#### Feature x\n",
    "(aplicar as funções necessárias para cada feature)"
   ]
  },
  {
   "cell_type": "markdown",
   "id": "08bde0eb",
   "metadata": {},
   "source": [
    "#  <a name=\"secao_6\">6. Gráficos</a>\n",
    "<hr style='border: 1px solid cyan;'>\n",
    "\n",
    "[voltar ao índice](#indice)"
   ]
  },
  {
   "cell_type": "markdown",
   "id": "33a2c54d",
   "metadata": {},
   "source": [
    "A aplicação de alguns gráficos que sejam pertinentes, tais como:\n",
    "* Distribuição de frequências (distplot)\n",
    "* Gráficos de dispersão (pairplot). Variável dependente x variáveis explicativas.\n",
    "* Jointplot é outra opção.\n",
    "* lmplot. Plota uma reta de regressão entre duas variáveis juntamente com a dispersão entre elas.\n",
    "* Análise bivariada com gráficos de barras ou boxplot* \n",
    "* Gráfico de matriz de correlação (essencial)\n",
    "* Para dados geográficos/geolocalização density_mapbox, etc.\n"
   ]
  },
  {
   "cell_type": "markdown",
   "id": "02865d01",
   "metadata": {},
   "source": [
    "#  <a name=\"secao_7\">7. Transformação dos Dados</a>\n",
    "<hr style='border: 1px solid cyan;'>\n",
    "\n",
    "[voltar ao índice](#indice)"
   ]
  },
  {
   "cell_type": "markdown",
   "id": "f1f3354c",
   "metadata": {},
   "source": [
    "AVISO: <i>Desta etapa em diante, os passos são aplicáveis somente se for utilizar os dados para criação de um modelo linear ou para outros modelos de machine learning</i>"
   ]
  },
  {
   "cell_type": "markdown",
   "id": "10cb2a1e",
   "metadata": {},
   "source": [
    "* ex: transformar valores numéricos em valor logarítimo com np.log(feature)\n",
    "* ex normalizar(?)\n",
    "* boolean para binário\n",
    "* criar variáveis dummies para valores de texto\n",
    "* outros exemplos a serem recuperados de encoding"
   ]
  },
  {
   "cell_type": "code",
   "execution_count": null,
   "id": "5b7257bd",
   "metadata": {},
   "outputs": [],
   "source": []
  },
  {
   "cell_type": "markdown",
   "id": "a5444f47",
   "metadata": {},
   "source": [
    "Aplicar distplot para observar a nova distribuição de Frequências, ou outro tipo de gráfico a fim de observar os resultados das transformações."
   ]
  },
  {
   "cell_type": "markdown",
   "id": "f00980b7",
   "metadata": {},
   "source": [
    "#  <a name=\"secao_x\">X. Outras seções/etapas a depender do objetivo</a>\n",
    "<hr style='border: 1px solid cyan;'>\n",
    "\n",
    "[voltar ao índice](#indice)"
   ]
  },
  {
   "cell_type": "markdown",
   "id": "e33e6a99",
   "metadata": {},
   "source": [
    "8. Verificar Relação Linear"
   ]
  },
  {
   "cell_type": "markdown",
   "id": "416dd291",
   "metadata": {},
   "source": [
    "9. Separar o dataset entre dados de treino e de teste <br>\n",
    "importar train_test_split ou separar manualmente"
   ]
  },
  {
   "cell_type": "markdown",
   "id": "bebf58c8",
   "metadata": {},
   "source": [
    "10. importar, estanciar e treinar um ou mais modelos, seja este de Machine Learning tradicional ou deep learning (NLP, DNN, etc).\n",
    "<br> Alguns modelos tradicionais de Machine Learning:\n",
    "\n",
    "###### modelos de regressão linear (prever valores contínuos):\n",
    "* Regressão Linear\n",
    "* Regressão Polinomial\n",
    "* Ridge Regression\n",
    "* Lasso Regression\n",
    "* Stepwise Regression\n",
    "* Regressão Linar Bayesiana\n",
    "    \n",
    "###### modelos de clusterização (agrupar objetos similares):\n",
    "* K-Means\n",
    "* Mean-Shift\n",
    "* DBSCAN\n",
    "* EM/GMM\n",
    "* Hierarchical Clustering\n",
    "    \n",
    "###### modelos de classificação (identificar a qual categoria pertence)\n",
    "* Logistic Regression\n",
    "* Stochastic Gradient Descent\n",
    "* Naive Bayes\n",
    "* K-Nearest Neighbors (KNN)\n",
    "* Decision Tree\n",
    "* Random Forest\n",
    "* Support Vector Machine (SVM)"
   ]
  },
  {
   "cell_type": "markdown",
   "id": "03d27a63",
   "metadata": {},
   "source": [
    "11. comparar os modelos e selecionar o mais eficiente\n",
    "* Os métodos podem variar conforme os modelos"
   ]
  },
  {
   "cell_type": "markdown",
   "id": "6db2c420",
   "metadata": {},
   "source": [
    "12. Métricas para avaliar o modelo estimado\n",
    "* ex: modelo.summary()\n",
    "* usar biblioteca statsmodel (import statsmodels.api as sm)\n",
    "* Obter previsões e Coeficiente de Regressão. Por fim interpretar os coeficientes estimados\n",
    "\n",
    "* Modelos de Regressão:\n",
    "    * Mean Absolute Error (MAE)\n",
    "    * Mean Squared Error (MSE)\n",
    "    * Root Mean Squared Error (RMSE)\n",
    "    * R² (R-Squared) <br>\n",
    "    \n",
    "* Modelos de Classificação:\n",
    "    * Accuracy\n",
    "    * Confusion Matrix (não é uma métrica, mas para alguns pode ser fundamental)\n",
    "    * Precision and Recall\n",
    "    * F1-Score\n",
    "    * AU-ROC <br>\n",
    "    \n",
    "* Modelos de Clusterização\n",
    "    * Rand Index\n",
    "    * Mutual Information Based Scores\n",
    "    * Homogeneity, completeness and V-measure\n",
    "    * Fowlkes-Mallows Score\n",
    "    * Silhouette Coefficent\n",
    "    * Calinski-Harabsz Index\n",
    "    * Contingency Matrix\n",
    "    * Pair Confusion Matrix"
   ]
  },
  {
   "cell_type": "markdown",
   "id": "2829cdb9",
   "metadata": {},
   "source": [
    "13. Modificando e reavaliando modelo após ajuste"
   ]
  },
  {
   "cell_type": "markdown",
   "id": "aaa9fdaa",
   "metadata": {},
   "source": [
    "14. Efetuar análises gráficas dos resultados do modelo\n",
    "* ex: scatterplot entre valores estimados e reais\n",
    "* ex: distplot para análise de resíduos (y_treino - y_previsto_treino)"
   ]
  },
  {
   "cell_type": "markdown",
   "id": "b6ed5eec",
   "metadata": {},
   "source": [
    "15. Criar um simulador simples"
   ]
  },
  {
   "cell_type": "markdown",
   "id": "b7967819",
   "metadata": {},
   "source": [
    "16. Salvar o modelo estimado"
   ]
  },
  {
   "cell_type": "markdown",
   "id": "42801c9f",
   "metadata": {},
   "source": [
    "17. Efetuar o deploy do projeto\n",
    "ex:\n",
    "* Passo 1 -> Criar arquivo do Modelo(joblib)\n",
    "* Passo 2 -> Escolher a forma de deploy:\n",
    "    * Arquivo Executável + TKinter\n",
    "    * Deploy em um Microsite (Flask)\n",
    "    * Deploy apenas para uso direto (Streamlit)\n",
    "* Passo 3 -> Outro arquivo Python (pode ser Jupyter ou PyCharm)\n",
    "* Passo 4 -> Importar streamlit e criar código\n",
    "* Passo 5 -> Atribuir ao botão o carregamento do modelo\n",
    "* Passo 6 -> Deploy feito"
   ]
  },
  {
   "cell_type": "markdown",
   "id": "ca1d4511",
   "metadata": {},
   "source": [
    "18. Exportar dados criando dashboard PowerBI"
   ]
  },
  {
   "cell_type": "markdown",
   "id": "2762e393",
   "metadata": {},
   "source": [
    "#  <a name=\"conclusao\">Conclusão</a>\n",
    "<hr style='border: 1px solid cyan;'>\n",
    "\n",
    "[voltar ao índice](#indice)\n",
    "\n",
    "Ipsum aliquam adipisci adipisci neque labore. Numquam sit eius etincidunt dolore ipsum amet consectetur. Etincidunt ut quiquia labore sed. Amet eius dolore amet labore tempora dolorem magnam. Amet porro est consectetur magnam aliquam dolorem. Modi est consectetur est quiquia. Adipisci aliquam est consectetur tempora."
   ]
  }
 ],
 "metadata": {
  "kernelspec": {
   "display_name": "Python 3 (ipykernel)",
   "language": "python",
   "name": "python3"
  },
  "language_info": {
   "codemirror_mode": {
    "name": "ipython",
    "version": 3
   },
   "file_extension": ".py",
   "mimetype": "text/x-python",
   "name": "python",
   "nbconvert_exporter": "python",
   "pygments_lexer": "ipython3",
   "version": "3.9.7"
  }
 },
 "nbformat": 4,
 "nbformat_minor": 5
}
