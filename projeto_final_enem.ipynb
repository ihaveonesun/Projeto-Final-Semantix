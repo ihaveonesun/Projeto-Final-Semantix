{
 "cells": [
  {
   "cell_type": "markdown",
   "id": "817daad8",
   "metadata": {},
   "source": [
    "<h1 style='color: green; font-size: 36px; font-weight: bold;'>Data Science - Análise do Enem</h1>"
   ]
  },
  {
   "cell_type": "markdown",
   "id": "9113c594",
   "metadata": {},
   "source": [
    "# <a name='descricao'>Descrição</a>\n",
    "Esta análise visa observar o impacto causado, devido a fatores socioeconômicos, no desempenho da prova objetiva de <b>Matemática e Suas Tecnologias</b>, sendo esta uma constituinte do Exame Nacional do Ensino Médio (Enem).<br><br> Para essa análise, será utiliza como amostra alunos dentre 16 a 18 anos, concluintes recentes, ou próximos de concluir, o ensino médio regular.<br>\n",
    "A base de dados utilizada foram os microdados do Enem efetuados no ano de 2021. Disponibilizados pelo Inep no link:\n",
    "https://www.gov.br/inep/pt-br/acesso-a-informacao/dados-abertos/microdados/enem"
   ]
  },
  {
   "cell_type": "markdown",
   "id": "892f38af",
   "metadata": {},
   "source": [
    "### Descrição das features selecionadas:\n",
    "<ul style='font-size: 14px; line-height: 1,5 ; text-align: justify;'>\n",
    "    <li><b>TP_FAIXA_ETARIA</b> - Faixa etária separada por categorias que vão de 1 (menor de 17 anos) até 20 (maior de 70 anos)</li>\n",
    "    <li><b>TP_SEXO</b> - Sexo separado em M (masculino) e F (feminino).</li>\n",
    "    <li><b>TP_COR_RACA</b> - Cor/raça, representado por números. Sendo 0, não informado; 1, branca; 2, preta; 3, parda; 4, amarela; 5, indigena; 6, não dispões da informação.</li>\n",
    "    <li><b>TP_ST_CONCLUSAO</b> - Situação de conclusão do Ensino Médio. Sendo 1, já concluí o Ensino Médio; 2, cursando e conclusão em 2021; 3, cursando e concluirá após 2021; 4, Não concluiu e não está cursando.</li>\n",
    "    <li><b>TP_ESCOLA</b> - Tipo de escola do Ensino Médio. Sendo 1, não respondeu; 2, Pública; 3, privada.</li>    \n",
    "    <li><b>NO_MUNICIPIO_ESC</b> - Nome do município da escola.</li>    \n",
    "    <li><b>SG_UF_ESC</b> - Sigla da Unidade da Federação da escola.</li>\n",
    "    <li><b>TP_LOCALIZACAO_ESC</b> - Localização da escola, se é área urbana ou rural.</li>\n",
    "    <li><b>NU_NOTA_MT</b> - Nota da prova de matemática.</li>\n",
    "    <li><b>Q0XX</b> - Questões do questionário socioeconômico, que vão de Q001 até Q025.</li>\n",
    "</ul>"
   ]
  },
  {
   "cell_type": "markdown",
   "id": "1862d2cb",
   "metadata": {},
   "source": [
    "# <a name='indice'>Índice</a>\n",
    "* [Descrição](#descricao)\n",
    "* [Índice](#indice)\n",
    "* [1. Importando Bibliotecas e Base de Dados](#secao_1)\n",
    "* [2. Conhecendo e Tratando a Base de Dados](#secao_2)\n",
    "* [3. Análise Descritiva](#secao_3)\n",
    "* [4. Comportamento da Variável Dependente](#secao_4)\n",
    "* [5. Análise de Outliers](#secao_5)\n",
    "* [6. Gráficos](#secao_6) \n",
    "* [7. Transformação dos Dados](#secao_7)\n",
    "* [X. Outras seções/etapas a depender do objetivo](#secao_x)\n",
    "* [Conclusão](#conclusao)"
   ]
  },
  {
   "cell_type": "markdown",
   "id": "31e57ed4",
   "metadata": {},
   "source": [
    "#  <a name=\"secao_1\"><font style='font-size: 30px;'>1 Importando Bibliotecas e Base de Dados</font></a>\n",
    "<hr style='border: 1px solid cyan;'>\n",
    "\n",
    "[voltar ao índice](#indice)"
   ]
  },
  {
   "cell_type": "code",
   "execution_count": 1,
   "id": "e9263a00",
   "metadata": {},
   "outputs": [],
   "source": [
    "import pandas as pd"
   ]
  },
  {
   "cell_type": "code",
   "execution_count": 2,
   "id": "aff6071b",
   "metadata": {},
   "outputs": [],
   "source": [
    "enem_df = pd.read_csv('dados/MICRODADOS_ENEM_2021.csv', encoding = 'latin_1', sep=';')"
   ]
  },
  {
   "cell_type": "markdown",
   "id": "4f17def4",
   "metadata": {},
   "source": [
    "#  <a name=\"secao_2\">2. Conhecendo e Tratando a Base de Dados</a>\n",
    "<hr style='border: 1px solid cyan;'>\n",
    "\n",
    "[voltar ao índice](#indice)"
   ]
  },
  {
   "cell_type": "markdown",
   "id": "9d2b1f3b",
   "metadata": {},
   "source": [
    "#### Informações gerais"
   ]
  },
  {
   "cell_type": "markdown",
   "id": "0bd8102d",
   "metadata": {},
   "source": [
    "Aplicar: \n",
    "* .info()\n",
    "* .head()\n",
    "* .shape\n",
    "* .dtypes\n",
    "* <font color='red'>.describe()</font> Obs: aplicável a variáveis quantitativas e já normalizadas\n",
    "* etc\n",
    "\n",
    "Obs: texto em vermelho são parâmetros a serem incluídos no modelo de notebook, visando sua melhoria"
   ]
  },
  {
   "cell_type": "code",
   "execution_count": 3,
   "id": "16544b91",
   "metadata": {},
   "outputs": [
    {
     "name": "stdout",
     "output_type": "stream",
     "text": [
      "<class 'pandas.core.frame.DataFrame'>\n",
      "RangeIndex: 3389832 entries, 0 to 3389831\n",
      "Data columns (total 76 columns):\n",
      " #   Column                  Non-Null Count    Dtype  \n",
      "---  ------                  --------------    -----  \n",
      " 0   NU_INSCRICAO            3389832 non-null  int64  \n",
      " 1   NU_ANO                  3389832 non-null  int64  \n",
      " 2   TP_FAIXA_ETARIA         3389832 non-null  int64  \n",
      " 3   TP_SEXO                 3389832 non-null  object \n",
      " 4   TP_ESTADO_CIVIL         3389832 non-null  int64  \n",
      " 5   TP_COR_RACA             3389832 non-null  int64  \n",
      " 6   TP_NACIONALIDADE        3389832 non-null  int64  \n",
      " 7   TP_ST_CONCLUSAO         3389832 non-null  int64  \n",
      " 8   TP_ANO_CONCLUIU         3389832 non-null  int64  \n",
      " 9   TP_ESCOLA               3389832 non-null  int64  \n",
      " 10  TP_ENSINO               1096828 non-null  float64\n",
      " 11  IN_TREINEIRO            3389832 non-null  int64  \n",
      " 12  CO_MUNICIPIO_ESC        813806 non-null   float64\n",
      " 13  NO_MUNICIPIO_ESC        813806 non-null   object \n",
      " 14  CO_UF_ESC               813806 non-null   float64\n",
      " 15  SG_UF_ESC               813806 non-null   object \n",
      " 16  TP_DEPENDENCIA_ADM_ESC  813806 non-null   float64\n",
      " 17  TP_LOCALIZACAO_ESC      813806 non-null   float64\n",
      " 18  TP_SIT_FUNC_ESC         813806 non-null   float64\n",
      " 19  CO_MUNICIPIO_PROVA      3389832 non-null  int64  \n",
      " 20  NO_MUNICIPIO_PROVA      3389832 non-null  object \n",
      " 21  CO_UF_PROVA             3389832 non-null  int64  \n",
      " 22  SG_UF_PROVA             3389832 non-null  object \n",
      " 23  TP_PRESENCA_CN          3389832 non-null  int64  \n",
      " 24  TP_PRESENCA_CH          3389832 non-null  int64  \n",
      " 25  TP_PRESENCA_LC          3389832 non-null  int64  \n",
      " 26  TP_PRESENCA_MT          3389832 non-null  int64  \n",
      " 27  CO_PROVA_CN             2245844 non-null  float64\n",
      " 28  CO_PROVA_CH             2378379 non-null  float64\n",
      " 29  CO_PROVA_LC             2378379 non-null  float64\n",
      " 30  CO_PROVA_MT             2245844 non-null  float64\n",
      " 31  NU_NOTA_CN              2245844 non-null  float64\n",
      " 32  NU_NOTA_CH              2378379 non-null  float64\n",
      " 33  NU_NOTA_LC              2378379 non-null  float64\n",
      " 34  NU_NOTA_MT              2245844 non-null  float64\n",
      " 35  TX_RESPOSTAS_CN         2245844 non-null  object \n",
      " 36  TX_RESPOSTAS_CH         2378379 non-null  object \n",
      " 37  TX_RESPOSTAS_LC         2378379 non-null  object \n",
      " 38  TX_RESPOSTAS_MT         2245844 non-null  object \n",
      " 39  TP_LINGUA               3389832 non-null  int64  \n",
      " 40  TX_GABARITO_CN          2245844 non-null  object \n",
      " 41  TX_GABARITO_CH          2378379 non-null  object \n",
      " 42  TX_GABARITO_LC          2378379 non-null  object \n",
      " 43  TX_GABARITO_MT          2245844 non-null  object \n",
      " 44  TP_STATUS_REDACAO       2378379 non-null  float64\n",
      " 45  NU_NOTA_COMP1           2378379 non-null  float64\n",
      " 46  NU_NOTA_COMP2           2378379 non-null  float64\n",
      " 47  NU_NOTA_COMP3           2378379 non-null  float64\n",
      " 48  NU_NOTA_COMP4           2378379 non-null  float64\n",
      " 49  NU_NOTA_COMP5           2378379 non-null  float64\n",
      " 50  NU_NOTA_REDACAO         2378379 non-null  float64\n",
      " 51  Q001                    3389830 non-null  object \n",
      " 52  Q002                    3389830 non-null  object \n",
      " 53  Q003                    3389830 non-null  object \n",
      " 54  Q004                    3389830 non-null  object \n",
      " 55  Q005                    3389830 non-null  float64\n",
      " 56  Q006                    3389830 non-null  object \n",
      " 57  Q007                    3389830 non-null  object \n",
      " 58  Q008                    3389830 non-null  object \n",
      " 59  Q009                    3389830 non-null  object \n",
      " 60  Q010                    3389830 non-null  object \n",
      " 61  Q011                    3389830 non-null  object \n",
      " 62  Q012                    3389830 non-null  object \n",
      " 63  Q013                    3389830 non-null  object \n",
      " 64  Q014                    3389830 non-null  object \n",
      " 65  Q015                    3389830 non-null  object \n",
      " 66  Q016                    3389830 non-null  object \n",
      " 67  Q017                    3389830 non-null  object \n",
      " 68  Q018                    3389830 non-null  object \n",
      " 69  Q019                    3389830 non-null  object \n",
      " 70  Q020                    3389830 non-null  object \n",
      " 71  Q021                    3389830 non-null  object \n",
      " 72  Q022                    3389830 non-null  object \n",
      " 73  Q023                    3389830 non-null  object \n",
      " 74  Q024                    3389830 non-null  object \n",
      " 75  Q025                    3389830 non-null  object \n",
      "dtypes: float64(22), int64(17), object(37)\n",
      "memory usage: 1.9+ GB\n"
     ]
    }
   ],
   "source": [
    "enem_df.info(show_counts=True)"
   ]
  },
  {
   "cell_type": "code",
   "execution_count": 4,
   "id": "4ef534af",
   "metadata": {},
   "outputs": [
    {
     "data": {
      "text/html": [
       "<div>\n",
       "<style scoped>\n",
       "    .dataframe tbody tr th:only-of-type {\n",
       "        vertical-align: middle;\n",
       "    }\n",
       "\n",
       "    .dataframe tbody tr th {\n",
       "        vertical-align: top;\n",
       "    }\n",
       "\n",
       "    .dataframe thead th {\n",
       "        text-align: right;\n",
       "    }\n",
       "</style>\n",
       "<table border=\"1\" class=\"dataframe\">\n",
       "  <thead>\n",
       "    <tr style=\"text-align: right;\">\n",
       "      <th></th>\n",
       "      <th>NU_INSCRICAO</th>\n",
       "      <th>NU_ANO</th>\n",
       "      <th>TP_FAIXA_ETARIA</th>\n",
       "      <th>TP_SEXO</th>\n",
       "      <th>TP_ESTADO_CIVIL</th>\n",
       "      <th>TP_COR_RACA</th>\n",
       "      <th>TP_NACIONALIDADE</th>\n",
       "      <th>TP_ST_CONCLUSAO</th>\n",
       "      <th>TP_ANO_CONCLUIU</th>\n",
       "      <th>TP_ESCOLA</th>\n",
       "      <th>...</th>\n",
       "      <th>Q016</th>\n",
       "      <th>Q017</th>\n",
       "      <th>Q018</th>\n",
       "      <th>Q019</th>\n",
       "      <th>Q020</th>\n",
       "      <th>Q021</th>\n",
       "      <th>Q022</th>\n",
       "      <th>Q023</th>\n",
       "      <th>Q024</th>\n",
       "      <th>Q025</th>\n",
       "    </tr>\n",
       "  </thead>\n",
       "  <tbody>\n",
       "    <tr>\n",
       "      <th>0</th>\n",
       "      <td>210053865474</td>\n",
       "      <td>2021</td>\n",
       "      <td>5</td>\n",
       "      <td>F</td>\n",
       "      <td>1</td>\n",
       "      <td>1</td>\n",
       "      <td>1</td>\n",
       "      <td>1</td>\n",
       "      <td>3</td>\n",
       "      <td>1</td>\n",
       "      <td>...</td>\n",
       "      <td>A</td>\n",
       "      <td>A</td>\n",
       "      <td>A</td>\n",
       "      <td>B</td>\n",
       "      <td>A</td>\n",
       "      <td>A</td>\n",
       "      <td>B</td>\n",
       "      <td>A</td>\n",
       "      <td>B</td>\n",
       "      <td>B</td>\n",
       "    </tr>\n",
       "    <tr>\n",
       "      <th>1</th>\n",
       "      <td>210052384164</td>\n",
       "      <td>2021</td>\n",
       "      <td>12</td>\n",
       "      <td>M</td>\n",
       "      <td>1</td>\n",
       "      <td>1</td>\n",
       "      <td>1</td>\n",
       "      <td>1</td>\n",
       "      <td>11</td>\n",
       "      <td>1</td>\n",
       "      <td>...</td>\n",
       "      <td>A</td>\n",
       "      <td>A</td>\n",
       "      <td>A</td>\n",
       "      <td>B</td>\n",
       "      <td>A</td>\n",
       "      <td>A</td>\n",
       "      <td>C</td>\n",
       "      <td>A</td>\n",
       "      <td>A</td>\n",
       "      <td>A</td>\n",
       "    </tr>\n",
       "    <tr>\n",
       "      <th>2</th>\n",
       "      <td>210052589243</td>\n",
       "      <td>2021</td>\n",
       "      <td>13</td>\n",
       "      <td>F</td>\n",
       "      <td>3</td>\n",
       "      <td>1</td>\n",
       "      <td>1</td>\n",
       "      <td>1</td>\n",
       "      <td>15</td>\n",
       "      <td>1</td>\n",
       "      <td>...</td>\n",
       "      <td>B</td>\n",
       "      <td>A</td>\n",
       "      <td>A</td>\n",
       "      <td>B</td>\n",
       "      <td>A</td>\n",
       "      <td>A</td>\n",
       "      <td>C</td>\n",
       "      <td>B</td>\n",
       "      <td>B</td>\n",
       "      <td>B</td>\n",
       "    </tr>\n",
       "    <tr>\n",
       "      <th>3</th>\n",
       "      <td>210052128335</td>\n",
       "      <td>2021</td>\n",
       "      <td>3</td>\n",
       "      <td>M</td>\n",
       "      <td>1</td>\n",
       "      <td>3</td>\n",
       "      <td>1</td>\n",
       "      <td>2</td>\n",
       "      <td>0</td>\n",
       "      <td>2</td>\n",
       "      <td>...</td>\n",
       "      <td>A</td>\n",
       "      <td>A</td>\n",
       "      <td>A</td>\n",
       "      <td>B</td>\n",
       "      <td>A</td>\n",
       "      <td>A</td>\n",
       "      <td>B</td>\n",
       "      <td>A</td>\n",
       "      <td>B</td>\n",
       "      <td>B</td>\n",
       "    </tr>\n",
       "    <tr>\n",
       "      <th>4</th>\n",
       "      <td>210051353021</td>\n",
       "      <td>2021</td>\n",
       "      <td>2</td>\n",
       "      <td>F</td>\n",
       "      <td>1</td>\n",
       "      <td>3</td>\n",
       "      <td>1</td>\n",
       "      <td>2</td>\n",
       "      <td>0</td>\n",
       "      <td>2</td>\n",
       "      <td>...</td>\n",
       "      <td>B</td>\n",
       "      <td>A</td>\n",
       "      <td>A</td>\n",
       "      <td>B</td>\n",
       "      <td>A</td>\n",
       "      <td>B</td>\n",
       "      <td>E</td>\n",
       "      <td>A</td>\n",
       "      <td>B</td>\n",
       "      <td>B</td>\n",
       "    </tr>\n",
       "  </tbody>\n",
       "</table>\n",
       "<p>5 rows × 76 columns</p>\n",
       "</div>"
      ],
      "text/plain": [
       "   NU_INSCRICAO  NU_ANO  TP_FAIXA_ETARIA TP_SEXO  TP_ESTADO_CIVIL  \\\n",
       "0  210053865474    2021                5       F                1   \n",
       "1  210052384164    2021               12       M                1   \n",
       "2  210052589243    2021               13       F                3   \n",
       "3  210052128335    2021                3       M                1   \n",
       "4  210051353021    2021                2       F                1   \n",
       "\n",
       "   TP_COR_RACA  TP_NACIONALIDADE  TP_ST_CONCLUSAO  TP_ANO_CONCLUIU  TP_ESCOLA  \\\n",
       "0            1                 1                1                3          1   \n",
       "1            1                 1                1               11          1   \n",
       "2            1                 1                1               15          1   \n",
       "3            3                 1                2                0          2   \n",
       "4            3                 1                2                0          2   \n",
       "\n",
       "   ...  Q016  Q017  Q018 Q019  Q020 Q021  Q022  Q023  Q024  Q025  \n",
       "0  ...     A     A     A    B     A    A     B     A     B     B  \n",
       "1  ...     A     A     A    B     A    A     C     A     A     A  \n",
       "2  ...     B     A     A    B     A    A     C     B     B     B  \n",
       "3  ...     A     A     A    B     A    A     B     A     B     B  \n",
       "4  ...     B     A     A    B     A    B     E     A     B     B  \n",
       "\n",
       "[5 rows x 76 columns]"
      ]
     },
     "execution_count": 4,
     "metadata": {},
     "output_type": "execute_result"
    }
   ],
   "source": [
    "enem_df.head()"
   ]
  },
  {
   "cell_type": "code",
   "execution_count": 5,
   "id": "2dc10f1a",
   "metadata": {},
   "outputs": [
    {
     "data": {
      "text/plain": [
       "(3389832, 76)"
      ]
     },
     "execution_count": 5,
     "metadata": {},
     "output_type": "execute_result"
    }
   ],
   "source": [
    "enem_df.shape"
   ]
  },
  {
   "cell_type": "markdown",
   "id": "fd075d4d",
   "metadata": {},
   "source": [
    "#### Obtendo amostra e features pertinentes"
   ]
  },
  {
   "cell_type": "code",
   "execution_count": 6,
   "id": "e0084f43",
   "metadata": {},
   "outputs": [
    {
     "data": {
      "text/plain": [
       "Index(['NU_INSCRICAO', 'NU_ANO', 'TP_FAIXA_ETARIA', 'TP_SEXO',\n",
       "       'TP_ESTADO_CIVIL', 'TP_COR_RACA', 'TP_NACIONALIDADE', 'TP_ST_CONCLUSAO',\n",
       "       'TP_ANO_CONCLUIU', 'TP_ESCOLA', 'TP_ENSINO', 'IN_TREINEIRO',\n",
       "       'CO_MUNICIPIO_ESC', 'NO_MUNICIPIO_ESC', 'CO_UF_ESC', 'SG_UF_ESC',\n",
       "       'TP_DEPENDENCIA_ADM_ESC', 'TP_LOCALIZACAO_ESC', 'TP_SIT_FUNC_ESC',\n",
       "       'CO_MUNICIPIO_PROVA', 'NO_MUNICIPIO_PROVA', 'CO_UF_PROVA',\n",
       "       'SG_UF_PROVA', 'TP_PRESENCA_CN', 'TP_PRESENCA_CH', 'TP_PRESENCA_LC',\n",
       "       'TP_PRESENCA_MT', 'CO_PROVA_CN', 'CO_PROVA_CH', 'CO_PROVA_LC',\n",
       "       'CO_PROVA_MT', 'NU_NOTA_CN', 'NU_NOTA_CH', 'NU_NOTA_LC', 'NU_NOTA_MT',\n",
       "       'TX_RESPOSTAS_CN', 'TX_RESPOSTAS_CH', 'TX_RESPOSTAS_LC',\n",
       "       'TX_RESPOSTAS_MT', 'TP_LINGUA', 'TX_GABARITO_CN', 'TX_GABARITO_CH',\n",
       "       'TX_GABARITO_LC', 'TX_GABARITO_MT', 'TP_STATUS_REDACAO',\n",
       "       'NU_NOTA_COMP1', 'NU_NOTA_COMP2', 'NU_NOTA_COMP3', 'NU_NOTA_COMP4',\n",
       "       'NU_NOTA_COMP5', 'NU_NOTA_REDACAO', 'Q001', 'Q002', 'Q003', 'Q004',\n",
       "       'Q005', 'Q006', 'Q007', 'Q008', 'Q009', 'Q010', 'Q011', 'Q012', 'Q013',\n",
       "       'Q014', 'Q015', 'Q016', 'Q017', 'Q018', 'Q019', 'Q020', 'Q021', 'Q022',\n",
       "       'Q023', 'Q024', 'Q025'],\n",
       "      dtype='object')"
      ]
     },
     "execution_count": 6,
     "metadata": {},
     "output_type": "execute_result"
    }
   ],
   "source": [
    "enem_df.columns"
   ]
  },
  {
   "cell_type": "markdown",
   "id": "273fa50d",
   "metadata": {},
   "source": [
    "* Serão selecionada as features as quais sejam pertinentes para o objetivo de análise. <br>\n",
    "* Apesar de desejável, a coluna TP_ENSINO contém muitos valores faltantes, portanto não será inclusa. <br>\n",
    "* A feature TP_PRESENCA_MT possui certa redundância, havendo baixa quantidade de eliminados na prova, permite que esssa feature seja melhor representada pela NU_NOTA_MT. Pois todos que compareceram à prova, obtiveram nota. <br>\n",
    "* O conjunto de features que diz respeito ao local de aplicação das provas não será utilizado nesta análise. Em contrapartida, aquelas que dizem respeito ao local de estudos do aluno, serão utilizadas, porém há muitos registros faltantes, portanto haverá de receber um outro direcionamento."
   ]
  },
  {
   "cell_type": "code",
   "execution_count": 7,
   "id": "74ebbe81",
   "metadata": {},
   "outputs": [],
   "source": [
    "alunos_df = enem_df[['TP_FAIXA_ETARIA', 'TP_SEXO',\n",
    "       'TP_COR_RACA', 'TP_ST_CONCLUSAO','TP_ESCOLA', \n",
    "       'NO_MUNICIPIO_ESC', 'SG_UF_ESC',\n",
    "       'TP_LOCALIZACAO_ESC', 'NU_NOTA_MT',      \n",
    "       'Q001', 'Q002', 'Q003', 'Q004',\n",
    "       'Q005', 'Q006', 'Q007', 'Q008', 'Q009', 'Q010', 'Q011', 'Q012', 'Q013',\n",
    "       'Q014', 'Q015', 'Q016', 'Q017', 'Q018', 'Q019', 'Q020', 'Q021', 'Q022',\n",
    "       'Q023', 'Q024', 'Q025']]"
   ]
  },
  {
   "cell_type": "markdown",
   "id": "86956c66",
   "metadata": {},
   "source": [
    "### Consolidando base de dados"
   ]
  },
  {
   "cell_type": "markdown",
   "id": "00c65c7d",
   "metadata": {},
   "source": [
    "#### Selecionando alunos na faixa etária entre 17 e 18 anos"
   ]
  },
  {
   "cell_type": "code",
   "execution_count": 108,
   "id": "89776913",
   "metadata": {},
   "outputs": [],
   "source": [
    "mat_alunos_df = alunos_df.loc[(alunos_df['TP_FAIXA_ETARIA']>=2) & (alunos_df['TP_FAIXA_ETARIA']<=3)]"
   ]
  },
  {
   "cell_type": "markdown",
   "id": "f059ab3f",
   "metadata": {},
   "source": [
    "#### Filtrar para concluintes recentes e próximos de concluir"
   ]
  },
  {
   "cell_type": "code",
   "execution_count": 109,
   "id": "3eab2b92",
   "metadata": {},
   "outputs": [],
   "source": [
    "mat_alunos_df = mat_alunos_df.loc[(mat_alunos_df['TP_ST_CONCLUSAO']<=2)]"
   ]
  },
  {
   "cell_type": "markdown",
   "id": "6b9ac56a",
   "metadata": {},
   "source": [
    "#### Excluir valores faltantes da coluna NU_NOTA_MT"
   ]
  },
  {
   "cell_type": "code",
   "execution_count": 110,
   "id": "a5080e80",
   "metadata": {},
   "outputs": [],
   "source": [
    "mat_alunos_df = mat_alunos_df.dropna(subset='NU_NOTA_MT')"
   ]
  },
  {
   "cell_type": "markdown",
   "id": "569f5394",
   "metadata": {},
   "source": [
    "#### Excluir demais valores faltantes"
   ]
  },
  {
   "cell_type": "markdown",
   "id": "304941c4",
   "metadata": {},
   "source": [
    "Como há muitos valores faltantes quanto às features de localização (CO_MUNICIPIO_ESC, NO_MUNICIPIO_ESC, CO_UF_ESC, SG_UF_ESC, TP_DEPENDENCIA_ADM_ESC e TP_LOCALIZACAO_ESC), a partir deste ponto há algumas alternativas. Citando duas delas:\n",
    "* preencher os valores faltantes;\n",
    "* descartar esses registros.\n",
    "\n",
    "Devido a riqueza e variabilidade das features, seguirei com a segunda das alternativas. A qual, apesar de reduzir ainda mais o dataset, evitaria possíveis distorções e conclusões errôneas nas etapas seguintes."
   ]
  },
  {
   "cell_type": "code",
   "execution_count": 111,
   "id": "3a3c53e7",
   "metadata": {},
   "outputs": [],
   "source": [
    "mat_alunos_df = mat_alunos_df.dropna()"
   ]
  },
  {
   "cell_type": "markdown",
   "id": "b5bc25a4",
   "metadata": {},
   "source": [
    "### Tratar features qualitativas"
   ]
  },
  {
   "cell_type": "code",
   "execution_count": 112,
   "id": "1bbefa7e",
   "metadata": {},
   "outputs": [
    {
     "data": {
      "text/plain": [
       "Index(['TP_FAIXA_ETARIA', 'TP_SEXO', 'TP_COR_RACA', 'TP_ST_CONCLUSAO',\n",
       "       'TP_ESCOLA', 'NO_MUNICIPIO_ESC', 'SG_UF_ESC', 'TP_LOCALIZACAO_ESC',\n",
       "       'NU_NOTA_MT', 'Q001', 'Q002', 'Q003', 'Q004', 'Q005', 'Q006', 'Q007',\n",
       "       'Q008', 'Q009', 'Q010', 'Q011', 'Q012', 'Q013', 'Q014', 'Q015', 'Q016',\n",
       "       'Q017', 'Q018', 'Q019', 'Q020', 'Q021', 'Q022', 'Q023', 'Q024', 'Q025'],\n",
       "      dtype='object')"
      ]
     },
     "execution_count": 112,
     "metadata": {},
     "output_type": "execute_result"
    }
   ],
   "source": [
    "mat_alunos_df.columns"
   ]
  },
  {
   "cell_type": "markdown",
   "id": "76876a0e",
   "metadata": {},
   "source": [
    "#### TP_FAIXA_ETARIA"
   ]
  },
  {
   "cell_type": "code",
   "execution_count": 113,
   "id": "b4ff5883",
   "metadata": {},
   "outputs": [],
   "source": [
    "mat_alunos_df.TP_FAIXA_ETARIA = mat_alunos_df.TP_FAIXA_ETARIA.map({2:'17', 3:'18'})"
   ]
  },
  {
   "cell_type": "markdown",
   "id": "8e29dc22",
   "metadata": {},
   "source": [
    "#### TP_SEXO"
   ]
  },
  {
   "cell_type": "code",
   "execution_count": 114,
   "id": "aa82ffbc",
   "metadata": {},
   "outputs": [],
   "source": [
    "mat_alunos_df.TP_SEXO = mat_alunos_df.TP_SEXO.map({'M':'Masculino', 'F':'Feminino'})"
   ]
  },
  {
   "cell_type": "markdown",
   "id": "f48f0f76",
   "metadata": {},
   "source": [
    "#### TP_COR_RACA"
   ]
  },
  {
   "cell_type": "code",
   "execution_count": 115,
   "id": "d87fcf28",
   "metadata": {},
   "outputs": [],
   "source": [
    "mat_alunos_df.TP_COR_RACA = mat_alunos_df.TP_COR_RACA.map(\n",
    "    {0:'Não declarado', 1:'Branca', 2:'Preta', 3:'Parda', 4:'Amarela', 5:'Indígena', 6:'Não dispõe da informação'})"
   ]
  },
  {
   "cell_type": "markdown",
   "id": "a9dc1f24",
   "metadata": {},
   "source": [
    "#### TP_ST_CONCLUSAO"
   ]
  },
  {
   "cell_type": "code",
   "execution_count": 116,
   "id": "aa9d1e52",
   "metadata": {},
   "outputs": [
    {
     "data": {
      "text/plain": [
       "array([2], dtype=int64)"
      ]
     },
     "execution_count": 116,
     "metadata": {},
     "output_type": "execute_result"
    }
   ],
   "source": [
    "mat_alunos_df.TP_ST_CONCLUSAO.unique()"
   ]
  },
  {
   "cell_type": "markdown",
   "id": "2a3b4234",
   "metadata": {},
   "source": [
    "Como a seleção pela faixa etária acabou excluíndo alunos que já concluíram o ensino médio, a feature TP_ST_CONCLUSAO acabou se tornando redundante e será excluída."
   ]
  },
  {
   "cell_type": "code",
   "execution_count": 117,
   "id": "c0e36300",
   "metadata": {},
   "outputs": [],
   "source": [
    "mat_alunos_df.drop(columns='TP_ST_CONCLUSAO', axis=1, inplace=True)"
   ]
  },
  {
   "cell_type": "markdown",
   "id": "2104a9b1",
   "metadata": {},
   "source": [
    "#### TP_ESCOLA"
   ]
  },
  {
   "cell_type": "code",
   "execution_count": 118,
   "id": "5ce9cc3c",
   "metadata": {},
   "outputs": [],
   "source": [
    "mat_alunos_df.TP_ESCOLA = mat_alunos_df.TP_ESCOLA.map({2:'Público', 3:'Privada'})"
   ]
  },
  {
   "cell_type": "markdown",
   "id": "91f791d0",
   "metadata": {},
   "source": [
    "#### TP_LOCALIZACAO_ESC"
   ]
  },
  {
   "cell_type": "code",
   "execution_count": 119,
   "id": "47bada86",
   "metadata": {},
   "outputs": [],
   "source": [
    "mat_alunos_df.TP_LOCALIZACAO_ESC = mat_alunos_df.TP_LOCALIZACAO_ESC.map({1:'Urbana', 2:'Rural'})"
   ]
  },
  {
   "cell_type": "markdown",
   "id": "a2c95ae3",
   "metadata": {},
   "source": [
    "#### Tratando algumas das features do questionário socioeconomico"
   ]
  },
  {
   "cell_type": "code",
   "execution_count": 310,
   "id": "b9410000",
   "metadata": {},
   "outputs": [],
   "source": [
    "quest_alunos_df = mat_alunos_df.copy()"
   ]
  },
  {
   "cell_type": "code",
   "execution_count": 311,
   "id": "cbf91737",
   "metadata": {},
   "outputs": [],
   "source": [
    "dicionario_renda_Q006 = {'A':'Nenhuma Renda', 'B':'Até R$ 1.100,00', 'C':'Até R$ 1.650,00', \n",
    "                         'D':'Até R$ 2.200,00', 'E':'Até R$ 2.750,00', 'F':'Até R$ 3.300,00',\n",
    "                         'G':'Até R$ 4.400,00', 'H':'Até R$ 5.500,00', 'I':'Até R$ 6.600,00',\n",
    "                         'J':'Até R$ 7.700,00', 'K':'Até R$ 8.800,00', 'L':'Até R$ 9.900,00',\n",
    "                         'M':'Até R$ 11.000,00', 'N':'Até R$ 13.200,00','O':'Até R$ 16.500,00',\n",
    "                         'P':'Até R$ 22.000,00', 'Q':'Acima de R$ 22.000,00'}"
   ]
  },
  {
   "cell_type": "code",
   "execution_count": 312,
   "id": "2d21c8eb",
   "metadata": {},
   "outputs": [],
   "source": [
    "quest_alunos_df.Q006 = quest_alunos_df.Q006.map(dicionario_renda_Q006)"
   ]
  },
  {
   "cell_type": "markdown",
   "id": "ad79e629",
   "metadata": {},
   "source": [
    "#### Aplicando função map no questionário socioeconomico de Q008 à Q025"
   ]
  },
  {
   "cell_type": "code",
   "execution_count": 301,
   "id": "49f36ad1",
   "metadata": {},
   "outputs": [],
   "source": [
    "def auto_map_questionario(questao):\n",
    "    '''Essa função reconhece o número de alternativas na questão e aplica o map correto, \n",
    "    entre sim e não ou as cinco alternativas disponíveis'''\n",
    "    \n",
    "    qtde_alternativas = len(quest_alunos_df[questao].unique())\n",
    "    \n",
    "    if qtde_alternativas == 5:\n",
    "        quest_alunos_df[questao] = quest_alunos_df[questao].map({'A':'0', 'B':'1', 'C':'2', 'D':'3', 'E':'4 ou mais'})\n",
    "        \n",
    "    elif qtde_alternativas == 2:\n",
    "        quest_alunos_df[questao] = quest_alunos_df[questao].map({'A':'Não', 'B':'Sim'})\n",
    "        \n",
    "    else:\n",
    "        print('Erro')   "
   ]
  },
  {
   "cell_type": "code",
   "execution_count": 313,
   "id": "54ec1499",
   "metadata": {},
   "outputs": [],
   "source": [
    "# recriando o nome da questão e repassando como argumento para a função auto_map_questionario(), com loop de 8 à 26\n",
    "\n",
    "_=[auto_map_questionario('Q0{:002}'.format(i)) for i in range(8, 26)]"
   ]
  },
  {
   "cell_type": "code",
   "execution_count": null,
   "id": "7df6116e",
   "metadata": {},
   "outputs": [],
   "source": []
  },
  {
   "cell_type": "markdown",
   "id": "2361abe6",
   "metadata": {},
   "source": [
    "#### Lista de variaveis quantitativas"
   ]
  },
  {
   "cell_type": "code",
   "execution_count": 327,
   "id": "9513db27",
   "metadata": {},
   "outputs": [],
   "source": [
    "lista_variaveis = list(quest_alunos_df.columns)"
   ]
  },
  {
   "cell_type": "code",
   "execution_count": 332,
   "id": "72aaee90",
   "metadata": {},
   "outputs": [],
   "source": [
    "lista_variaveis_quantitativas = ['NU_NOTA_MT','Q005']"
   ]
  },
  {
   "cell_type": "code",
   "execution_count": 342,
   "id": "6b92ebc7",
   "metadata": {},
   "outputs": [],
   "source": [
    "# quest_alunos_df[lista_variaveis_quantitativas]"
   ]
  },
  {
   "cell_type": "markdown",
   "id": "636e9b82",
   "metadata": {},
   "source": [
    "#### Lista de variáveis qualitativas"
   ]
  },
  {
   "cell_type": "markdown",
   "id": "7abbf473",
   "metadata": {},
   "source": [
    "Q005 e NU_NOTA_MT são as únicas features quantitativas, talvez devesse transformar a renda para quantitativa também."
   ]
  },
  {
   "cell_type": "code",
   "execution_count": 336,
   "id": "9784c787",
   "metadata": {},
   "outputs": [],
   "source": [
    "lista_variaveis_qualitativas = [var for var in lista_variaveis if var not in lista_variaveis_quantitativas]"
   ]
  },
  {
   "cell_type": "code",
   "execution_count": 343,
   "id": "7f2eb48d",
   "metadata": {},
   "outputs": [],
   "source": [
    "# quest_alunos_df[lista_variaveis_qualitativas].head(3)"
   ]
  },
  {
   "cell_type": "markdown",
   "id": "2c82c7ac",
   "metadata": {},
   "source": [
    "#  <a name=\"secao_3\">3. Análise Descritiva</a>\n",
    "<hr style='border: 1px solid cyan;'>\n",
    "\n",
    "[voltar ao índice](#indice)"
   ]
  },
  {
   "cell_type": "markdown",
   "id": "425d9075",
   "metadata": {},
   "source": [
    "#### Descrição\n",
    "* .describe().round(2)\n"
   ]
  },
  {
   "cell_type": "code",
   "execution_count": 348,
   "id": "03eed267",
   "metadata": {},
   "outputs": [
    {
     "data": {
      "text/html": [
       "<div>\n",
       "<style scoped>\n",
       "    .dataframe tbody tr th:only-of-type {\n",
       "        vertical-align: middle;\n",
       "    }\n",
       "\n",
       "    .dataframe tbody tr th {\n",
       "        vertical-align: top;\n",
       "    }\n",
       "\n",
       "    .dataframe thead th {\n",
       "        text-align: right;\n",
       "    }\n",
       "</style>\n",
       "<table border=\"1\" class=\"dataframe\">\n",
       "  <thead>\n",
       "    <tr style=\"text-align: right;\">\n",
       "      <th></th>\n",
       "      <th>NU_NOTA_MT</th>\n",
       "      <th>Q005</th>\n",
       "    </tr>\n",
       "  </thead>\n",
       "  <tbody>\n",
       "    <tr>\n",
       "      <th>count</th>\n",
       "      <td>533953.00</td>\n",
       "      <td>533953.00</td>\n",
       "    </tr>\n",
       "    <tr>\n",
       "      <th>mean</th>\n",
       "      <td>548.56</td>\n",
       "      <td>3.87</td>\n",
       "    </tr>\n",
       "    <tr>\n",
       "      <th>std</th>\n",
       "      <td>112.05</td>\n",
       "      <td>1.16</td>\n",
       "    </tr>\n",
       "    <tr>\n",
       "      <th>min</th>\n",
       "      <td>0.00</td>\n",
       "      <td>1.00</td>\n",
       "    </tr>\n",
       "    <tr>\n",
       "      <th>25%</th>\n",
       "      <td>455.20</td>\n",
       "      <td>3.00</td>\n",
       "    </tr>\n",
       "    <tr>\n",
       "      <th>50%</th>\n",
       "      <td>534.10</td>\n",
       "      <td>4.00</td>\n",
       "    </tr>\n",
       "    <tr>\n",
       "      <th>75%</th>\n",
       "      <td>631.50</td>\n",
       "      <td>4.00</td>\n",
       "    </tr>\n",
       "    <tr>\n",
       "      <th>max</th>\n",
       "      <td>953.10</td>\n",
       "      <td>20.00</td>\n",
       "    </tr>\n",
       "  </tbody>\n",
       "</table>\n",
       "</div>"
      ],
      "text/plain": [
       "       NU_NOTA_MT       Q005\n",
       "count   533953.00  533953.00\n",
       "mean       548.56       3.87\n",
       "std        112.05       1.16\n",
       "min          0.00       1.00\n",
       "25%        455.20       3.00\n",
       "50%        534.10       4.00\n",
       "75%        631.50       4.00\n",
       "max        953.10      20.00"
      ]
     },
     "execution_count": 348,
     "metadata": {},
     "output_type": "execute_result"
    }
   ],
   "source": [
    "quest_alunos_df[lista_variaveis_quantitativas].describe().round(2)"
   ]
  },
  {
   "cell_type": "code",
   "execution_count": 347,
   "id": "c53c013c",
   "metadata": {},
   "outputs": [
    {
     "data": {
      "text/html": [
       "<div>\n",
       "<style scoped>\n",
       "    .dataframe tbody tr th:only-of-type {\n",
       "        vertical-align: middle;\n",
       "    }\n",
       "\n",
       "    .dataframe tbody tr th {\n",
       "        vertical-align: top;\n",
       "    }\n",
       "\n",
       "    .dataframe thead th {\n",
       "        text-align: right;\n",
       "    }\n",
       "</style>\n",
       "<table border=\"1\" class=\"dataframe\">\n",
       "  <thead>\n",
       "    <tr style=\"text-align: right;\">\n",
       "      <th></th>\n",
       "      <th>TP_FAIXA_ETARIA</th>\n",
       "      <th>TP_SEXO</th>\n",
       "      <th>TP_COR_RACA</th>\n",
       "      <th>TP_ESCOLA</th>\n",
       "      <th>NO_MUNICIPIO_ESC</th>\n",
       "      <th>SG_UF_ESC</th>\n",
       "      <th>TP_LOCALIZACAO_ESC</th>\n",
       "      <th>Q001</th>\n",
       "      <th>Q002</th>\n",
       "      <th>Q003</th>\n",
       "      <th>...</th>\n",
       "      <th>Q016</th>\n",
       "      <th>Q017</th>\n",
       "      <th>Q018</th>\n",
       "      <th>Q019</th>\n",
       "      <th>Q020</th>\n",
       "      <th>Q021</th>\n",
       "      <th>Q022</th>\n",
       "      <th>Q023</th>\n",
       "      <th>Q024</th>\n",
       "      <th>Q025</th>\n",
       "    </tr>\n",
       "  </thead>\n",
       "  <tbody>\n",
       "    <tr>\n",
       "      <th>count</th>\n",
       "      <td>533953</td>\n",
       "      <td>533953</td>\n",
       "      <td>533953</td>\n",
       "      <td>533953</td>\n",
       "      <td>533953</td>\n",
       "      <td>533953</td>\n",
       "      <td>533953</td>\n",
       "      <td>533953</td>\n",
       "      <td>533953</td>\n",
       "      <td>533953</td>\n",
       "      <td>...</td>\n",
       "      <td>533953</td>\n",
       "      <td>533953</td>\n",
       "      <td>533953</td>\n",
       "      <td>533953</td>\n",
       "      <td>533953</td>\n",
       "      <td>533953</td>\n",
       "      <td>533953</td>\n",
       "      <td>533953</td>\n",
       "      <td>533953</td>\n",
       "      <td>533953</td>\n",
       "    </tr>\n",
       "    <tr>\n",
       "      <th>unique</th>\n",
       "      <td>2</td>\n",
       "      <td>2</td>\n",
       "      <td>6</td>\n",
       "      <td>2</td>\n",
       "      <td>5205</td>\n",
       "      <td>27</td>\n",
       "      <td>2</td>\n",
       "      <td>8</td>\n",
       "      <td>8</td>\n",
       "      <td>6</td>\n",
       "      <td>...</td>\n",
       "      <td>5</td>\n",
       "      <td>5</td>\n",
       "      <td>2</td>\n",
       "      <td>5</td>\n",
       "      <td>2</td>\n",
       "      <td>2</td>\n",
       "      <td>5</td>\n",
       "      <td>2</td>\n",
       "      <td>5</td>\n",
       "      <td>2</td>\n",
       "    </tr>\n",
       "    <tr>\n",
       "      <th>top</th>\n",
       "      <td>17</td>\n",
       "      <td>Feminino</td>\n",
       "      <td>Branca</td>\n",
       "      <td>Público</td>\n",
       "      <td>São Paulo</td>\n",
       "      <td>SP</td>\n",
       "      <td>Urbana</td>\n",
       "      <td>E</td>\n",
       "      <td>E</td>\n",
       "      <td>D</td>\n",
       "      <td>...</td>\n",
       "      <td>1</td>\n",
       "      <td>0</td>\n",
       "      <td>Não</td>\n",
       "      <td>1</td>\n",
       "      <td>Não</td>\n",
       "      <td>Não</td>\n",
       "      <td>3</td>\n",
       "      <td>Não</td>\n",
       "      <td>1</td>\n",
       "      <td>Sim</td>\n",
       "    </tr>\n",
       "    <tr>\n",
       "      <th>freq</th>\n",
       "      <td>280764</td>\n",
       "      <td>304794</td>\n",
       "      <td>270199</td>\n",
       "      <td>383307</td>\n",
       "      <td>30586</td>\n",
       "      <td>109722</td>\n",
       "      <td>518244</td>\n",
       "      <td>176999</td>\n",
       "      <td>198188</td>\n",
       "      <td>147649</td>\n",
       "      <td>...</td>\n",
       "      <td>329501</td>\n",
       "      <td>505954</td>\n",
       "      <td>341141</td>\n",
       "      <td>293697</td>\n",
       "      <td>399203</td>\n",
       "      <td>363961</td>\n",
       "      <td>188656</td>\n",
       "      <td>419598</td>\n",
       "      <td>224974</td>\n",
       "      <td>500303</td>\n",
       "    </tr>\n",
       "  </tbody>\n",
       "</table>\n",
       "<p>4 rows × 31 columns</p>\n",
       "</div>"
      ],
      "text/plain": [
       "       TP_FAIXA_ETARIA   TP_SEXO TP_COR_RACA TP_ESCOLA NO_MUNICIPIO_ESC  \\\n",
       "count           533953    533953      533953    533953           533953   \n",
       "unique               2         2           6         2             5205   \n",
       "top                 17  Feminino      Branca   Público        São Paulo   \n",
       "freq            280764    304794      270199    383307            30586   \n",
       "\n",
       "       SG_UF_ESC TP_LOCALIZACAO_ESC    Q001    Q002    Q003  ...    Q016  \\\n",
       "count     533953             533953  533953  533953  533953  ...  533953   \n",
       "unique        27                  2       8       8       6  ...       5   \n",
       "top           SP             Urbana       E       E       D  ...       1   \n",
       "freq      109722             518244  176999  198188  147649  ...  329501   \n",
       "\n",
       "          Q017    Q018    Q019    Q020    Q021    Q022    Q023    Q024    Q025  \n",
       "count   533953  533953  533953  533953  533953  533953  533953  533953  533953  \n",
       "unique       5       2       5       2       2       5       2       5       2  \n",
       "top          0     Não       1     Não     Não       3     Não       1     Sim  \n",
       "freq    505954  341141  293697  399203  363961  188656  419598  224974  500303  \n",
       "\n",
       "[4 rows x 31 columns]"
      ]
     },
     "execution_count": 347,
     "metadata": {},
     "output_type": "execute_result"
    }
   ],
   "source": [
    "quest_alunos_df[lista_variaveis_qualitativas].describe().round(2)"
   ]
  },
  {
   "cell_type": "markdown",
   "id": "3d9d9de5",
   "metadata": {},
   "source": [
    "#### Coeficiente de Variação(?)"
   ]
  },
  {
   "cell_type": "code",
   "execution_count": null,
   "id": "2b8f36a1",
   "metadata": {},
   "outputs": [],
   "source": []
  },
  {
   "cell_type": "markdown",
   "id": "823dc22f",
   "metadata": {},
   "source": [
    "#### Matriz (simples) de correlação"
   ]
  },
  {
   "cell_type": "code",
   "execution_count": 3,
   "id": "16fb4ab9",
   "metadata": {},
   "outputs": [],
   "source": [
    "# x.corr().round(2)"
   ]
  },
  {
   "cell_type": "markdown",
   "id": "28fdcf42",
   "metadata": {},
   "source": [
    "#  <a name=\"secao_4\">4. Comportamento da Variável Dependente (Y)</a>\n",
    "[voltar ao índice](#indice)\n",
    "\n",
    "<hr style='border: 1px solid cyan;'>"
   ]
  },
  {
   "cell_type": "markdown",
   "id": "7e095789",
   "metadata": {},
   "source": [
    "* Às principais features .value_counts(normalize=True)\n",
    "* box plot inicial\n",
    "* algum gráfico de linha (a depender do tipo de dado)\n",
    "* etc."
   ]
  },
  {
   "cell_type": "code",
   "execution_count": null,
   "id": "69112efb",
   "metadata": {},
   "outputs": [],
   "source": []
  },
  {
   "cell_type": "markdown",
   "id": "4f7dfd8d",
   "metadata": {},
   "source": [
    "#  <a name=\"secao_5\">5.  Análise de Outliers</a>\n",
    "<hr style='border: 1px solid cyan;'>\n",
    "\n",
    "[voltar ao índice](#indice)"
   ]
  },
  {
   "cell_type": "markdown",
   "id": "e36688df",
   "metadata": {},
   "source": [
    "Para a exclusão de outliers, usarei como regra os valores abaixo de Q1 - 1.5 x Amplitude e valores acima de Q3 + 1.5 x Amplitude. Sendo que a amplitude é definida pelo valor Q1-Q3."
   ]
  },
  {
   "cell_type": "markdown",
   "id": "ca8e35d4",
   "metadata": {},
   "source": [
    "* função de limites\n",
    "* função de exclusão\n",
    "* função de gráficos boxplot, histograma e boxplot bivariada"
   ]
  },
  {
   "cell_type": "markdown",
   "id": "15ce9101",
   "metadata": {},
   "source": [
    "#### Feature x\n",
    "(aplicar as funções necessárias para cada feature)"
   ]
  },
  {
   "cell_type": "markdown",
   "id": "08bde0eb",
   "metadata": {},
   "source": [
    "#  <a name=\"secao_6\">6. Gráficos</a>\n",
    "<hr style='border: 1px solid cyan;'>\n",
    "\n",
    "[voltar ao índice](#indice)"
   ]
  },
  {
   "cell_type": "markdown",
   "id": "33a2c54d",
   "metadata": {},
   "source": [
    "A aplicação de alguns gráficos que sejam pertinentes, tais como:\n",
    "* Distribuição de frequências (distplot)\n",
    "* Gráficos de dispersão (pairplot). Variável dependente x variáveis explicativas.\n",
    "* Jointplot é outra opção.\n",
    "* lmplot. Plota uma reta de regressão entre duas variáveis juntamente com a dispersão entre elas.\n",
    "* Análise bivariada com gráficos de barras ou boxplot* \n",
    "* Gráfico de matriz de correlação (essencial)\n",
    "* Para dados geográficos/geolocalização density_mapbox, etc.\n"
   ]
  },
  {
   "cell_type": "markdown",
   "id": "02865d01",
   "metadata": {},
   "source": [
    "#  <a name=\"secao_7\">7. Transformação dos Dados</a>\n",
    "<hr style='border: 1px solid cyan;'>\n",
    "\n",
    "[voltar ao índice](#indice)"
   ]
  },
  {
   "cell_type": "markdown",
   "id": "f1f3354c",
   "metadata": {},
   "source": [
    "AVISO: <i>Desta etapa em diante, os passos são aplicáveis somente se for utilizar os dados para criação de um modelo linear ou para outros modelos de machine learning</i>"
   ]
  },
  {
   "cell_type": "markdown",
   "id": "10cb2a1e",
   "metadata": {},
   "source": [
    "* ex: transformar valores numéricos em valor logarítimo com np.log(feature)\n",
    "* ex normalizar(?)\n",
    "* boolean para binário\n",
    "* criar variáveis dummies para valores de texto\n",
    "* outros exemplos a serem recuperados de encoding"
   ]
  },
  {
   "cell_type": "code",
   "execution_count": null,
   "id": "5b7257bd",
   "metadata": {},
   "outputs": [],
   "source": []
  },
  {
   "cell_type": "markdown",
   "id": "a5444f47",
   "metadata": {},
   "source": [
    "Aplicar distplot para observar a nova distribuição de Frequências, ou outro tipo de gráfico a fim de observar os resultados das transformações."
   ]
  },
  {
   "cell_type": "markdown",
   "id": "f00980b7",
   "metadata": {},
   "source": [
    "#  <a name=\"secao_x\">X. Outras seções/etapas a depender do objetivo</a>\n",
    "<hr style='border: 1px solid cyan;'>\n",
    "\n",
    "[voltar ao índice](#indice)"
   ]
  },
  {
   "cell_type": "markdown",
   "id": "e33e6a99",
   "metadata": {},
   "source": [
    "8. Verificar Relação Linear"
   ]
  },
  {
   "cell_type": "markdown",
   "id": "416dd291",
   "metadata": {},
   "source": [
    "9. Separar o dataset entre dados de treino e de teste <br>\n",
    "importar train_test_split ou separar manualmente"
   ]
  },
  {
   "cell_type": "markdown",
   "id": "bebf58c8",
   "metadata": {},
   "source": [
    "10. importar, estanciar e treinar um ou mais modelos, seja este de Machine Learning tradicional ou deep learning (NLP, DNN, etc).\n",
    "<br> Alguns modelos tradicionais de Machine Learning:\n",
    "\n",
    "###### modelos de regressão linear (prever valores contínuos):\n",
    "* Regressão Linear\n",
    "* Regressão Polinomial\n",
    "* Ridge Regression\n",
    "* Lasso Regression\n",
    "* Stepwise Regression\n",
    "* Regressão Linar Bayesiana\n",
    "    \n",
    "###### modelos de clusterização (agrupar objetos similares):\n",
    "* K-Means\n",
    "* Mean-Shift\n",
    "* DBSCAN\n",
    "* EM/GMM\n",
    "* Hierarchical Clustering\n",
    "    \n",
    "###### modelos de classificação (identificar a qual categoria pertence)\n",
    "* Logistic Regression\n",
    "* Stochastic Gradient Descent\n",
    "* Naive Bayes\n",
    "* K-Nearest Neighbors (KNN)\n",
    "* Decision Tree\n",
    "* Random Forest\n",
    "* Support Vector Machine (SVM)"
   ]
  },
  {
   "cell_type": "markdown",
   "id": "03d27a63",
   "metadata": {},
   "source": [
    "11. comparar os modelos e selecionar o mais eficiente\n",
    "* Os métodos podem variar conforme os modelos"
   ]
  },
  {
   "cell_type": "markdown",
   "id": "6db2c420",
   "metadata": {},
   "source": [
    "12. Métricas para avaliar o modelo estimado\n",
    "* ex: modelo.summary()\n",
    "* usar biblioteca statsmodel (import statsmodels.api as sm)\n",
    "* Obter previsões e Coeficiente de Regressão. Por fim interpretar os coeficientes estimados\n",
    "\n",
    "* Modelos de Regressão:\n",
    "    * Mean Absolute Error (MAE)\n",
    "    * Mean Squared Error (MSE)\n",
    "    * Root Mean Squared Error (RMSE)\n",
    "    * R² (R-Squared) <br>\n",
    "    \n",
    "* Modelos de Classificação:\n",
    "    * Accuracy\n",
    "    * Confusion Matrix (não é uma métrica, mas para alguns pode ser fundamental)\n",
    "    * Precision and Recall\n",
    "    * F1-Score\n",
    "    * AU-ROC <br>\n",
    "    \n",
    "* Modelos de Clusterização\n",
    "    * Rand Index\n",
    "    * Mutual Information Based Scores\n",
    "    * Homogeneity, completeness and V-measure\n",
    "    * Fowlkes-Mallows Score\n",
    "    * Silhouette Coefficent\n",
    "    * Calinski-Harabsz Index\n",
    "    * Contingency Matrix\n",
    "    * Pair Confusion Matrix"
   ]
  },
  {
   "cell_type": "markdown",
   "id": "2829cdb9",
   "metadata": {},
   "source": [
    "13. Modificando e reavaliando modelo após ajuste"
   ]
  },
  {
   "cell_type": "markdown",
   "id": "aaa9fdaa",
   "metadata": {},
   "source": [
    "14. Efetuar análises gráficas dos resultados do modelo\n",
    "* ex: scatterplot entre valores estimados e reais\n",
    "* ex: distplot para análise de resíduos (y_treino - y_previsto_treino)"
   ]
  },
  {
   "cell_type": "markdown",
   "id": "b6ed5eec",
   "metadata": {},
   "source": [
    "15. Criar um simulador simples"
   ]
  },
  {
   "cell_type": "markdown",
   "id": "b7967819",
   "metadata": {},
   "source": [
    "16. Salvar o modelo estimado"
   ]
  },
  {
   "cell_type": "markdown",
   "id": "42801c9f",
   "metadata": {},
   "source": [
    "17. Efetuar o deploy do projeto\n",
    "ex:\n",
    "* Passo 1 -> Criar arquivo do Modelo(joblib)\n",
    "* Passo 2 -> Escolher a forma de deploy:\n",
    "    * Arquivo Executável + TKinter\n",
    "    * Deploy em um Microsite (Flask)\n",
    "    * Deploy apenas para uso direto (Streamlit)\n",
    "* Passo 3 -> Outro arquivo Python (pode ser Jupyter ou PyCharm)\n",
    "* Passo 4 -> Importar streamlit e criar código\n",
    "* Passo 5 -> Atribuir ao botão o carregamento do modelo\n",
    "* Passo 6 -> Deploy feito"
   ]
  },
  {
   "cell_type": "markdown",
   "id": "ca1d4511",
   "metadata": {},
   "source": [
    "18. Exportar dados criando dashboard PowerBI"
   ]
  },
  {
   "cell_type": "markdown",
   "id": "2762e393",
   "metadata": {},
   "source": [
    "#  <a name=\"conclusao\">Conclusão</a>\n",
    "<hr style='border: 1px solid cyan;'>\n",
    "\n",
    "[voltar ao índice](#indice)\n",
    "\n",
    "Ipsum aliquam adipisci adipisci neque labore. Numquam sit eius etincidunt dolore ipsum amet consectetur. Etincidunt ut quiquia labore sed. Amet eius dolore amet labore tempora dolorem magnam. Amet porro est consectetur magnam aliquam dolorem. Modi est consectetur est quiquia. Adipisci aliquam est consectetur tempora."
   ]
  }
 ],
 "metadata": {
  "kernelspec": {
   "display_name": "Python 3 (ipykernel)",
   "language": "python",
   "name": "python3"
  },
  "language_info": {
   "codemirror_mode": {
    "name": "ipython",
    "version": 3
   },
   "file_extension": ".py",
   "mimetype": "text/x-python",
   "name": "python",
   "nbconvert_exporter": "python",
   "pygments_lexer": "ipython3",
   "version": "3.9.7"
  }
 },
 "nbformat": 4,
 "nbformat_minor": 5
}
