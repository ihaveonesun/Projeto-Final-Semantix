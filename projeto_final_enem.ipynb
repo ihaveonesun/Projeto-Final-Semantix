{
 "cells": [
  {
   "cell_type": "markdown",
   "id": "817daad8",
   "metadata": {},
   "source": [
    "<h1 style='color: green; font-size: 36px; font-weight: bold;'>Análise do Enem</h1>"
   ]
  },
  {
   "cell_type": "markdown",
   "id": "9113c594",
   "metadata": {},
   "source": [
    "# <a name='descricao'>Descrição</a>\n",
    "Esta análise visa observar o impacto causado, devido a fatores socioeconômicos, no desempenho da prova objetiva de <b>Matemática e Suas Tecnologias</b>, sendo esta uma constituinte do Exame Nacional do Ensino Médio (Enem).<br><br> Para essa análise, será utiliza como amostra alunos dentre 16 a 18 anos, concluintes recentes, ou próximos de concluir, o ensino médio regular.<br>\n",
    "A base de dados utilizada foram os microdados do Enem efetuados no ano de 2021. Disponibilizados pelo Inep no link:\n",
    "https://www.gov.br/inep/pt-br/acesso-a-informacao/dados-abertos/microdados/enem"
   ]
  },
  {
   "cell_type": "markdown",
   "id": "892f38af",
   "metadata": {},
   "source": [
    "### Descrição das features selecionadas:\n",
    "<ul style='font-size: 14px; line-height: 1,5 ; text-align: justify;'>\n",
    "    <li><b>TP_FAIXA_ETARIA</b> - Faixa etária separada por categorias que vão de 1 (menor de 17 anos) até 20 (maior de 70 anos)</li>\n",
    "    <li><b>TP_SEXO</b> - Sexo separado em M (masculino) e F (feminino).</li>\n",
    "    <li><b>TP_COR_RACA</b> - Cor/raça, representado por números. Sendo 0, não informado; 1, branca; 2, preta; 3, parda; 4, amarela; 5, indigena; 6, não dispões da informação.</li>\n",
    "    <li><b>TP_ST_CONCLUSAO</b> - Situação de conclusão do Ensino Médio. Sendo 1, já concluí o Ensino Médio; 2, cursando e conclusão em 2021; 3, cursando e concluirá após 2021; 4, Não concluiu e não está cursando.</li>\n",
    "    <li><b>TP_ESCOLA</b> - Tipo de escola do Ensino Médio. Sendo 1, não respondeu; 2, Pública; 3, privada.</li>    \n",
    "    <li><b>NO_MUNICIPIO_ESC</b> - Nome do município da escola.</li>    \n",
    "    <li><b>SG_UF_ESC</b> - Sigla da Unidade da Federação da escola.</li>\n",
    "    <li><b>TP_LOCALIZACAO_ESC</b> - Localização da escola, se é área urbana ou rural.</li>\n",
    "    <li><b>NU_NOTA_MT</b> - Nota da prova de matemática.</li>\n",
    "    <li><b>Q0XX</b> - Questões do questionário socioeconômico, que vão de Q001 até Q025.</li>\n",
    "</ul>"
   ]
  },
  {
   "cell_type": "markdown",
   "id": "1862d2cb",
   "metadata": {},
   "source": [
    "# <a name='indice'>Índice</a>\n",
    "* [Descrição](#descricao)\n",
    "* [Índice](#indice)\n",
    "* [1. Importando Bibliotecas e Base de Dados](#secao_1)\n",
    "* [2. Conhecendo e Tratando a Base de Dados](#secao_2)\n",
    "* [3. Análise Descritiva](#secao_3)\n",
    "* [4. Alguns percentis](#secao_4)\n",
    "* [5. Análise de outliers](#secao_5)\n",
    "* [6. Gráficos](#secao_6) \n",
    "* [7. Transformação dos Dados](#secao_7)\n",
    "* [X. Outras seções/etapas a depender do objetivo](#secao_x)\n",
    "* [Conclusão](#conclusao)"
   ]
  },
  {
   "cell_type": "markdown",
   "id": "31e57ed4",
   "metadata": {},
   "source": [
    "#  <a name=\"secao_1\"><font style='font-size: 30px;'>1 Importando Bibliotecas e Base de Dados</font></a>\n",
    "<hr style='border: 1px solid cyan;'>\n",
    "\n",
    "[voltar ao índice](#indice)"
   ]
  },
  {
   "cell_type": "code",
   "execution_count": 1,
   "id": "e9263a00",
   "metadata": {},
   "outputs": [],
   "source": [
    "import pandas as pd\n",
    "import statistics as st\n",
    "import seaborn as sns\n",
    "import matplotlib.pyplot as plt\n",
    "\n",
    "import geopandas as gdp\n",
    "\n",
    "sns.set_palette('Accent')\n",
    "sns.set_style('darkgrid')"
   ]
  },
  {
   "cell_type": "code",
   "execution_count": 2,
   "id": "aff6071b",
   "metadata": {},
   "outputs": [],
   "source": [
    "enem_df = pd.read_csv('dados/MICRODADOS_ENEM_2021.csv', encoding = 'latin_1', sep=';')"
   ]
  },
  {
   "cell_type": "markdown",
   "id": "4f17def4",
   "metadata": {},
   "source": [
    "#  <a name=\"secao_2\">2. Conhecendo e Tratando a Base de Dados</a>\n",
    "<hr style='border: 1px solid cyan;'>\n",
    "\n",
    "[voltar ao índice](#indice)"
   ]
  },
  {
   "cell_type": "markdown",
   "id": "9d2b1f3b",
   "metadata": {},
   "source": [
    "#### Informações gerais"
   ]
  },
  {
   "cell_type": "code",
   "execution_count": 3,
   "id": "16544b91",
   "metadata": {},
   "outputs": [
    {
     "name": "stdout",
     "output_type": "stream",
     "text": [
      "<class 'pandas.core.frame.DataFrame'>\n",
      "RangeIndex: 3389832 entries, 0 to 3389831\n",
      "Data columns (total 76 columns):\n",
      " #   Column                  Non-Null Count    Dtype  \n",
      "---  ------                  --------------    -----  \n",
      " 0   NU_INSCRICAO            3389832 non-null  int64  \n",
      " 1   NU_ANO                  3389832 non-null  int64  \n",
      " 2   TP_FAIXA_ETARIA         3389832 non-null  int64  \n",
      " 3   TP_SEXO                 3389832 non-null  object \n",
      " 4   TP_ESTADO_CIVIL         3389832 non-null  int64  \n",
      " 5   TP_COR_RACA             3389832 non-null  int64  \n",
      " 6   TP_NACIONALIDADE        3389832 non-null  int64  \n",
      " 7   TP_ST_CONCLUSAO         3389832 non-null  int64  \n",
      " 8   TP_ANO_CONCLUIU         3389832 non-null  int64  \n",
      " 9   TP_ESCOLA               3389832 non-null  int64  \n",
      " 10  TP_ENSINO               1096828 non-null  float64\n",
      " 11  IN_TREINEIRO            3389832 non-null  int64  \n",
      " 12  CO_MUNICIPIO_ESC        813806 non-null   float64\n",
      " 13  NO_MUNICIPIO_ESC        813806 non-null   object \n",
      " 14  CO_UF_ESC               813806 non-null   float64\n",
      " 15  SG_UF_ESC               813806 non-null   object \n",
      " 16  TP_DEPENDENCIA_ADM_ESC  813806 non-null   float64\n",
      " 17  TP_LOCALIZACAO_ESC      813806 non-null   float64\n",
      " 18  TP_SIT_FUNC_ESC         813806 non-null   float64\n",
      " 19  CO_MUNICIPIO_PROVA      3389832 non-null  int64  \n",
      " 20  NO_MUNICIPIO_PROVA      3389832 non-null  object \n",
      " 21  CO_UF_PROVA             3389832 non-null  int64  \n",
      " 22  SG_UF_PROVA             3389832 non-null  object \n",
      " 23  TP_PRESENCA_CN          3389832 non-null  int64  \n",
      " 24  TP_PRESENCA_CH          3389832 non-null  int64  \n",
      " 25  TP_PRESENCA_LC          3389832 non-null  int64  \n",
      " 26  TP_PRESENCA_MT          3389832 non-null  int64  \n",
      " 27  CO_PROVA_CN             2245844 non-null  float64\n",
      " 28  CO_PROVA_CH             2378379 non-null  float64\n",
      " 29  CO_PROVA_LC             2378379 non-null  float64\n",
      " 30  CO_PROVA_MT             2245844 non-null  float64\n",
      " 31  NU_NOTA_CN              2245844 non-null  float64\n",
      " 32  NU_NOTA_CH              2378379 non-null  float64\n",
      " 33  NU_NOTA_LC              2378379 non-null  float64\n",
      " 34  NU_NOTA_MT              2245844 non-null  float64\n",
      " 35  TX_RESPOSTAS_CN         2245844 non-null  object \n",
      " 36  TX_RESPOSTAS_CH         2378379 non-null  object \n",
      " 37  TX_RESPOSTAS_LC         2378379 non-null  object \n",
      " 38  TX_RESPOSTAS_MT         2245844 non-null  object \n",
      " 39  TP_LINGUA               3389832 non-null  int64  \n",
      " 40  TX_GABARITO_CN          2245844 non-null  object \n",
      " 41  TX_GABARITO_CH          2378379 non-null  object \n",
      " 42  TX_GABARITO_LC          2378379 non-null  object \n",
      " 43  TX_GABARITO_MT          2245844 non-null  object \n",
      " 44  TP_STATUS_REDACAO       2378379 non-null  float64\n",
      " 45  NU_NOTA_COMP1           2378379 non-null  float64\n",
      " 46  NU_NOTA_COMP2           2378379 non-null  float64\n",
      " 47  NU_NOTA_COMP3           2378379 non-null  float64\n",
      " 48  NU_NOTA_COMP4           2378379 non-null  float64\n",
      " 49  NU_NOTA_COMP5           2378379 non-null  float64\n",
      " 50  NU_NOTA_REDACAO         2378379 non-null  float64\n",
      " 51  Q001                    3389830 non-null  object \n",
      " 52  Q002                    3389830 non-null  object \n",
      " 53  Q003                    3389830 non-null  object \n",
      " 54  Q004                    3389830 non-null  object \n",
      " 55  Q005                    3389830 non-null  float64\n",
      " 56  Q006                    3389830 non-null  object \n",
      " 57  Q007                    3389830 non-null  object \n",
      " 58  Q008                    3389830 non-null  object \n",
      " 59  Q009                    3389830 non-null  object \n",
      " 60  Q010                    3389830 non-null  object \n",
      " 61  Q011                    3389830 non-null  object \n",
      " 62  Q012                    3389830 non-null  object \n",
      " 63  Q013                    3389830 non-null  object \n",
      " 64  Q014                    3389830 non-null  object \n",
      " 65  Q015                    3389830 non-null  object \n",
      " 66  Q016                    3389830 non-null  object \n",
      " 67  Q017                    3389830 non-null  object \n",
      " 68  Q018                    3389830 non-null  object \n",
      " 69  Q019                    3389830 non-null  object \n",
      " 70  Q020                    3389830 non-null  object \n",
      " 71  Q021                    3389830 non-null  object \n",
      " 72  Q022                    3389830 non-null  object \n",
      " 73  Q023                    3389830 non-null  object \n",
      " 74  Q024                    3389830 non-null  object \n",
      " 75  Q025                    3389830 non-null  object \n",
      "dtypes: float64(22), int64(17), object(37)\n",
      "memory usage: 1.9+ GB\n"
     ]
    }
   ],
   "source": [
    "enem_df.info(show_counts=True)"
   ]
  },
  {
   "cell_type": "code",
   "execution_count": 4,
   "id": "4ef534af",
   "metadata": {},
   "outputs": [
    {
     "data": {
      "text/html": [
       "<div>\n",
       "<style scoped>\n",
       "    .dataframe tbody tr th:only-of-type {\n",
       "        vertical-align: middle;\n",
       "    }\n",
       "\n",
       "    .dataframe tbody tr th {\n",
       "        vertical-align: top;\n",
       "    }\n",
       "\n",
       "    .dataframe thead th {\n",
       "        text-align: right;\n",
       "    }\n",
       "</style>\n",
       "<table border=\"1\" class=\"dataframe\">\n",
       "  <thead>\n",
       "    <tr style=\"text-align: right;\">\n",
       "      <th></th>\n",
       "      <th>NU_INSCRICAO</th>\n",
       "      <th>NU_ANO</th>\n",
       "      <th>TP_FAIXA_ETARIA</th>\n",
       "      <th>TP_SEXO</th>\n",
       "      <th>TP_ESTADO_CIVIL</th>\n",
       "      <th>TP_COR_RACA</th>\n",
       "      <th>TP_NACIONALIDADE</th>\n",
       "      <th>TP_ST_CONCLUSAO</th>\n",
       "      <th>TP_ANO_CONCLUIU</th>\n",
       "      <th>TP_ESCOLA</th>\n",
       "      <th>...</th>\n",
       "      <th>Q016</th>\n",
       "      <th>Q017</th>\n",
       "      <th>Q018</th>\n",
       "      <th>Q019</th>\n",
       "      <th>Q020</th>\n",
       "      <th>Q021</th>\n",
       "      <th>Q022</th>\n",
       "      <th>Q023</th>\n",
       "      <th>Q024</th>\n",
       "      <th>Q025</th>\n",
       "    </tr>\n",
       "  </thead>\n",
       "  <tbody>\n",
       "    <tr>\n",
       "      <th>0</th>\n",
       "      <td>210053865474</td>\n",
       "      <td>2021</td>\n",
       "      <td>5</td>\n",
       "      <td>F</td>\n",
       "      <td>1</td>\n",
       "      <td>1</td>\n",
       "      <td>1</td>\n",
       "      <td>1</td>\n",
       "      <td>3</td>\n",
       "      <td>1</td>\n",
       "      <td>...</td>\n",
       "      <td>A</td>\n",
       "      <td>A</td>\n",
       "      <td>A</td>\n",
       "      <td>B</td>\n",
       "      <td>A</td>\n",
       "      <td>A</td>\n",
       "      <td>B</td>\n",
       "      <td>A</td>\n",
       "      <td>B</td>\n",
       "      <td>B</td>\n",
       "    </tr>\n",
       "    <tr>\n",
       "      <th>1</th>\n",
       "      <td>210052384164</td>\n",
       "      <td>2021</td>\n",
       "      <td>12</td>\n",
       "      <td>M</td>\n",
       "      <td>1</td>\n",
       "      <td>1</td>\n",
       "      <td>1</td>\n",
       "      <td>1</td>\n",
       "      <td>11</td>\n",
       "      <td>1</td>\n",
       "      <td>...</td>\n",
       "      <td>A</td>\n",
       "      <td>A</td>\n",
       "      <td>A</td>\n",
       "      <td>B</td>\n",
       "      <td>A</td>\n",
       "      <td>A</td>\n",
       "      <td>C</td>\n",
       "      <td>A</td>\n",
       "      <td>A</td>\n",
       "      <td>A</td>\n",
       "    </tr>\n",
       "    <tr>\n",
       "      <th>2</th>\n",
       "      <td>210052589243</td>\n",
       "      <td>2021</td>\n",
       "      <td>13</td>\n",
       "      <td>F</td>\n",
       "      <td>3</td>\n",
       "      <td>1</td>\n",
       "      <td>1</td>\n",
       "      <td>1</td>\n",
       "      <td>15</td>\n",
       "      <td>1</td>\n",
       "      <td>...</td>\n",
       "      <td>B</td>\n",
       "      <td>A</td>\n",
       "      <td>A</td>\n",
       "      <td>B</td>\n",
       "      <td>A</td>\n",
       "      <td>A</td>\n",
       "      <td>C</td>\n",
       "      <td>B</td>\n",
       "      <td>B</td>\n",
       "      <td>B</td>\n",
       "    </tr>\n",
       "    <tr>\n",
       "      <th>3</th>\n",
       "      <td>210052128335</td>\n",
       "      <td>2021</td>\n",
       "      <td>3</td>\n",
       "      <td>M</td>\n",
       "      <td>1</td>\n",
       "      <td>3</td>\n",
       "      <td>1</td>\n",
       "      <td>2</td>\n",
       "      <td>0</td>\n",
       "      <td>2</td>\n",
       "      <td>...</td>\n",
       "      <td>A</td>\n",
       "      <td>A</td>\n",
       "      <td>A</td>\n",
       "      <td>B</td>\n",
       "      <td>A</td>\n",
       "      <td>A</td>\n",
       "      <td>B</td>\n",
       "      <td>A</td>\n",
       "      <td>B</td>\n",
       "      <td>B</td>\n",
       "    </tr>\n",
       "    <tr>\n",
       "      <th>4</th>\n",
       "      <td>210051353021</td>\n",
       "      <td>2021</td>\n",
       "      <td>2</td>\n",
       "      <td>F</td>\n",
       "      <td>1</td>\n",
       "      <td>3</td>\n",
       "      <td>1</td>\n",
       "      <td>2</td>\n",
       "      <td>0</td>\n",
       "      <td>2</td>\n",
       "      <td>...</td>\n",
       "      <td>B</td>\n",
       "      <td>A</td>\n",
       "      <td>A</td>\n",
       "      <td>B</td>\n",
       "      <td>A</td>\n",
       "      <td>B</td>\n",
       "      <td>E</td>\n",
       "      <td>A</td>\n",
       "      <td>B</td>\n",
       "      <td>B</td>\n",
       "    </tr>\n",
       "  </tbody>\n",
       "</table>\n",
       "<p>5 rows × 76 columns</p>\n",
       "</div>"
      ],
      "text/plain": [
       "   NU_INSCRICAO  NU_ANO  TP_FAIXA_ETARIA TP_SEXO  TP_ESTADO_CIVIL  \\\n",
       "0  210053865474    2021                5       F                1   \n",
       "1  210052384164    2021               12       M                1   \n",
       "2  210052589243    2021               13       F                3   \n",
       "3  210052128335    2021                3       M                1   \n",
       "4  210051353021    2021                2       F                1   \n",
       "\n",
       "   TP_COR_RACA  TP_NACIONALIDADE  TP_ST_CONCLUSAO  TP_ANO_CONCLUIU  TP_ESCOLA  \\\n",
       "0            1                 1                1                3          1   \n",
       "1            1                 1                1               11          1   \n",
       "2            1                 1                1               15          1   \n",
       "3            3                 1                2                0          2   \n",
       "4            3                 1                2                0          2   \n",
       "\n",
       "   ...  Q016  Q017  Q018 Q019  Q020 Q021  Q022  Q023  Q024  Q025  \n",
       "0  ...     A     A     A    B     A    A     B     A     B     B  \n",
       "1  ...     A     A     A    B     A    A     C     A     A     A  \n",
       "2  ...     B     A     A    B     A    A     C     B     B     B  \n",
       "3  ...     A     A     A    B     A    A     B     A     B     B  \n",
       "4  ...     B     A     A    B     A    B     E     A     B     B  \n",
       "\n",
       "[5 rows x 76 columns]"
      ]
     },
     "execution_count": 4,
     "metadata": {},
     "output_type": "execute_result"
    }
   ],
   "source": [
    "enem_df.head()"
   ]
  },
  {
   "cell_type": "code",
   "execution_count": 5,
   "id": "2dc10f1a",
   "metadata": {},
   "outputs": [
    {
     "data": {
      "text/plain": [
       "(3389832, 76)"
      ]
     },
     "execution_count": 5,
     "metadata": {},
     "output_type": "execute_result"
    }
   ],
   "source": [
    "enem_df.shape"
   ]
  },
  {
   "cell_type": "markdown",
   "id": "fd075d4d",
   "metadata": {},
   "source": [
    "#### Obtendo amostra e features pertinentes"
   ]
  },
  {
   "cell_type": "code",
   "execution_count": 6,
   "id": "e0084f43",
   "metadata": {},
   "outputs": [
    {
     "data": {
      "text/plain": [
       "Index(['NU_INSCRICAO', 'NU_ANO', 'TP_FAIXA_ETARIA', 'TP_SEXO',\n",
       "       'TP_ESTADO_CIVIL', 'TP_COR_RACA', 'TP_NACIONALIDADE', 'TP_ST_CONCLUSAO',\n",
       "       'TP_ANO_CONCLUIU', 'TP_ESCOLA', 'TP_ENSINO', 'IN_TREINEIRO',\n",
       "       'CO_MUNICIPIO_ESC', 'NO_MUNICIPIO_ESC', 'CO_UF_ESC', 'SG_UF_ESC',\n",
       "       'TP_DEPENDENCIA_ADM_ESC', 'TP_LOCALIZACAO_ESC', 'TP_SIT_FUNC_ESC',\n",
       "       'CO_MUNICIPIO_PROVA', 'NO_MUNICIPIO_PROVA', 'CO_UF_PROVA',\n",
       "       'SG_UF_PROVA', 'TP_PRESENCA_CN', 'TP_PRESENCA_CH', 'TP_PRESENCA_LC',\n",
       "       'TP_PRESENCA_MT', 'CO_PROVA_CN', 'CO_PROVA_CH', 'CO_PROVA_LC',\n",
       "       'CO_PROVA_MT', 'NU_NOTA_CN', 'NU_NOTA_CH', 'NU_NOTA_LC', 'NU_NOTA_MT',\n",
       "       'TX_RESPOSTAS_CN', 'TX_RESPOSTAS_CH', 'TX_RESPOSTAS_LC',\n",
       "       'TX_RESPOSTAS_MT', 'TP_LINGUA', 'TX_GABARITO_CN', 'TX_GABARITO_CH',\n",
       "       'TX_GABARITO_LC', 'TX_GABARITO_MT', 'TP_STATUS_REDACAO',\n",
       "       'NU_NOTA_COMP1', 'NU_NOTA_COMP2', 'NU_NOTA_COMP3', 'NU_NOTA_COMP4',\n",
       "       'NU_NOTA_COMP5', 'NU_NOTA_REDACAO', 'Q001', 'Q002', 'Q003', 'Q004',\n",
       "       'Q005', 'Q006', 'Q007', 'Q008', 'Q009', 'Q010', 'Q011', 'Q012', 'Q013',\n",
       "       'Q014', 'Q015', 'Q016', 'Q017', 'Q018', 'Q019', 'Q020', 'Q021', 'Q022',\n",
       "       'Q023', 'Q024', 'Q025'],\n",
       "      dtype='object')"
      ]
     },
     "execution_count": 6,
     "metadata": {},
     "output_type": "execute_result"
    }
   ],
   "source": [
    "enem_df.columns"
   ]
  },
  {
   "cell_type": "markdown",
   "id": "273fa50d",
   "metadata": {},
   "source": [
    "* Serão selecionada as features as quais sejam pertinentes para o objetivo de análise. <br>\n",
    "* Apesar de desejável, a coluna TP_ENSINO contém muitos valores faltantes, portanto não será inclusa. <br>\n",
    "* A feature TP_PRESENCA_MT possui certa redundância, havendo baixa quantidade de eliminados na prova, permite que esssa feature seja melhor representada pela NU_NOTA_MT. Pois todos que compareceram à prova, obtiveram nota. <br>\n",
    "* O conjunto de features que diz respeito ao local de aplicação das provas não será utilizado nesta análise. Em contrapartida, aquelas que dizem respeito ao local de estudos do aluno, serão utilizadas, porém há muitos registros faltantes, portanto haverá de receber um outro direcionamento."
   ]
  },
  {
   "cell_type": "code",
   "execution_count": 7,
   "id": "74ebbe81",
   "metadata": {},
   "outputs": [],
   "source": [
    "alunos_df = enem_df[['TP_FAIXA_ETARIA', 'TP_SEXO',\n",
    "       'TP_COR_RACA', 'TP_ST_CONCLUSAO','TP_ESCOLA', \n",
    "       'NO_MUNICIPIO_ESC', 'SG_UF_ESC',\n",
    "       'TP_LOCALIZACAO_ESC', 'NU_NOTA_MT',      \n",
    "       'Q001', 'Q002', 'Q003', 'Q004',\n",
    "       'Q005', 'Q006', 'Q007', 'Q008', 'Q009', 'Q010', 'Q011', 'Q012', 'Q013',\n",
    "       'Q014', 'Q015', 'Q016', 'Q017', 'Q018', 'Q019', 'Q020', 'Q021', 'Q022',\n",
    "       'Q023', 'Q024', 'Q025']]"
   ]
  },
  {
   "cell_type": "markdown",
   "id": "86956c66",
   "metadata": {},
   "source": [
    "### Consolidando base de dados"
   ]
  },
  {
   "cell_type": "markdown",
   "id": "00c65c7d",
   "metadata": {},
   "source": [
    "#### Selecionando alunos na faixa etária entre 17 e 18 anos"
   ]
  },
  {
   "cell_type": "code",
   "execution_count": 8,
   "id": "89776913",
   "metadata": {},
   "outputs": [],
   "source": [
    "mat_alunos_df = alunos_df.loc[(alunos_df['TP_FAIXA_ETARIA']>=2) & (alunos_df['TP_FAIXA_ETARIA']<=3)]"
   ]
  },
  {
   "cell_type": "markdown",
   "id": "f059ab3f",
   "metadata": {},
   "source": [
    "#### Filtrar para concluintes recentes e próximos de concluir"
   ]
  },
  {
   "cell_type": "code",
   "execution_count": 9,
   "id": "3eab2b92",
   "metadata": {},
   "outputs": [],
   "source": [
    "mat_alunos_df = mat_alunos_df.loc[(mat_alunos_df['TP_ST_CONCLUSAO']<=2)]"
   ]
  },
  {
   "cell_type": "markdown",
   "id": "6b9ac56a",
   "metadata": {},
   "source": [
    "#### Excluir valores faltantes da coluna NU_NOTA_MT"
   ]
  },
  {
   "cell_type": "code",
   "execution_count": 10,
   "id": "a5080e80",
   "metadata": {},
   "outputs": [],
   "source": [
    "mat_alunos_df = mat_alunos_df.dropna(subset='NU_NOTA_MT')"
   ]
  },
  {
   "cell_type": "markdown",
   "id": "569f5394",
   "metadata": {},
   "source": [
    "#### Excluir demais valores faltantes"
   ]
  },
  {
   "cell_type": "markdown",
   "id": "304941c4",
   "metadata": {},
   "source": [
    "Como há muitos valores faltantes quanto às features de localização (CO_MUNICIPIO_ESC, NO_MUNICIPIO_ESC, CO_UF_ESC, SG_UF_ESC, TP_DEPENDENCIA_ADM_ESC e TP_LOCALIZACAO_ESC), a partir deste ponto há algumas alternativas. Citando duas delas:\n",
    "* preencher os valores faltantes;\n",
    "* descartar esses registros.\n",
    "\n",
    "Devido a riqueza e variabilidade das features, seguirei com a segunda das alternativas. A qual, apesar de reduzir ainda mais o dataset, evitaria possíveis distorções e conclusões errôneas nas etapas seguintes."
   ]
  },
  {
   "cell_type": "code",
   "execution_count": 11,
   "id": "3a3c53e7",
   "metadata": {},
   "outputs": [],
   "source": [
    "mat_alunos_df = mat_alunos_df.dropna()"
   ]
  },
  {
   "cell_type": "markdown",
   "id": "b5bc25a4",
   "metadata": {},
   "source": [
    "### Tratar features qualitativas"
   ]
  },
  {
   "cell_type": "markdown",
   "id": "76876a0e",
   "metadata": {},
   "source": [
    "#### TP_FAIXA_ETARIA"
   ]
  },
  {
   "cell_type": "code",
   "execution_count": 12,
   "id": "b4ff5883",
   "metadata": {},
   "outputs": [],
   "source": [
    "mat_alunos_df.TP_FAIXA_ETARIA = mat_alunos_df.TP_FAIXA_ETARIA.map({2:'17', 3:'18'})"
   ]
  },
  {
   "cell_type": "markdown",
   "id": "8e29dc22",
   "metadata": {},
   "source": [
    "#### TP_SEXO"
   ]
  },
  {
   "cell_type": "code",
   "execution_count": 13,
   "id": "aa82ffbc",
   "metadata": {},
   "outputs": [],
   "source": [
    "mat_alunos_df.TP_SEXO = mat_alunos_df.TP_SEXO.map({'M':'Masculino', 'F':'Feminino'})"
   ]
  },
  {
   "cell_type": "markdown",
   "id": "f48f0f76",
   "metadata": {},
   "source": [
    "#### TP_COR_RACA"
   ]
  },
  {
   "cell_type": "code",
   "execution_count": 14,
   "id": "d87fcf28",
   "metadata": {},
   "outputs": [],
   "source": [
    "mat_alunos_df.TP_COR_RACA = mat_alunos_df.TP_COR_RACA.map(\n",
    "    {0:'Não declarado', 1:'Branca', 2:'Preta', 3:'Parda', 4:'Amarela', 5:'Indígena', 6:'Não dispõe da informação'})"
   ]
  },
  {
   "cell_type": "markdown",
   "id": "a9dc1f24",
   "metadata": {},
   "source": [
    "#### TP_ST_CONCLUSAO"
   ]
  },
  {
   "cell_type": "code",
   "execution_count": 15,
   "id": "aa9d1e52",
   "metadata": {},
   "outputs": [
    {
     "data": {
      "text/plain": [
       "array([2], dtype=int64)"
      ]
     },
     "execution_count": 15,
     "metadata": {},
     "output_type": "execute_result"
    }
   ],
   "source": [
    "mat_alunos_df.TP_ST_CONCLUSAO.unique()"
   ]
  },
  {
   "cell_type": "markdown",
   "id": "2a3b4234",
   "metadata": {},
   "source": [
    "Como a seleção pela faixa etária acabou excluíndo alunos que já concluíram o ensino médio, a feature TP_ST_CONCLUSAO acabou se tornando redundante e será excluída."
   ]
  },
  {
   "cell_type": "code",
   "execution_count": 16,
   "id": "c0e36300",
   "metadata": {},
   "outputs": [],
   "source": [
    "mat_alunos_df.drop(columns='TP_ST_CONCLUSAO', axis=1, inplace=True)"
   ]
  },
  {
   "cell_type": "markdown",
   "id": "2104a9b1",
   "metadata": {},
   "source": [
    "#### TP_ESCOLA"
   ]
  },
  {
   "cell_type": "code",
   "execution_count": 17,
   "id": "5ce9cc3c",
   "metadata": {},
   "outputs": [],
   "source": [
    "mat_alunos_df.TP_ESCOLA = mat_alunos_df.TP_ESCOLA.map({2:'Público', 3:'Privada'})"
   ]
  },
  {
   "cell_type": "markdown",
   "id": "91f791d0",
   "metadata": {},
   "source": [
    "#### TP_LOCALIZACAO_ESC"
   ]
  },
  {
   "cell_type": "code",
   "execution_count": 18,
   "id": "47bada86",
   "metadata": {},
   "outputs": [],
   "source": [
    "mat_alunos_df.TP_LOCALIZACAO_ESC = mat_alunos_df.TP_LOCALIZACAO_ESC.map({1:'Urbana', 2:'Rural'})"
   ]
  },
  {
   "cell_type": "markdown",
   "id": "a2c95ae3",
   "metadata": {},
   "source": [
    "### Transformando as features do questionário socioeconomico em variáveis quantitativas"
   ]
  },
  {
   "cell_type": "code",
   "execution_count": 19,
   "id": "b9410000",
   "metadata": {},
   "outputs": [],
   "source": [
    "quest_alunos_df = mat_alunos_df.copy()"
   ]
  },
  {
   "cell_type": "markdown",
   "id": "548355b4",
   "metadata": {},
   "source": [
    "As quatro primeiras questões do questionário socioeconômico dizem respeito à escolaridade do pai, da mãe assim como a ocupação de ambos. Essas variáveis considero interessante também torná-las quantitativas. Todavia, haverei de atribuir outro valor as respostas da categoria <font color='red'><i>\"Não sei\"</i></font>.<br><br>\n",
    "Nas variáveis Q001 e Q002 da categoria A até a categoria G, irei atribuir valores de 0 à 6. Desta forma, para não perder mais dados e ciente de leves distorções, considero razoável atribuir à categoria H o valor da média aritmética de todos os termos, o que equivale à 3.<br><br>\n",
    "Já nas variáveis Q003 e Q004 as categorias de A até a E, será atribuídos valores de 0 à 4. E igualmente, à última categoria F (a qual representa o valor \"Não sei\"), também será atribuído o valor da média aritmética, resultando no valor 2.\n",
    "\n"
   ]
  },
  {
   "cell_type": "markdown",
   "id": "63f70885",
   "metadata": {},
   "source": [
    "<font color='red'> Atenção</font><br>\n",
    "\n",
    "Transformar a variável Q006 a qual diz respeito à faixa de renda, em uma variável quantitativa possa aumentar sua usabilidade. Entre o limite inferior e superior de cada faixa, optarei por inserir o seu limite superior.<br>\n",
    "\n",
    "A última faixa (Q), cuja renda é \"acima de R$ 22.000,00\", será alterada para representar um \"teto\" de 30000. Isso para não conflitar com a faixa diretamente anterior (P)."
   ]
  },
  {
   "cell_type": "code",
   "execution_count": 20,
   "id": "eb5d63ff",
   "metadata": {},
   "outputs": [],
   "source": [
    "def dict_renda():\n",
    "    '''A função atribui um valor numérico para cada categoria de renda'''\n",
    "    dict_renda = {'A':0, 'B':1100, 'C':1650, 'D':2200, 'E':2750, 'F':3300,'G':4400, 'H':5500, 'I':6600,\n",
    "                  'J':7700, 'K':8800, 'L':9900, 'M':11000, 'N':13200,'O':16500, 'P':22000, 'Q':30000}\n",
    "    return dict_renda"
   ]
  },
  {
   "cell_type": "code",
   "execution_count": 21,
   "id": "49f36ad1",
   "metadata": {},
   "outputs": [],
   "source": [
    "def auto_map_questionario(questao):\n",
    "    '''Essa função reconhece o número de alternativas na questão e aplica o map correto.\n",
    "    As transformando as variáveis em quantitativas'''\n",
    "    \n",
    "    qtde_alternativas = len(quest_alunos_df[questao].unique())\n",
    "    \n",
    "    if qtde_alternativas == 8:\n",
    "        # mapeia a Q001 à Q002\n",
    "        quest_alunos_df[questao] = quest_alunos_df[questao].map({'A':0, 'B':1, 'C':2, 'D':3, 'E':4, 'F':5, 'G':6, 'H':3})\n",
    "        \n",
    "    elif qtde_alternativas == 6:\n",
    "        # mapeia a Q003 à Q004\n",
    "        quest_alunos_df[questao] = quest_alunos_df[questao].map({'A':0, 'B':1, 'C':2, 'D':3, 'E':4, 'F':2})\n",
    "        \n",
    "    elif qtde_alternativas == 17:\n",
    "        # mapeia a Q006\n",
    "        quest_alunos_df[questao] = quest_alunos_df[questao].map(dict_renda())\n",
    "    \n",
    "    elif qtde_alternativas == 4:\n",
    "        # mapeia a Q007\n",
    "        quest_alunos_df[questao] = quest_alunos_df[questao].map({'A':0, 'B':1.5, 'C':3.5, 'D':5, 'E':4})\n",
    "    \n",
    "    # ambas mapeiam da Q008 até a última\n",
    "    elif qtde_alternativas == 5:\n",
    "        quest_alunos_df[questao] = quest_alunos_df[questao].map({'A':0, 'B':1, 'C':2, 'D':3, 'E':4})\n",
    "        \n",
    "    elif qtde_alternativas == 2:\n",
    "        quest_alunos_df[questao] = quest_alunos_df[questao].map({'A':0, 'B':1})\n",
    "        \n",
    "    else:\n",
    "        # pass Q005 que já é quantitativa\n",
    "        pass "
   ]
  },
  {
   "cell_type": "code",
   "execution_count": 22,
   "id": "54ec1499",
   "metadata": {},
   "outputs": [],
   "source": [
    "# recriando o nome da questão de Q001 à Q025 e repassando como argumento para a função auto_map_questionario()\n",
    "_=[auto_map_questionario('Q0{:002}'.format(i)) for i in range(1, 26)]"
   ]
  },
  {
   "cell_type": "markdown",
   "id": "adc91515",
   "metadata": {},
   "source": [
    "#### Renomeando as colunas"
   ]
  },
  {
   "cell_type": "code",
   "execution_count": 65,
   "id": "4f6a9799",
   "metadata": {},
   "outputs": [],
   "source": [
    "final_enem_df = quest_alunos_df.rename(columns = {'TP_FAIXA_ETARIA':'Idade', 'TP_SEXO':'Sexo', 'TP_COR_RACA':'Cor/Raça',\n",
    "                                                    'TP_ESCOLA':'Escola','NO_MUNICIPIO_ESC':'Município', 'SG_UF_ESC':'UF',\n",
    "                                                    'TP_LOCALIZACAO_ESC':'Localização', 'NU_NOTA_MT':'Nota em Matemática',\n",
    "                                                    'Q001':'Escolaridade pai', 'Q002':'Escolaridade mãe',\n",
    "                                                    'Q003':'Ocupação pai', 'Q004':'Ocupação mãe', 'Q005':'Nº de residentes',\n",
    "                                                    'Q006':'Renda familiar', 'Q007':'Emp. domestico(a)', 'Q008':'Banheiros',\n",
    "                                                    'Q009':'Quartos', 'Q010':'Carro', 'Q011':'Motocicleta', 'Q012':'Geladeira',\n",
    "                                                    'Q013':'Freezer', 'Q014':'Máq. lavar-roupa', 'Q015':'Máq. secar-roupa',\n",
    "                                                    'Q016':'Microondas', 'Q017':'Máq. lavar-louça', 'Q018':'Aspirador',\n",
    "                                                    'Q019':'Televisor', 'Q020':'DVD', 'Q021':'TV por assinatura',\n",
    "                                                    'Q022':'Tel. celular', 'Q023':'Tel. fixo', 'Q024':'Computador',\n",
    "                                                    'Q025':'Internet'})"
   ]
  },
  {
   "cell_type": "markdown",
   "id": "636e9b82",
   "metadata": {},
   "source": [
    "#### Lista de variáveis qualitativas"
   ]
  },
  {
   "cell_type": "code",
   "execution_count": 3,
   "id": "9513db27",
   "metadata": {},
   "outputs": [],
   "source": [
    "lista_variaveis = list(final_enem_df.columns)"
   ]
  },
  {
   "cell_type": "code",
   "execution_count": 4,
   "id": "72aaee90",
   "metadata": {},
   "outputs": [],
   "source": [
    "variaveis_texto = ['Sexo', 'Cor/Raça', 'Escola', 'Município', 'UF', 'Localização']"
   ]
  },
  {
   "cell_type": "markdown",
   "id": "2361abe6",
   "metadata": {},
   "source": [
    "#### Lista de variaveis quantitativas"
   ]
  },
  {
   "cell_type": "code",
   "execution_count": 5,
   "id": "9784c787",
   "metadata": {},
   "outputs": [],
   "source": [
    "variaveis_numericas = [var for var in lista_variaveis if var not in variaveis_texto]"
   ]
  },
  {
   "cell_type": "markdown",
   "id": "2c82c7ac",
   "metadata": {},
   "source": [
    "#  <a name=\"secao_3\">3. Análise Descritiva</a>\n",
    "<hr style='border: 1px solid cyan;'>\n",
    "\n",
    "[voltar ao índice](#indice)"
   ]
  },
  {
   "cell_type": "markdown",
   "id": "425d9075",
   "metadata": {},
   "source": [
    "#### Descrição Geral"
   ]
  },
  {
   "cell_type": "code",
   "execution_count": 6,
   "id": "03eed267",
   "metadata": {},
   "outputs": [
    {
     "data": {
      "text/html": [
       "<div>\n",
       "<style scoped>\n",
       "    .dataframe tbody tr th:only-of-type {\n",
       "        vertical-align: middle;\n",
       "    }\n",
       "\n",
       "    .dataframe tbody tr th {\n",
       "        vertical-align: top;\n",
       "    }\n",
       "\n",
       "    .dataframe thead th {\n",
       "        text-align: right;\n",
       "    }\n",
       "</style>\n",
       "<table border=\"1\" class=\"dataframe\">\n",
       "  <thead>\n",
       "    <tr style=\"text-align: right;\">\n",
       "      <th></th>\n",
       "      <th>Idade</th>\n",
       "      <th>Nota em Matemática</th>\n",
       "      <th>Escolaridade pai</th>\n",
       "      <th>Escolaridade mãe</th>\n",
       "      <th>Ocupação pai</th>\n",
       "      <th>Ocupação mãe</th>\n",
       "      <th>Nº de residentes</th>\n",
       "      <th>Renda familiar</th>\n",
       "      <th>Emp. domestico(a)</th>\n",
       "      <th>Banheiros</th>\n",
       "      <th>...</th>\n",
       "      <th>Microondas</th>\n",
       "      <th>Máq. lavar-louça</th>\n",
       "      <th>Aspirador</th>\n",
       "      <th>Televisor</th>\n",
       "      <th>DVD</th>\n",
       "      <th>TV por assinatura</th>\n",
       "      <th>Tel. celular</th>\n",
       "      <th>Tel. fixo</th>\n",
       "      <th>Computador</th>\n",
       "      <th>Internet</th>\n",
       "    </tr>\n",
       "  </thead>\n",
       "  <tbody>\n",
       "    <tr>\n",
       "      <th>count</th>\n",
       "      <td>533953.0</td>\n",
       "      <td>533953.0</td>\n",
       "      <td>533953.0</td>\n",
       "      <td>533953.0</td>\n",
       "      <td>533953.0</td>\n",
       "      <td>533953.0</td>\n",
       "      <td>533953.0</td>\n",
       "      <td>533953.0</td>\n",
       "      <td>533953.0</td>\n",
       "      <td>533953.0</td>\n",
       "      <td>...</td>\n",
       "      <td>533953.0</td>\n",
       "      <td>533953.0</td>\n",
       "      <td>533953.0</td>\n",
       "      <td>533953.0</td>\n",
       "      <td>533953.0</td>\n",
       "      <td>533953.0</td>\n",
       "      <td>533953.0</td>\n",
       "      <td>533953.0</td>\n",
       "      <td>533953.0</td>\n",
       "      <td>533953.0</td>\n",
       "    </tr>\n",
       "    <tr>\n",
       "      <th>mean</th>\n",
       "      <td>17.0</td>\n",
       "      <td>549.0</td>\n",
       "      <td>4.0</td>\n",
       "      <td>4.0</td>\n",
       "      <td>2.0</td>\n",
       "      <td>2.0</td>\n",
       "      <td>4.0</td>\n",
       "      <td>4882.0</td>\n",
       "      <td>0.0</td>\n",
       "      <td>2.0</td>\n",
       "      <td>...</td>\n",
       "      <td>1.0</td>\n",
       "      <td>0.0</td>\n",
       "      <td>0.0</td>\n",
       "      <td>2.0</td>\n",
       "      <td>0.0</td>\n",
       "      <td>0.0</td>\n",
       "      <td>3.0</td>\n",
       "      <td>0.0</td>\n",
       "      <td>1.0</td>\n",
       "      <td>1.0</td>\n",
       "    </tr>\n",
       "    <tr>\n",
       "      <th>std</th>\n",
       "      <td>0.0</td>\n",
       "      <td>112.0</td>\n",
       "      <td>1.0</td>\n",
       "      <td>1.0</td>\n",
       "      <td>1.0</td>\n",
       "      <td>1.0</td>\n",
       "      <td>1.0</td>\n",
       "      <td>5970.0</td>\n",
       "      <td>1.0</td>\n",
       "      <td>1.0</td>\n",
       "      <td>...</td>\n",
       "      <td>1.0</td>\n",
       "      <td>0.0</td>\n",
       "      <td>0.0</td>\n",
       "      <td>1.0</td>\n",
       "      <td>0.0</td>\n",
       "      <td>0.0</td>\n",
       "      <td>1.0</td>\n",
       "      <td>0.0</td>\n",
       "      <td>1.0</td>\n",
       "      <td>0.0</td>\n",
       "    </tr>\n",
       "    <tr>\n",
       "      <th>min</th>\n",
       "      <td>17.0</td>\n",
       "      <td>0.0</td>\n",
       "      <td>0.0</td>\n",
       "      <td>0.0</td>\n",
       "      <td>0.0</td>\n",
       "      <td>0.0</td>\n",
       "      <td>1.0</td>\n",
       "      <td>0.0</td>\n",
       "      <td>0.0</td>\n",
       "      <td>0.0</td>\n",
       "      <td>...</td>\n",
       "      <td>0.0</td>\n",
       "      <td>0.0</td>\n",
       "      <td>0.0</td>\n",
       "      <td>0.0</td>\n",
       "      <td>0.0</td>\n",
       "      <td>0.0</td>\n",
       "      <td>0.0</td>\n",
       "      <td>0.0</td>\n",
       "      <td>0.0</td>\n",
       "      <td>0.0</td>\n",
       "    </tr>\n",
       "    <tr>\n",
       "      <th>25%</th>\n",
       "      <td>17.0</td>\n",
       "      <td>455.0</td>\n",
       "      <td>3.0</td>\n",
       "      <td>3.0</td>\n",
       "      <td>1.0</td>\n",
       "      <td>1.0</td>\n",
       "      <td>3.0</td>\n",
       "      <td>1650.0</td>\n",
       "      <td>0.0</td>\n",
       "      <td>1.0</td>\n",
       "      <td>...</td>\n",
       "      <td>0.0</td>\n",
       "      <td>0.0</td>\n",
       "      <td>0.0</td>\n",
       "      <td>1.0</td>\n",
       "      <td>0.0</td>\n",
       "      <td>0.0</td>\n",
       "      <td>2.0</td>\n",
       "      <td>0.0</td>\n",
       "      <td>0.0</td>\n",
       "      <td>1.0</td>\n",
       "    </tr>\n",
       "    <tr>\n",
       "      <th>50%</th>\n",
       "      <td>17.0</td>\n",
       "      <td>534.0</td>\n",
       "      <td>4.0</td>\n",
       "      <td>4.0</td>\n",
       "      <td>2.0</td>\n",
       "      <td>2.0</td>\n",
       "      <td>4.0</td>\n",
       "      <td>2750.0</td>\n",
       "      <td>0.0</td>\n",
       "      <td>1.0</td>\n",
       "      <td>...</td>\n",
       "      <td>1.0</td>\n",
       "      <td>0.0</td>\n",
       "      <td>0.0</td>\n",
       "      <td>1.0</td>\n",
       "      <td>0.0</td>\n",
       "      <td>0.0</td>\n",
       "      <td>3.0</td>\n",
       "      <td>0.0</td>\n",
       "      <td>1.0</td>\n",
       "      <td>1.0</td>\n",
       "    </tr>\n",
       "    <tr>\n",
       "      <th>75%</th>\n",
       "      <td>18.0</td>\n",
       "      <td>632.0</td>\n",
       "      <td>4.0</td>\n",
       "      <td>5.0</td>\n",
       "      <td>3.0</td>\n",
       "      <td>3.0</td>\n",
       "      <td>4.0</td>\n",
       "      <td>5500.0</td>\n",
       "      <td>0.0</td>\n",
       "      <td>2.0</td>\n",
       "      <td>...</td>\n",
       "      <td>1.0</td>\n",
       "      <td>0.0</td>\n",
       "      <td>1.0</td>\n",
       "      <td>2.0</td>\n",
       "      <td>1.0</td>\n",
       "      <td>1.0</td>\n",
       "      <td>4.0</td>\n",
       "      <td>0.0</td>\n",
       "      <td>2.0</td>\n",
       "      <td>1.0</td>\n",
       "    </tr>\n",
       "    <tr>\n",
       "      <th>max</th>\n",
       "      <td>18.0</td>\n",
       "      <td>953.0</td>\n",
       "      <td>6.0</td>\n",
       "      <td>6.0</td>\n",
       "      <td>4.0</td>\n",
       "      <td>4.0</td>\n",
       "      <td>20.0</td>\n",
       "      <td>30000.0</td>\n",
       "      <td>5.0</td>\n",
       "      <td>4.0</td>\n",
       "      <td>...</td>\n",
       "      <td>4.0</td>\n",
       "      <td>4.0</td>\n",
       "      <td>1.0</td>\n",
       "      <td>4.0</td>\n",
       "      <td>1.0</td>\n",
       "      <td>1.0</td>\n",
       "      <td>4.0</td>\n",
       "      <td>1.0</td>\n",
       "      <td>4.0</td>\n",
       "      <td>1.0</td>\n",
       "    </tr>\n",
       "  </tbody>\n",
       "</table>\n",
       "<p>8 rows × 27 columns</p>\n",
       "</div>"
      ],
      "text/plain": [
       "          Idade  Nota em Matemática  Escolaridade pai  Escolaridade mãe  \\\n",
       "count  533953.0            533953.0          533953.0          533953.0   \n",
       "mean       17.0               549.0               4.0               4.0   \n",
       "std         0.0               112.0               1.0               1.0   \n",
       "min        17.0                 0.0               0.0               0.0   \n",
       "25%        17.0               455.0               3.0               3.0   \n",
       "50%        17.0               534.0               4.0               4.0   \n",
       "75%        18.0               632.0               4.0               5.0   \n",
       "max        18.0               953.0               6.0               6.0   \n",
       "\n",
       "       Ocupação pai  Ocupação mãe  Nº de residentes  Renda familiar  \\\n",
       "count      533953.0      533953.0          533953.0        533953.0   \n",
       "mean            2.0           2.0               4.0          4882.0   \n",
       "std             1.0           1.0               1.0          5970.0   \n",
       "min             0.0           0.0               1.0             0.0   \n",
       "25%             1.0           1.0               3.0          1650.0   \n",
       "50%             2.0           2.0               4.0          2750.0   \n",
       "75%             3.0           3.0               4.0          5500.0   \n",
       "max             4.0           4.0              20.0         30000.0   \n",
       "\n",
       "       Emp. domestico(a)  Banheiros  ...  Microondas  Máq. lavar-louça  \\\n",
       "count           533953.0   533953.0  ...    533953.0          533953.0   \n",
       "mean                 0.0        2.0  ...         1.0               0.0   \n",
       "std                  1.0        1.0  ...         1.0               0.0   \n",
       "min                  0.0        0.0  ...         0.0               0.0   \n",
       "25%                  0.0        1.0  ...         0.0               0.0   \n",
       "50%                  0.0        1.0  ...         1.0               0.0   \n",
       "75%                  0.0        2.0  ...         1.0               0.0   \n",
       "max                  5.0        4.0  ...         4.0               4.0   \n",
       "\n",
       "       Aspirador  Televisor       DVD  TV por assinatura  Tel. celular  \\\n",
       "count   533953.0   533953.0  533953.0           533953.0      533953.0   \n",
       "mean         0.0        2.0       0.0                0.0           3.0   \n",
       "std          0.0        1.0       0.0                0.0           1.0   \n",
       "min          0.0        0.0       0.0                0.0           0.0   \n",
       "25%          0.0        1.0       0.0                0.0           2.0   \n",
       "50%          0.0        1.0       0.0                0.0           3.0   \n",
       "75%          1.0        2.0       1.0                1.0           4.0   \n",
       "max          1.0        4.0       1.0                1.0           4.0   \n",
       "\n",
       "       Tel. fixo  Computador  Internet  \n",
       "count   533953.0    533953.0  533953.0  \n",
       "mean         0.0         1.0       1.0  \n",
       "std          0.0         1.0       0.0  \n",
       "min          0.0         0.0       0.0  \n",
       "25%          0.0         0.0       1.0  \n",
       "50%          0.0         1.0       1.0  \n",
       "75%          0.0         2.0       1.0  \n",
       "max          1.0         4.0       1.0  \n",
       "\n",
       "[8 rows x 27 columns]"
      ]
     },
     "execution_count": 6,
     "metadata": {},
     "output_type": "execute_result"
    }
   ],
   "source": [
    "final_enem_df[variaveis_numericas].describe().round()"
   ]
  },
  {
   "cell_type": "code",
   "execution_count": 56,
   "id": "c53c013c",
   "metadata": {},
   "outputs": [
    {
     "data": {
      "text/html": [
       "<div>\n",
       "<style scoped>\n",
       "    .dataframe tbody tr th:only-of-type {\n",
       "        vertical-align: middle;\n",
       "    }\n",
       "\n",
       "    .dataframe tbody tr th {\n",
       "        vertical-align: top;\n",
       "    }\n",
       "\n",
       "    .dataframe thead th {\n",
       "        text-align: right;\n",
       "    }\n",
       "</style>\n",
       "<table border=\"1\" class=\"dataframe\">\n",
       "  <thead>\n",
       "    <tr style=\"text-align: right;\">\n",
       "      <th></th>\n",
       "      <th>Sexo</th>\n",
       "      <th>Cor/Raça</th>\n",
       "      <th>Escola</th>\n",
       "      <th>Município</th>\n",
       "      <th>UF</th>\n",
       "      <th>Localização</th>\n",
       "    </tr>\n",
       "  </thead>\n",
       "  <tbody>\n",
       "    <tr>\n",
       "      <th>count</th>\n",
       "      <td>533953</td>\n",
       "      <td>533953</td>\n",
       "      <td>533953</td>\n",
       "      <td>533953</td>\n",
       "      <td>533953</td>\n",
       "      <td>533953</td>\n",
       "    </tr>\n",
       "    <tr>\n",
       "      <th>unique</th>\n",
       "      <td>2</td>\n",
       "      <td>6</td>\n",
       "      <td>2</td>\n",
       "      <td>5205</td>\n",
       "      <td>27</td>\n",
       "      <td>2</td>\n",
       "    </tr>\n",
       "    <tr>\n",
       "      <th>top</th>\n",
       "      <td>Feminino</td>\n",
       "      <td>Branca</td>\n",
       "      <td>Público</td>\n",
       "      <td>São Paulo</td>\n",
       "      <td>SP</td>\n",
       "      <td>Urbana</td>\n",
       "    </tr>\n",
       "    <tr>\n",
       "      <th>freq</th>\n",
       "      <td>304794</td>\n",
       "      <td>270199</td>\n",
       "      <td>383307</td>\n",
       "      <td>30586</td>\n",
       "      <td>109722</td>\n",
       "      <td>518244</td>\n",
       "    </tr>\n",
       "  </tbody>\n",
       "</table>\n",
       "</div>"
      ],
      "text/plain": [
       "            Sexo Cor/Raça   Escola  Município      UF Localização\n",
       "count     533953   533953   533953     533953  533953      533953\n",
       "unique         2        6        2       5205      27           2\n",
       "top     Feminino   Branca  Público  São Paulo      SP      Urbana\n",
       "freq      304794   270199   383307      30586  109722      518244"
      ]
     },
     "execution_count": 56,
     "metadata": {},
     "output_type": "execute_result"
    }
   ],
   "source": [
    "final_enem_df[variaveis_texto].describe().round(2)"
   ]
  },
  {
   "cell_type": "markdown",
   "id": "08d94748",
   "metadata": {},
   "source": [
    "#### Distribuição de frequência\n",
    "Tipo de Escola x Cor/Raça"
   ]
  },
  {
   "cell_type": "code",
   "execution_count": 6,
   "id": "ee6a7977",
   "metadata": {},
   "outputs": [
    {
     "data": {
      "text/html": [
       "<div>\n",
       "<style scoped>\n",
       "    .dataframe tbody tr th:only-of-type {\n",
       "        vertical-align: middle;\n",
       "    }\n",
       "\n",
       "    .dataframe tbody tr th {\n",
       "        vertical-align: top;\n",
       "    }\n",
       "\n",
       "    .dataframe thead th {\n",
       "        text-align: right;\n",
       "    }\n",
       "</style>\n",
       "<table border=\"1\" class=\"dataframe\">\n",
       "  <thead>\n",
       "    <tr style=\"text-align: right;\">\n",
       "      <th>Cor/Raça</th>\n",
       "      <th>Amarela</th>\n",
       "      <th>Branca</th>\n",
       "      <th>Indígena</th>\n",
       "      <th>Não declarado</th>\n",
       "      <th>Parda</th>\n",
       "      <th>Preta</th>\n",
       "    </tr>\n",
       "    <tr>\n",
       "      <th>Escola</th>\n",
       "      <th></th>\n",
       "      <th></th>\n",
       "      <th></th>\n",
       "      <th></th>\n",
       "      <th></th>\n",
       "      <th></th>\n",
       "    </tr>\n",
       "  </thead>\n",
       "  <tbody>\n",
       "    <tr>\n",
       "      <th>Privada</th>\n",
       "      <td>0.576830</td>\n",
       "      <td>19.905685</td>\n",
       "      <td>0.023223</td>\n",
       "      <td>0.457156</td>\n",
       "      <td>5.988917</td>\n",
       "      <td>1.261534</td>\n",
       "    </tr>\n",
       "    <tr>\n",
       "      <th>Público</th>\n",
       "      <td>1.266216</td>\n",
       "      <td>30.697833</td>\n",
       "      <td>0.328681</td>\n",
       "      <td>1.486648</td>\n",
       "      <td>31.047676</td>\n",
       "      <td>6.959601</td>\n",
       "    </tr>\n",
       "  </tbody>\n",
       "</table>\n",
       "</div>"
      ],
      "text/plain": [
       "Cor/Raça   Amarela     Branca  Indígena  Não declarado      Parda     Preta\n",
       "Escola                                                                     \n",
       "Privada   0.576830  19.905685  0.023223       0.457156   5.988917  1.261534\n",
       "Público   1.266216  30.697833  0.328681       1.486648  31.047676  6.959601"
      ]
     },
     "execution_count": 6,
     "metadata": {},
     "output_type": "execute_result"
    }
   ],
   "source": [
    "pd.crosstab(final_enem_df.Escola, final_enem_df['Cor/Raça'], normalize=True)*100"
   ]
  },
  {
   "cell_type": "markdown",
   "id": "67883d40",
   "metadata": {},
   "source": [
    "Tipo de Escola x Renda"
   ]
  },
  {
   "cell_type": "code",
   "execution_count": 7,
   "id": "12fba674",
   "metadata": {},
   "outputs": [
    {
     "data": {
      "text/html": [
       "<div>\n",
       "<style scoped>\n",
       "    .dataframe tbody tr th:only-of-type {\n",
       "        vertical-align: middle;\n",
       "    }\n",
       "\n",
       "    .dataframe tbody tr th {\n",
       "        vertical-align: top;\n",
       "    }\n",
       "\n",
       "    .dataframe thead th {\n",
       "        text-align: right;\n",
       "    }\n",
       "</style>\n",
       "<table border=\"1\" class=\"dataframe\">\n",
       "  <thead>\n",
       "    <tr style=\"text-align: right;\">\n",
       "      <th>Renda familiar</th>\n",
       "      <th>0</th>\n",
       "      <th>1100</th>\n",
       "      <th>1650</th>\n",
       "      <th>2200</th>\n",
       "      <th>2750</th>\n",
       "      <th>3300</th>\n",
       "      <th>4400</th>\n",
       "      <th>5500</th>\n",
       "      <th>6600</th>\n",
       "      <th>7700</th>\n",
       "      <th>8800</th>\n",
       "      <th>9900</th>\n",
       "      <th>11000</th>\n",
       "      <th>13200</th>\n",
       "      <th>16500</th>\n",
       "      <th>22000</th>\n",
       "      <th>30000</th>\n",
       "    </tr>\n",
       "    <tr>\n",
       "      <th>Escola</th>\n",
       "      <th></th>\n",
       "      <th></th>\n",
       "      <th></th>\n",
       "      <th></th>\n",
       "      <th></th>\n",
       "      <th></th>\n",
       "      <th></th>\n",
       "      <th></th>\n",
       "      <th></th>\n",
       "      <th></th>\n",
       "      <th></th>\n",
       "      <th></th>\n",
       "      <th></th>\n",
       "      <th></th>\n",
       "      <th></th>\n",
       "      <th></th>\n",
       "      <th></th>\n",
       "    </tr>\n",
       "  </thead>\n",
       "  <tbody>\n",
       "    <tr>\n",
       "      <th>Privada</th>\n",
       "      <td>0.140087</td>\n",
       "      <td>0.756808</td>\n",
       "      <td>1.198420</td>\n",
       "      <td>1.781430</td>\n",
       "      <td>1.427654</td>\n",
       "      <td>2.185398</td>\n",
       "      <td>2.544606</td>\n",
       "      <td>2.871601</td>\n",
       "      <td>2.127715</td>\n",
       "      <td>1.445446</td>\n",
       "      <td>1.277828</td>\n",
       "      <td>1.202353</td>\n",
       "      <td>2.018155</td>\n",
       "      <td>1.340193</td>\n",
       "      <td>1.639096</td>\n",
       "      <td>1.781056</td>\n",
       "      <td>2.475499</td>\n",
       "    </tr>\n",
       "    <tr>\n",
       "      <th>Público</th>\n",
       "      <td>3.441876</td>\n",
       "      <td>18.725618</td>\n",
       "      <td>11.752533</td>\n",
       "      <td>9.912483</td>\n",
       "      <td>5.449731</td>\n",
       "      <td>6.240437</td>\n",
       "      <td>5.305149</td>\n",
       "      <td>3.791345</td>\n",
       "      <td>2.145320</td>\n",
       "      <td>1.233255</td>\n",
       "      <td>0.895772</td>\n",
       "      <td>0.685454</td>\n",
       "      <td>0.840523</td>\n",
       "      <td>0.459778</td>\n",
       "      <td>0.407714</td>\n",
       "      <td>0.288602</td>\n",
       "      <td>0.211067</td>\n",
       "    </tr>\n",
       "  </tbody>\n",
       "</table>\n",
       "</div>"
      ],
      "text/plain": [
       "Renda familiar     0          1100       1650      2200      2750      3300   \\\n",
       "Escola                                                                         \n",
       "Privada         0.140087   0.756808   1.198420  1.781430  1.427654  2.185398   \n",
       "Público         3.441876  18.725618  11.752533  9.912483  5.449731  6.240437   \n",
       "\n",
       "Renda familiar     4400      5500      6600      7700      8800      9900   \\\n",
       "Escola                                                                       \n",
       "Privada         2.544606  2.871601  2.127715  1.445446  1.277828  1.202353   \n",
       "Público         5.305149  3.791345  2.145320  1.233255  0.895772  0.685454   \n",
       "\n",
       "Renda familiar     11000     13200     16500     22000     30000  \n",
       "Escola                                                            \n",
       "Privada         2.018155  1.340193  1.639096  1.781056  2.475499  \n",
       "Público         0.840523  0.459778  0.407714  0.288602  0.211067  "
      ]
     },
     "execution_count": 7,
     "metadata": {},
     "output_type": "execute_result"
    }
   ],
   "source": [
    "pd.crosstab(final_enem_df.Escola, final_enem_df['Renda familiar'], normalize=True)*100"
   ]
  },
  {
   "cell_type": "markdown",
   "id": "823dc22f",
   "metadata": {},
   "source": [
    "#### Matriz de correlação"
   ]
  },
  {
   "cell_type": "code",
   "execution_count": 70,
   "id": "16fb4ab9",
   "metadata": {},
   "outputs": [
    {
     "data": {
      "text/html": [
       "<div>\n",
       "<style scoped>\n",
       "    .dataframe tbody tr th:only-of-type {\n",
       "        vertical-align: middle;\n",
       "    }\n",
       "\n",
       "    .dataframe tbody tr th {\n",
       "        vertical-align: top;\n",
       "    }\n",
       "\n",
       "    .dataframe thead th {\n",
       "        text-align: right;\n",
       "    }\n",
       "</style>\n",
       "<table border=\"1\" class=\"dataframe\">\n",
       "  <thead>\n",
       "    <tr style=\"text-align: right;\">\n",
       "      <th></th>\n",
       "      <th>Idade</th>\n",
       "      <th>Nota em Matemática</th>\n",
       "      <th>Escolaridade pai</th>\n",
       "      <th>Escolaridade mãe</th>\n",
       "      <th>Ocupação pai</th>\n",
       "      <th>Ocupação mãe</th>\n",
       "      <th>Nº de residentes</th>\n",
       "      <th>Renda familiar</th>\n",
       "      <th>Emp. domestico(a)</th>\n",
       "      <th>Banheiros</th>\n",
       "      <th>...</th>\n",
       "      <th>Microondas</th>\n",
       "      <th>Máq. lavar-louça</th>\n",
       "      <th>Aspirador</th>\n",
       "      <th>Televisor</th>\n",
       "      <th>DVD</th>\n",
       "      <th>TV por assinatura</th>\n",
       "      <th>Tel. celular</th>\n",
       "      <th>Tel. fixo</th>\n",
       "      <th>Computador</th>\n",
       "      <th>Internet</th>\n",
       "    </tr>\n",
       "  </thead>\n",
       "  <tbody>\n",
       "    <tr>\n",
       "      <th>Idade</th>\n",
       "      <td>1.00</td>\n",
       "      <td>-0.09</td>\n",
       "      <td>-0.10</td>\n",
       "      <td>-0.12</td>\n",
       "      <td>-0.09</td>\n",
       "      <td>-0.10</td>\n",
       "      <td>0.02</td>\n",
       "      <td>-0.10</td>\n",
       "      <td>-0.03</td>\n",
       "      <td>-0.08</td>\n",
       "      <td>...</td>\n",
       "      <td>-0.06</td>\n",
       "      <td>-0.02</td>\n",
       "      <td>-0.07</td>\n",
       "      <td>-0.06</td>\n",
       "      <td>-0.02</td>\n",
       "      <td>-0.05</td>\n",
       "      <td>-0.05</td>\n",
       "      <td>-0.03</td>\n",
       "      <td>-0.08</td>\n",
       "      <td>-0.05</td>\n",
       "    </tr>\n",
       "    <tr>\n",
       "      <th>Nota em Matemática</th>\n",
       "      <td>-0.09</td>\n",
       "      <td>1.00</td>\n",
       "      <td>0.29</td>\n",
       "      <td>0.28</td>\n",
       "      <td>0.29</td>\n",
       "      <td>0.28</td>\n",
       "      <td>-0.08</td>\n",
       "      <td>0.38</td>\n",
       "      <td>0.11</td>\n",
       "      <td>0.29</td>\n",
       "      <td>...</td>\n",
       "      <td>0.23</td>\n",
       "      <td>0.10</td>\n",
       "      <td>0.26</td>\n",
       "      <td>0.25</td>\n",
       "      <td>0.10</td>\n",
       "      <td>0.15</td>\n",
       "      <td>0.21</td>\n",
       "      <td>0.15</td>\n",
       "      <td>0.37</td>\n",
       "      <td>0.17</td>\n",
       "    </tr>\n",
       "    <tr>\n",
       "      <th>Escolaridade pai</th>\n",
       "      <td>-0.10</td>\n",
       "      <td>0.29</td>\n",
       "      <td>1.00</td>\n",
       "      <td>0.52</td>\n",
       "      <td>0.53</td>\n",
       "      <td>0.41</td>\n",
       "      <td>-0.06</td>\n",
       "      <td>0.46</td>\n",
       "      <td>0.12</td>\n",
       "      <td>0.34</td>\n",
       "      <td>...</td>\n",
       "      <td>0.28</td>\n",
       "      <td>0.11</td>\n",
       "      <td>0.29</td>\n",
       "      <td>0.29</td>\n",
       "      <td>0.11</td>\n",
       "      <td>0.24</td>\n",
       "      <td>0.26</td>\n",
       "      <td>0.18</td>\n",
       "      <td>0.41</td>\n",
       "      <td>0.21</td>\n",
       "    </tr>\n",
       "    <tr>\n",
       "      <th>Escolaridade mãe</th>\n",
       "      <td>-0.12</td>\n",
       "      <td>0.28</td>\n",
       "      <td>0.52</td>\n",
       "      <td>1.00</td>\n",
       "      <td>0.39</td>\n",
       "      <td>0.59</td>\n",
       "      <td>-0.08</td>\n",
       "      <td>0.45</td>\n",
       "      <td>0.12</td>\n",
       "      <td>0.32</td>\n",
       "      <td>...</td>\n",
       "      <td>0.26</td>\n",
       "      <td>0.10</td>\n",
       "      <td>0.25</td>\n",
       "      <td>0.26</td>\n",
       "      <td>0.08</td>\n",
       "      <td>0.22</td>\n",
       "      <td>0.25</td>\n",
       "      <td>0.15</td>\n",
       "      <td>0.40</td>\n",
       "      <td>0.22</td>\n",
       "    </tr>\n",
       "    <tr>\n",
       "      <th>Ocupação pai</th>\n",
       "      <td>-0.09</td>\n",
       "      <td>0.29</td>\n",
       "      <td>0.53</td>\n",
       "      <td>0.39</td>\n",
       "      <td>1.00</td>\n",
       "      <td>0.51</td>\n",
       "      <td>-0.07</td>\n",
       "      <td>0.49</td>\n",
       "      <td>0.17</td>\n",
       "      <td>0.38</td>\n",
       "      <td>...</td>\n",
       "      <td>0.32</td>\n",
       "      <td>0.13</td>\n",
       "      <td>0.30</td>\n",
       "      <td>0.33</td>\n",
       "      <td>0.11</td>\n",
       "      <td>0.26</td>\n",
       "      <td>0.29</td>\n",
       "      <td>0.19</td>\n",
       "      <td>0.42</td>\n",
       "      <td>0.24</td>\n",
       "    </tr>\n",
       "    <tr>\n",
       "      <th>Ocupação mãe</th>\n",
       "      <td>-0.10</td>\n",
       "      <td>0.28</td>\n",
       "      <td>0.41</td>\n",
       "      <td>0.59</td>\n",
       "      <td>0.51</td>\n",
       "      <td>1.00</td>\n",
       "      <td>-0.08</td>\n",
       "      <td>0.48</td>\n",
       "      <td>0.17</td>\n",
       "      <td>0.37</td>\n",
       "      <td>...</td>\n",
       "      <td>0.29</td>\n",
       "      <td>0.12</td>\n",
       "      <td>0.28</td>\n",
       "      <td>0.30</td>\n",
       "      <td>0.09</td>\n",
       "      <td>0.25</td>\n",
       "      <td>0.26</td>\n",
       "      <td>0.17</td>\n",
       "      <td>0.41</td>\n",
       "      <td>0.22</td>\n",
       "    </tr>\n",
       "    <tr>\n",
       "      <th>Nº de residentes</th>\n",
       "      <td>0.02</td>\n",
       "      <td>-0.08</td>\n",
       "      <td>-0.06</td>\n",
       "      <td>-0.08</td>\n",
       "      <td>-0.07</td>\n",
       "      <td>-0.08</td>\n",
       "      <td>1.00</td>\n",
       "      <td>-0.01</td>\n",
       "      <td>0.02</td>\n",
       "      <td>0.04</td>\n",
       "      <td>...</td>\n",
       "      <td>-0.10</td>\n",
       "      <td>-0.01</td>\n",
       "      <td>-0.07</td>\n",
       "      <td>0.02</td>\n",
       "      <td>-0.03</td>\n",
       "      <td>-0.01</td>\n",
       "      <td>0.24</td>\n",
       "      <td>-0.00</td>\n",
       "      <td>-0.03</td>\n",
       "      <td>-0.06</td>\n",
       "    </tr>\n",
       "    <tr>\n",
       "      <th>Renda familiar</th>\n",
       "      <td>-0.10</td>\n",
       "      <td>0.38</td>\n",
       "      <td>0.46</td>\n",
       "      <td>0.45</td>\n",
       "      <td>0.49</td>\n",
       "      <td>0.48</td>\n",
       "      <td>-0.01</td>\n",
       "      <td>1.00</td>\n",
       "      <td>0.26</td>\n",
       "      <td>0.53</td>\n",
       "      <td>...</td>\n",
       "      <td>0.38</td>\n",
       "      <td>0.19</td>\n",
       "      <td>0.45</td>\n",
       "      <td>0.47</td>\n",
       "      <td>0.18</td>\n",
       "      <td>0.38</td>\n",
       "      <td>0.39</td>\n",
       "      <td>0.25</td>\n",
       "      <td>0.56</td>\n",
       "      <td>0.23</td>\n",
       "    </tr>\n",
       "    <tr>\n",
       "      <th>Emp. domestico(a)</th>\n",
       "      <td>-0.03</td>\n",
       "      <td>0.11</td>\n",
       "      <td>0.12</td>\n",
       "      <td>0.12</td>\n",
       "      <td>0.17</td>\n",
       "      <td>0.17</td>\n",
       "      <td>0.02</td>\n",
       "      <td>0.26</td>\n",
       "      <td>1.00</td>\n",
       "      <td>0.29</td>\n",
       "      <td>...</td>\n",
       "      <td>0.12</td>\n",
       "      <td>0.14</td>\n",
       "      <td>0.12</td>\n",
       "      <td>0.22</td>\n",
       "      <td>0.07</td>\n",
       "      <td>0.16</td>\n",
       "      <td>0.10</td>\n",
       "      <td>0.08</td>\n",
       "      <td>0.20</td>\n",
       "      <td>0.05</td>\n",
       "    </tr>\n",
       "    <tr>\n",
       "      <th>Banheiros</th>\n",
       "      <td>-0.08</td>\n",
       "      <td>0.29</td>\n",
       "      <td>0.34</td>\n",
       "      <td>0.32</td>\n",
       "      <td>0.38</td>\n",
       "      <td>0.37</td>\n",
       "      <td>0.04</td>\n",
       "      <td>0.53</td>\n",
       "      <td>0.29</td>\n",
       "      <td>1.00</td>\n",
       "      <td>...</td>\n",
       "      <td>0.34</td>\n",
       "      <td>0.20</td>\n",
       "      <td>0.37</td>\n",
       "      <td>0.49</td>\n",
       "      <td>0.17</td>\n",
       "      <td>0.30</td>\n",
       "      <td>0.34</td>\n",
       "      <td>0.21</td>\n",
       "      <td>0.47</td>\n",
       "      <td>0.19</td>\n",
       "    </tr>\n",
       "    <tr>\n",
       "      <th>Quartos</th>\n",
       "      <td>-0.04</td>\n",
       "      <td>0.17</td>\n",
       "      <td>0.21</td>\n",
       "      <td>0.21</td>\n",
       "      <td>0.22</td>\n",
       "      <td>0.23</td>\n",
       "      <td>0.23</td>\n",
       "      <td>0.36</td>\n",
       "      <td>0.17</td>\n",
       "      <td>0.52</td>\n",
       "      <td>...</td>\n",
       "      <td>0.26</td>\n",
       "      <td>0.11</td>\n",
       "      <td>0.25</td>\n",
       "      <td>0.35</td>\n",
       "      <td>0.13</td>\n",
       "      <td>0.21</td>\n",
       "      <td>0.41</td>\n",
       "      <td>0.14</td>\n",
       "      <td>0.34</td>\n",
       "      <td>0.21</td>\n",
       "    </tr>\n",
       "    <tr>\n",
       "      <th>Carro</th>\n",
       "      <td>-0.09</td>\n",
       "      <td>0.27</td>\n",
       "      <td>0.32</td>\n",
       "      <td>0.32</td>\n",
       "      <td>0.36</td>\n",
       "      <td>0.35</td>\n",
       "      <td>0.05</td>\n",
       "      <td>0.53</td>\n",
       "      <td>0.21</td>\n",
       "      <td>0.48</td>\n",
       "      <td>...</td>\n",
       "      <td>0.40</td>\n",
       "      <td>0.16</td>\n",
       "      <td>0.43</td>\n",
       "      <td>0.42</td>\n",
       "      <td>0.15</td>\n",
       "      <td>0.28</td>\n",
       "      <td>0.41</td>\n",
       "      <td>0.22</td>\n",
       "      <td>0.47</td>\n",
       "      <td>0.24</td>\n",
       "    </tr>\n",
       "    <tr>\n",
       "      <th>Motocicleta</th>\n",
       "      <td>0.01</td>\n",
       "      <td>-0.05</td>\n",
       "      <td>-0.08</td>\n",
       "      <td>-0.03</td>\n",
       "      <td>-0.11</td>\n",
       "      <td>-0.07</td>\n",
       "      <td>0.09</td>\n",
       "      <td>-0.04</td>\n",
       "      <td>-0.00</td>\n",
       "      <td>-0.00</td>\n",
       "      <td>...</td>\n",
       "      <td>-0.02</td>\n",
       "      <td>-0.00</td>\n",
       "      <td>-0.04</td>\n",
       "      <td>-0.01</td>\n",
       "      <td>0.01</td>\n",
       "      <td>-0.02</td>\n",
       "      <td>0.09</td>\n",
       "      <td>-0.07</td>\n",
       "      <td>-0.04</td>\n",
       "      <td>0.03</td>\n",
       "    </tr>\n",
       "    <tr>\n",
       "      <th>Geladeira</th>\n",
       "      <td>-0.03</td>\n",
       "      <td>0.09</td>\n",
       "      <td>0.11</td>\n",
       "      <td>0.10</td>\n",
       "      <td>0.13</td>\n",
       "      <td>0.12</td>\n",
       "      <td>0.05</td>\n",
       "      <td>0.21</td>\n",
       "      <td>0.15</td>\n",
       "      <td>0.31</td>\n",
       "      <td>...</td>\n",
       "      <td>0.20</td>\n",
       "      <td>0.12</td>\n",
       "      <td>0.18</td>\n",
       "      <td>0.30</td>\n",
       "      <td>0.12</td>\n",
       "      <td>0.15</td>\n",
       "      <td>0.18</td>\n",
       "      <td>0.11</td>\n",
       "      <td>0.21</td>\n",
       "      <td>0.10</td>\n",
       "    </tr>\n",
       "    <tr>\n",
       "      <th>Freezer</th>\n",
       "      <td>-0.04</td>\n",
       "      <td>0.22</td>\n",
       "      <td>0.20</td>\n",
       "      <td>0.17</td>\n",
       "      <td>0.23</td>\n",
       "      <td>0.21</td>\n",
       "      <td>-0.04</td>\n",
       "      <td>0.33</td>\n",
       "      <td>0.14</td>\n",
       "      <td>0.33</td>\n",
       "      <td>...</td>\n",
       "      <td>0.34</td>\n",
       "      <td>0.12</td>\n",
       "      <td>0.33</td>\n",
       "      <td>0.34</td>\n",
       "      <td>0.18</td>\n",
       "      <td>0.24</td>\n",
       "      <td>0.30</td>\n",
       "      <td>0.18</td>\n",
       "      <td>0.34</td>\n",
       "      <td>0.20</td>\n",
       "    </tr>\n",
       "    <tr>\n",
       "      <th>Máq. lavar-roupa</th>\n",
       "      <td>-0.06</td>\n",
       "      <td>0.23</td>\n",
       "      <td>0.31</td>\n",
       "      <td>0.30</td>\n",
       "      <td>0.35</td>\n",
       "      <td>0.32</td>\n",
       "      <td>-0.05</td>\n",
       "      <td>0.40</td>\n",
       "      <td>0.11</td>\n",
       "      <td>0.35</td>\n",
       "      <td>...</td>\n",
       "      <td>0.45</td>\n",
       "      <td>0.11</td>\n",
       "      <td>0.37</td>\n",
       "      <td>0.35</td>\n",
       "      <td>0.14</td>\n",
       "      <td>0.27</td>\n",
       "      <td>0.37</td>\n",
       "      <td>0.21</td>\n",
       "      <td>0.40</td>\n",
       "      <td>0.30</td>\n",
       "    </tr>\n",
       "    <tr>\n",
       "      <th>Máq. secar-roupa</th>\n",
       "      <td>-0.01</td>\n",
       "      <td>0.08</td>\n",
       "      <td>0.11</td>\n",
       "      <td>0.09</td>\n",
       "      <td>0.13</td>\n",
       "      <td>0.12</td>\n",
       "      <td>-0.02</td>\n",
       "      <td>0.20</td>\n",
       "      <td>0.10</td>\n",
       "      <td>0.17</td>\n",
       "      <td>...</td>\n",
       "      <td>0.17</td>\n",
       "      <td>0.17</td>\n",
       "      <td>0.20</td>\n",
       "      <td>0.18</td>\n",
       "      <td>0.11</td>\n",
       "      <td>0.15</td>\n",
       "      <td>0.15</td>\n",
       "      <td>0.07</td>\n",
       "      <td>0.20</td>\n",
       "      <td>0.09</td>\n",
       "    </tr>\n",
       "    <tr>\n",
       "      <th>Microondas</th>\n",
       "      <td>-0.06</td>\n",
       "      <td>0.23</td>\n",
       "      <td>0.28</td>\n",
       "      <td>0.26</td>\n",
       "      <td>0.32</td>\n",
       "      <td>0.29</td>\n",
       "      <td>-0.10</td>\n",
       "      <td>0.38</td>\n",
       "      <td>0.12</td>\n",
       "      <td>0.34</td>\n",
       "      <td>...</td>\n",
       "      <td>1.00</td>\n",
       "      <td>0.12</td>\n",
       "      <td>0.38</td>\n",
       "      <td>0.38</td>\n",
       "      <td>0.16</td>\n",
       "      <td>0.26</td>\n",
       "      <td>0.32</td>\n",
       "      <td>0.22</td>\n",
       "      <td>0.39</td>\n",
       "      <td>0.27</td>\n",
       "    </tr>\n",
       "    <tr>\n",
       "      <th>Máq. lavar-louça</th>\n",
       "      <td>-0.02</td>\n",
       "      <td>0.10</td>\n",
       "      <td>0.11</td>\n",
       "      <td>0.10</td>\n",
       "      <td>0.13</td>\n",
       "      <td>0.12</td>\n",
       "      <td>-0.01</td>\n",
       "      <td>0.19</td>\n",
       "      <td>0.14</td>\n",
       "      <td>0.20</td>\n",
       "      <td>...</td>\n",
       "      <td>0.12</td>\n",
       "      <td>1.00</td>\n",
       "      <td>0.17</td>\n",
       "      <td>0.16</td>\n",
       "      <td>0.09</td>\n",
       "      <td>0.12</td>\n",
       "      <td>0.07</td>\n",
       "      <td>0.09</td>\n",
       "      <td>0.18</td>\n",
       "      <td>0.04</td>\n",
       "    </tr>\n",
       "    <tr>\n",
       "      <th>Aspirador</th>\n",
       "      <td>-0.07</td>\n",
       "      <td>0.26</td>\n",
       "      <td>0.29</td>\n",
       "      <td>0.25</td>\n",
       "      <td>0.30</td>\n",
       "      <td>0.28</td>\n",
       "      <td>-0.07</td>\n",
       "      <td>0.45</td>\n",
       "      <td>0.12</td>\n",
       "      <td>0.37</td>\n",
       "      <td>...</td>\n",
       "      <td>0.38</td>\n",
       "      <td>0.17</td>\n",
       "      <td>1.00</td>\n",
       "      <td>0.40</td>\n",
       "      <td>0.21</td>\n",
       "      <td>0.28</td>\n",
       "      <td>0.29</td>\n",
       "      <td>0.23</td>\n",
       "      <td>0.44</td>\n",
       "      <td>0.17</td>\n",
       "    </tr>\n",
       "    <tr>\n",
       "      <th>Televisor</th>\n",
       "      <td>-0.06</td>\n",
       "      <td>0.25</td>\n",
       "      <td>0.29</td>\n",
       "      <td>0.26</td>\n",
       "      <td>0.33</td>\n",
       "      <td>0.30</td>\n",
       "      <td>0.02</td>\n",
       "      <td>0.47</td>\n",
       "      <td>0.22</td>\n",
       "      <td>0.49</td>\n",
       "      <td>...</td>\n",
       "      <td>0.38</td>\n",
       "      <td>0.16</td>\n",
       "      <td>0.40</td>\n",
       "      <td>1.00</td>\n",
       "      <td>0.24</td>\n",
       "      <td>0.35</td>\n",
       "      <td>0.37</td>\n",
       "      <td>0.24</td>\n",
       "      <td>0.45</td>\n",
       "      <td>0.19</td>\n",
       "    </tr>\n",
       "    <tr>\n",
       "      <th>DVD</th>\n",
       "      <td>-0.02</td>\n",
       "      <td>0.10</td>\n",
       "      <td>0.11</td>\n",
       "      <td>0.08</td>\n",
       "      <td>0.11</td>\n",
       "      <td>0.09</td>\n",
       "      <td>-0.03</td>\n",
       "      <td>0.18</td>\n",
       "      <td>0.07</td>\n",
       "      <td>0.17</td>\n",
       "      <td>...</td>\n",
       "      <td>0.16</td>\n",
       "      <td>0.09</td>\n",
       "      <td>0.21</td>\n",
       "      <td>0.24</td>\n",
       "      <td>1.00</td>\n",
       "      <td>0.16</td>\n",
       "      <td>0.16</td>\n",
       "      <td>0.14</td>\n",
       "      <td>0.22</td>\n",
       "      <td>0.08</td>\n",
       "    </tr>\n",
       "    <tr>\n",
       "      <th>TV por assinatura</th>\n",
       "      <td>-0.05</td>\n",
       "      <td>0.15</td>\n",
       "      <td>0.24</td>\n",
       "      <td>0.22</td>\n",
       "      <td>0.26</td>\n",
       "      <td>0.25</td>\n",
       "      <td>-0.01</td>\n",
       "      <td>0.38</td>\n",
       "      <td>0.16</td>\n",
       "      <td>0.30</td>\n",
       "      <td>...</td>\n",
       "      <td>0.26</td>\n",
       "      <td>0.12</td>\n",
       "      <td>0.28</td>\n",
       "      <td>0.35</td>\n",
       "      <td>0.16</td>\n",
       "      <td>1.00</td>\n",
       "      <td>0.24</td>\n",
       "      <td>0.23</td>\n",
       "      <td>0.32</td>\n",
       "      <td>0.14</td>\n",
       "    </tr>\n",
       "    <tr>\n",
       "      <th>Tel. celular</th>\n",
       "      <td>-0.05</td>\n",
       "      <td>0.21</td>\n",
       "      <td>0.26</td>\n",
       "      <td>0.25</td>\n",
       "      <td>0.29</td>\n",
       "      <td>0.26</td>\n",
       "      <td>0.24</td>\n",
       "      <td>0.39</td>\n",
       "      <td>0.10</td>\n",
       "      <td>0.34</td>\n",
       "      <td>...</td>\n",
       "      <td>0.32</td>\n",
       "      <td>0.07</td>\n",
       "      <td>0.29</td>\n",
       "      <td>0.37</td>\n",
       "      <td>0.16</td>\n",
       "      <td>0.24</td>\n",
       "      <td>1.00</td>\n",
       "      <td>0.15</td>\n",
       "      <td>0.40</td>\n",
       "      <td>0.32</td>\n",
       "    </tr>\n",
       "    <tr>\n",
       "      <th>Tel. fixo</th>\n",
       "      <td>-0.03</td>\n",
       "      <td>0.15</td>\n",
       "      <td>0.18</td>\n",
       "      <td>0.15</td>\n",
       "      <td>0.19</td>\n",
       "      <td>0.17</td>\n",
       "      <td>-0.00</td>\n",
       "      <td>0.25</td>\n",
       "      <td>0.08</td>\n",
       "      <td>0.21</td>\n",
       "      <td>...</td>\n",
       "      <td>0.22</td>\n",
       "      <td>0.09</td>\n",
       "      <td>0.23</td>\n",
       "      <td>0.24</td>\n",
       "      <td>0.14</td>\n",
       "      <td>0.23</td>\n",
       "      <td>0.15</td>\n",
       "      <td>1.00</td>\n",
       "      <td>0.26</td>\n",
       "      <td>0.12</td>\n",
       "    </tr>\n",
       "    <tr>\n",
       "      <th>Computador</th>\n",
       "      <td>-0.08</td>\n",
       "      <td>0.37</td>\n",
       "      <td>0.41</td>\n",
       "      <td>0.40</td>\n",
       "      <td>0.42</td>\n",
       "      <td>0.41</td>\n",
       "      <td>-0.03</td>\n",
       "      <td>0.56</td>\n",
       "      <td>0.20</td>\n",
       "      <td>0.47</td>\n",
       "      <td>...</td>\n",
       "      <td>0.39</td>\n",
       "      <td>0.18</td>\n",
       "      <td>0.44</td>\n",
       "      <td>0.45</td>\n",
       "      <td>0.22</td>\n",
       "      <td>0.32</td>\n",
       "      <td>0.40</td>\n",
       "      <td>0.26</td>\n",
       "      <td>1.00</td>\n",
       "      <td>0.25</td>\n",
       "    </tr>\n",
       "    <tr>\n",
       "      <th>Internet</th>\n",
       "      <td>-0.05</td>\n",
       "      <td>0.17</td>\n",
       "      <td>0.21</td>\n",
       "      <td>0.22</td>\n",
       "      <td>0.24</td>\n",
       "      <td>0.22</td>\n",
       "      <td>-0.06</td>\n",
       "      <td>0.23</td>\n",
       "      <td>0.05</td>\n",
       "      <td>0.19</td>\n",
       "      <td>...</td>\n",
       "      <td>0.27</td>\n",
       "      <td>0.04</td>\n",
       "      <td>0.17</td>\n",
       "      <td>0.19</td>\n",
       "      <td>0.08</td>\n",
       "      <td>0.14</td>\n",
       "      <td>0.32</td>\n",
       "      <td>0.12</td>\n",
       "      <td>0.25</td>\n",
       "      <td>1.00</td>\n",
       "    </tr>\n",
       "  </tbody>\n",
       "</table>\n",
       "<p>27 rows × 27 columns</p>\n",
       "</div>"
      ],
      "text/plain": [
       "                    Idade  Nota em Matemática  Escolaridade pai  \\\n",
       "Idade                1.00               -0.09             -0.10   \n",
       "Nota em Matemática  -0.09                1.00              0.29   \n",
       "Escolaridade pai    -0.10                0.29              1.00   \n",
       "Escolaridade mãe    -0.12                0.28              0.52   \n",
       "Ocupação pai        -0.09                0.29              0.53   \n",
       "Ocupação mãe        -0.10                0.28              0.41   \n",
       "Nº de residentes     0.02               -0.08             -0.06   \n",
       "Renda familiar      -0.10                0.38              0.46   \n",
       "Emp. domestico(a)   -0.03                0.11              0.12   \n",
       "Banheiros           -0.08                0.29              0.34   \n",
       "Quartos             -0.04                0.17              0.21   \n",
       "Carro               -0.09                0.27              0.32   \n",
       "Motocicleta          0.01               -0.05             -0.08   \n",
       "Geladeira           -0.03                0.09              0.11   \n",
       "Freezer             -0.04                0.22              0.20   \n",
       "Máq. lavar-roupa    -0.06                0.23              0.31   \n",
       "Máq. secar-roupa    -0.01                0.08              0.11   \n",
       "Microondas          -0.06                0.23              0.28   \n",
       "Máq. lavar-louça    -0.02                0.10              0.11   \n",
       "Aspirador           -0.07                0.26              0.29   \n",
       "Televisor           -0.06                0.25              0.29   \n",
       "DVD                 -0.02                0.10              0.11   \n",
       "TV por assinatura   -0.05                0.15              0.24   \n",
       "Tel. celular        -0.05                0.21              0.26   \n",
       "Tel. fixo           -0.03                0.15              0.18   \n",
       "Computador          -0.08                0.37              0.41   \n",
       "Internet            -0.05                0.17              0.21   \n",
       "\n",
       "                    Escolaridade mãe  Ocupação pai  Ocupação mãe  \\\n",
       "Idade                          -0.12         -0.09         -0.10   \n",
       "Nota em Matemática              0.28          0.29          0.28   \n",
       "Escolaridade pai                0.52          0.53          0.41   \n",
       "Escolaridade mãe                1.00          0.39          0.59   \n",
       "Ocupação pai                    0.39          1.00          0.51   \n",
       "Ocupação mãe                    0.59          0.51          1.00   \n",
       "Nº de residentes               -0.08         -0.07         -0.08   \n",
       "Renda familiar                  0.45          0.49          0.48   \n",
       "Emp. domestico(a)               0.12          0.17          0.17   \n",
       "Banheiros                       0.32          0.38          0.37   \n",
       "Quartos                         0.21          0.22          0.23   \n",
       "Carro                           0.32          0.36          0.35   \n",
       "Motocicleta                    -0.03         -0.11         -0.07   \n",
       "Geladeira                       0.10          0.13          0.12   \n",
       "Freezer                         0.17          0.23          0.21   \n",
       "Máq. lavar-roupa                0.30          0.35          0.32   \n",
       "Máq. secar-roupa                0.09          0.13          0.12   \n",
       "Microondas                      0.26          0.32          0.29   \n",
       "Máq. lavar-louça                0.10          0.13          0.12   \n",
       "Aspirador                       0.25          0.30          0.28   \n",
       "Televisor                       0.26          0.33          0.30   \n",
       "DVD                             0.08          0.11          0.09   \n",
       "TV por assinatura               0.22          0.26          0.25   \n",
       "Tel. celular                    0.25          0.29          0.26   \n",
       "Tel. fixo                       0.15          0.19          0.17   \n",
       "Computador                      0.40          0.42          0.41   \n",
       "Internet                        0.22          0.24          0.22   \n",
       "\n",
       "                    Nº de residentes  Renda familiar  Emp. domestico(a)  \\\n",
       "Idade                           0.02           -0.10              -0.03   \n",
       "Nota em Matemática             -0.08            0.38               0.11   \n",
       "Escolaridade pai               -0.06            0.46               0.12   \n",
       "Escolaridade mãe               -0.08            0.45               0.12   \n",
       "Ocupação pai                   -0.07            0.49               0.17   \n",
       "Ocupação mãe                   -0.08            0.48               0.17   \n",
       "Nº de residentes                1.00           -0.01               0.02   \n",
       "Renda familiar                 -0.01            1.00               0.26   \n",
       "Emp. domestico(a)               0.02            0.26               1.00   \n",
       "Banheiros                       0.04            0.53               0.29   \n",
       "Quartos                         0.23            0.36               0.17   \n",
       "Carro                           0.05            0.53               0.21   \n",
       "Motocicleta                     0.09           -0.04              -0.00   \n",
       "Geladeira                       0.05            0.21               0.15   \n",
       "Freezer                        -0.04            0.33               0.14   \n",
       "Máq. lavar-roupa               -0.05            0.40               0.11   \n",
       "Máq. secar-roupa               -0.02            0.20               0.10   \n",
       "Microondas                     -0.10            0.38               0.12   \n",
       "Máq. lavar-louça               -0.01            0.19               0.14   \n",
       "Aspirador                      -0.07            0.45               0.12   \n",
       "Televisor                       0.02            0.47               0.22   \n",
       "DVD                            -0.03            0.18               0.07   \n",
       "TV por assinatura              -0.01            0.38               0.16   \n",
       "Tel. celular                    0.24            0.39               0.10   \n",
       "Tel. fixo                      -0.00            0.25               0.08   \n",
       "Computador                     -0.03            0.56               0.20   \n",
       "Internet                       -0.06            0.23               0.05   \n",
       "\n",
       "                    Banheiros  ...  Microondas  Máq. lavar-louça  Aspirador  \\\n",
       "Idade                   -0.08  ...       -0.06             -0.02      -0.07   \n",
       "Nota em Matemática       0.29  ...        0.23              0.10       0.26   \n",
       "Escolaridade pai         0.34  ...        0.28              0.11       0.29   \n",
       "Escolaridade mãe         0.32  ...        0.26              0.10       0.25   \n",
       "Ocupação pai             0.38  ...        0.32              0.13       0.30   \n",
       "Ocupação mãe             0.37  ...        0.29              0.12       0.28   \n",
       "Nº de residentes         0.04  ...       -0.10             -0.01      -0.07   \n",
       "Renda familiar           0.53  ...        0.38              0.19       0.45   \n",
       "Emp. domestico(a)        0.29  ...        0.12              0.14       0.12   \n",
       "Banheiros                1.00  ...        0.34              0.20       0.37   \n",
       "Quartos                  0.52  ...        0.26              0.11       0.25   \n",
       "Carro                    0.48  ...        0.40              0.16       0.43   \n",
       "Motocicleta             -0.00  ...       -0.02             -0.00      -0.04   \n",
       "Geladeira                0.31  ...        0.20              0.12       0.18   \n",
       "Freezer                  0.33  ...        0.34              0.12       0.33   \n",
       "Máq. lavar-roupa         0.35  ...        0.45              0.11       0.37   \n",
       "Máq. secar-roupa         0.17  ...        0.17              0.17       0.20   \n",
       "Microondas               0.34  ...        1.00              0.12       0.38   \n",
       "Máq. lavar-louça         0.20  ...        0.12              1.00       0.17   \n",
       "Aspirador                0.37  ...        0.38              0.17       1.00   \n",
       "Televisor                0.49  ...        0.38              0.16       0.40   \n",
       "DVD                      0.17  ...        0.16              0.09       0.21   \n",
       "TV por assinatura        0.30  ...        0.26              0.12       0.28   \n",
       "Tel. celular             0.34  ...        0.32              0.07       0.29   \n",
       "Tel. fixo                0.21  ...        0.22              0.09       0.23   \n",
       "Computador               0.47  ...        0.39              0.18       0.44   \n",
       "Internet                 0.19  ...        0.27              0.04       0.17   \n",
       "\n",
       "                    Televisor   DVD  TV por assinatura  Tel. celular  \\\n",
       "Idade                   -0.06 -0.02              -0.05         -0.05   \n",
       "Nota em Matemática       0.25  0.10               0.15          0.21   \n",
       "Escolaridade pai         0.29  0.11               0.24          0.26   \n",
       "Escolaridade mãe         0.26  0.08               0.22          0.25   \n",
       "Ocupação pai             0.33  0.11               0.26          0.29   \n",
       "Ocupação mãe             0.30  0.09               0.25          0.26   \n",
       "Nº de residentes         0.02 -0.03              -0.01          0.24   \n",
       "Renda familiar           0.47  0.18               0.38          0.39   \n",
       "Emp. domestico(a)        0.22  0.07               0.16          0.10   \n",
       "Banheiros                0.49  0.17               0.30          0.34   \n",
       "Quartos                  0.35  0.13               0.21          0.41   \n",
       "Carro                    0.42  0.15               0.28          0.41   \n",
       "Motocicleta             -0.01  0.01              -0.02          0.09   \n",
       "Geladeira                0.30  0.12               0.15          0.18   \n",
       "Freezer                  0.34  0.18               0.24          0.30   \n",
       "Máq. lavar-roupa         0.35  0.14               0.27          0.37   \n",
       "Máq. secar-roupa         0.18  0.11               0.15          0.15   \n",
       "Microondas               0.38  0.16               0.26          0.32   \n",
       "Máq. lavar-louça         0.16  0.09               0.12          0.07   \n",
       "Aspirador                0.40  0.21               0.28          0.29   \n",
       "Televisor                1.00  0.24               0.35          0.37   \n",
       "DVD                      0.24  1.00               0.16          0.16   \n",
       "TV por assinatura        0.35  0.16               1.00          0.24   \n",
       "Tel. celular             0.37  0.16               0.24          1.00   \n",
       "Tel. fixo                0.24  0.14               0.23          0.15   \n",
       "Computador               0.45  0.22               0.32          0.40   \n",
       "Internet                 0.19  0.08               0.14          0.32   \n",
       "\n",
       "                    Tel. fixo  Computador  Internet  \n",
       "Idade                   -0.03       -0.08     -0.05  \n",
       "Nota em Matemática       0.15        0.37      0.17  \n",
       "Escolaridade pai         0.18        0.41      0.21  \n",
       "Escolaridade mãe         0.15        0.40      0.22  \n",
       "Ocupação pai             0.19        0.42      0.24  \n",
       "Ocupação mãe             0.17        0.41      0.22  \n",
       "Nº de residentes        -0.00       -0.03     -0.06  \n",
       "Renda familiar           0.25        0.56      0.23  \n",
       "Emp. domestico(a)        0.08        0.20      0.05  \n",
       "Banheiros                0.21        0.47      0.19  \n",
       "Quartos                  0.14        0.34      0.21  \n",
       "Carro                    0.22        0.47      0.24  \n",
       "Motocicleta             -0.07       -0.04      0.03  \n",
       "Geladeira                0.11        0.21      0.10  \n",
       "Freezer                  0.18        0.34      0.20  \n",
       "Máq. lavar-roupa         0.21        0.40      0.30  \n",
       "Máq. secar-roupa         0.07        0.20      0.09  \n",
       "Microondas               0.22        0.39      0.27  \n",
       "Máq. lavar-louça         0.09        0.18      0.04  \n",
       "Aspirador                0.23        0.44      0.17  \n",
       "Televisor                0.24        0.45      0.19  \n",
       "DVD                      0.14        0.22      0.08  \n",
       "TV por assinatura        0.23        0.32      0.14  \n",
       "Tel. celular             0.15        0.40      0.32  \n",
       "Tel. fixo                1.00        0.26      0.12  \n",
       "Computador               0.26        1.00      0.25  \n",
       "Internet                 0.12        0.25      1.00  \n",
       "\n",
       "[27 rows x 27 columns]"
      ]
     },
     "execution_count": 70,
     "metadata": {},
     "output_type": "execute_result"
    }
   ],
   "source": [
    "final_enem_df[variaveis_numericas].corr(numeric_only=True).round(2)"
   ]
  },
  {
   "cell_type": "markdown",
   "id": "8964e52c",
   "metadata": {},
   "source": [
    "#  <a name=\"secao_4\">4. Alguns percentis</a>\n",
    "<hr style='border: 1px solid cyan;'>\n",
    "\n",
    "[voltar ao índice](#indice)"
   ]
  },
  {
   "cell_type": "code",
   "execution_count": 38,
   "id": "db49dee6",
   "metadata": {},
   "outputs": [
    {
     "data": {
      "text/plain": [
       "Urbana    0.96831\n",
       "Rural     0.03169\n",
       "Name: Localização, dtype: float64"
      ]
     },
     "execution_count": 38,
     "metadata": {},
     "output_type": "execute_result"
    }
   ],
   "source": [
    "final_enem_df['Localização'].value_counts(normalize=True)"
   ]
  },
  {
   "cell_type": "code",
   "execution_count": 71,
   "id": "94468016",
   "metadata": {},
   "outputs": [
    {
     "data": {
      "text/plain": [
       "Público    0.717867\n",
       "Privada    0.282133\n",
       "Name: Escola, dtype: float64"
      ]
     },
     "execution_count": 71,
     "metadata": {},
     "output_type": "execute_result"
    }
   ],
   "source": [
    "final_enem_df.Escola.value_counts(normalize=True)"
   ]
  },
  {
   "cell_type": "code",
   "execution_count": 39,
   "id": "df425351",
   "metadata": {},
   "outputs": [
    {
     "data": {
      "text/plain": [
       "Feminino     0.578397\n",
       "Masculino    0.421603\n",
       "Name: Sexo, dtype: float64"
      ]
     },
     "execution_count": 39,
     "metadata": {},
     "output_type": "execute_result"
    }
   ],
   "source": [
    "final_enem_df.Sexo.value_counts(normalize=True)"
   ]
  },
  {
   "cell_type": "markdown",
   "id": "4f7dfd8d",
   "metadata": {},
   "source": [
    "#  <a name=\"secao_5\">5.  Análise de outliers</a>\n",
    "<hr style='border: 1px solid cyan;'>\n",
    "\n",
    "[voltar ao índice](#indice)"
   ]
  },
  {
   "cell_type": "markdown",
   "id": "ca8e35d4",
   "metadata": {},
   "source": [
    "Para a exclusão de outliers, usarei como regra os valores abaixo de Q1 - 1.5 x Amplitude e valores acima de Q3 + 1.5 x Amplitude. Sendo que a amplitude é definida pelo valor Q1-Q3."
   ]
  },
  {
   "cell_type": "code",
   "execution_count": 8,
   "id": "c4a375b8",
   "metadata": {},
   "outputs": [],
   "source": [
    "def limites(coluna):\n",
    "    '''Essa function define os limites mínimo e máximo. Para que valores fora deste intervalo sejam excluídos'''\n",
    "    q1 = coluna.quantile(0.25)\n",
    "    q3 = coluna.quantile(0.75)\n",
    "    amplitude = q3 - q1\n",
    "    return q1 - 1.5 * amplitude, q3 + 1.5 * amplitude\n",
    "\n",
    "\n",
    "def excluir_outliers(df, nome_coluna):\n",
    "    '''Essa function exclui os outliers que estão fora da área delimitada'''\n",
    "    qtde_linhas = df.shape[0]\n",
    "    limite_inferior, limite_superior = limites(df[nome_coluna])\n",
    "    df = df.loc[(df[nome_coluna] >= limite_inferior) & (df[nome_coluna] <= limite_superior),:]\n",
    "    print('Foram removidas {} linhas/outliers'.format(qtde_linhas - df.shape[0]))\n",
    "    return df"
   ]
  },
  {
   "cell_type": "code",
   "execution_count": 9,
   "id": "761885e9",
   "metadata": {},
   "outputs": [],
   "source": [
    "def grafico_boxplot(coluna):\n",
    "    '''Function para plotar um gráfico boxplot simples, bastando passar a coluna'''\n",
    "    plt.figure(figsize=(10,4))\n",
    "    sns.boxplot(x = coluna, showmeans=True).set(title = coluna.name.capitalize(), xlabel=None)\n",
    "    \n",
    "    \n",
    "def grafico_histograma(coluna):\n",
    "    '''Function para plotar um gráfico histograma simples, bastando passar a coluna'''\n",
    "    sns.displot(coluna, bins=25, height=5, aspect=2)\\\n",
    "    .set(title = coluna.name.capitalize(), xlabel=None)\n",
    "    \n",
    "    \n",
    "def grafico_boxplot_bivariada(x, y, hue, df):\n",
    "    '''Function para plotar um gráfico boxplot multiplo, requer passar nome das três colunas,\n",
    "    sendo opcional especificar o dataframe'''\n",
    "    plt.figure(figsize=(14,5))\n",
    "    sns.boxplot(data=df, x=df[x], y=df[y], hue=df[hue], showmeans=True).set(title=df[x].name.capitalize(),xlabel=None)"
   ]
  },
  {
   "cell_type": "markdown",
   "id": "15ce9101",
   "metadata": {},
   "source": [
    "#### Feature Nota"
   ]
  },
  {
   "cell_type": "code",
   "execution_count": 10,
   "id": "99870f03",
   "metadata": {},
   "outputs": [
    {
     "name": "stdout",
     "output_type": "stream",
     "text": [
      "Foram removidas 828 linhas/outliers\n"
     ]
    }
   ],
   "source": [
    "final_enem_df = excluir_outliers(final_enem_df, 'Nota em Matemática')"
   ]
  },
  {
   "cell_type": "code",
   "execution_count": 11,
   "id": "ff372a0c",
   "metadata": {},
   "outputs": [
    {
     "data": {
      "image/png": "[encoded data removed]",
      "text/plain": [
       "<Figure size 720x288 with 1 Axes>"
      ]
     },
     "metadata": {},
     "output_type": "display_data"
    }
   ],
   "source": [
    "grafico_boxplot(final_enem_df['Nota em Matemática'])"
   ]
  },
  {
   "cell_type": "code",
   "execution_count": 12,
   "id": "adc4f918",
   "metadata": {},
   "outputs": [
    {
     "data": {
      "image/png": "[encoded data removed]",
      "text/plain": [
       "<Figure size 720x360 with 1 Axes>"
      ]
     },
     "metadata": {},
     "output_type": "display_data"
    }
   ],
   "source": [
    "grafico_histograma(final_enem_df['Nota em Matemática'])"
   ]
  },
  {
   "cell_type": "markdown",
   "id": "20275d79",
   "metadata": {},
   "source": [
    "#### Feature Renda familiar"
   ]
  },
  {
   "cell_type": "code",
   "execution_count": 13,
   "id": "718aff89",
   "metadata": {},
   "outputs": [
    {
     "name": "stdout",
     "output_type": "stream",
     "text": [
      "Foram removidas 45519 linhas/outliers\n"
     ]
    }
   ],
   "source": [
    "final_enem_df = excluir_outliers(final_enem_df, 'Renda familiar')"
   ]
  },
  {
   "cell_type": "code",
   "execution_count": 14,
   "id": "8615a5c8",
   "metadata": {},
   "outputs": [
    {
     "data": {
      "image/png": "[encoded data removed]",
      "text/plain": [
       "<Figure size 720x288 with 1 Axes>"
      ]
     },
     "metadata": {},
     "output_type": "display_data"
    }
   ],
   "source": [
    "grafico_boxplot(final_enem_df['Renda familiar'])"
   ]
  },
  {
   "cell_type": "code",
   "execution_count": 68,
   "id": "e1711b46",
   "metadata": {},
   "outputs": [
    {
     "data": {
      "image/png": "[encoded data removed]",
      "text/plain": [
       "<Figure size 1008x360 with 1 Axes>"
      ]
     },
     "metadata": {},
     "output_type": "display_data"
    }
   ],
   "source": [
    "grafico_boxplot_bivariada('Escolaridade pai', 'Renda familiar', 'Escola', final_enem_df)"
   ]
  },
  {
   "cell_type": "code",
   "execution_count": 69,
   "id": "67948964",
   "metadata": {},
   "outputs": [
    {
     "data": {
      "image/png": "[encoded data removed]",
      "text/plain": [
       "<Figure size 1008x360 with 1 Axes>"
      ]
     },
     "metadata": {},
     "output_type": "display_data"
    }
   ],
   "source": [
    "grafico_boxplot_bivariada('Escolaridade mãe', 'Renda familiar', 'Escola', final_enem_df)"
   ]
  },
  {
   "cell_type": "markdown",
   "id": "71967cb7",
   "metadata": {},
   "source": [
    "#### Importar ou exportar base de dados já tratados"
   ]
  },
  {
   "cell_type": "code",
   "execution_count": 18,
   "id": "7df6116e",
   "metadata": {},
   "outputs": [],
   "source": [
    "# final_enem_df.to_csv('dados/dados_tratados.csv', sep=';', encoding='latin1', index=False)\n",
    "# final_enem_df = pd.read_csv('dados/dados_tratados.csv', sep=';', encoding='latin1')"
   ]
  },
  {
   "cell_type": "markdown",
   "id": "08bde0eb",
   "metadata": {},
   "source": [
    "#  <a name=\"secao_6\">6. Gráficos</a>\n",
    "<hr style='border: 1px solid cyan;'>\n",
    "\n",
    "[voltar ao índice](#indice)"
   ]
  },
  {
   "cell_type": "markdown",
   "id": "33a2c54d",
   "metadata": {},
   "source": [
    "A aplicação de alguns gráficos que sejam pertinentes, tais como:\n",
    "* <font color='gray'>Distribuição de frequências (distplot) - OK\n",
    "* <font color='gray'>Gráficos de dispersão (pairplot). Variável dependente x variáveis explicativas.</font> <font color='red'>Para valores contínuos, excessões para categorias (hue)</font>\n",
    "* Jointplot é outra opção.\n",
    "* lmplot. Plota uma reta de regressão entre duas variáveis juntamente com a dispersão entre elas.\n",
    "* <font color='gray'>Análise bivariada com gráficos de barras ou boxplot* \n",
    "* Gráfico de matriz de correlação (essencial)\n",
    "* Para dados geográficos/geolocalização density_mapbox, etc.\n"
   ]
  },
  {
   "cell_type": "code",
   "execution_count": 15,
   "id": "9c9856cf",
   "metadata": {},
   "outputs": [],
   "source": [
    "def grafico_displot(coluna):\n",
    "    '''Essa função coleta o nome da coluna e exibe o seu respectivo displot'''\n",
    "    ax = sns.displot(pd.Series(final_enem_df[coluna]), kde=True)\n",
    "    ax.figure.set_size_inches(10,5)\n",
    "    plt.title('Distribuição de Frequências - {}'.format(coluna), fontsize=20)\n",
    "    ax.set(xlabel=None)\n",
    "    ax.set_ylabels('Quantidade')\n",
    "    ax"
   ]
  },
  {
   "cell_type": "code",
   "execution_count": 16,
   "id": "03b8df52",
   "metadata": {},
   "outputs": [
    {
     "data": {
      "image/png": "[encoded data removed]",
      "text/plain": [
       "<Figure size 720x360 with 1 Axes>"
      ]
     },
     "metadata": {},
     "output_type": "display_data"
    }
   ],
   "source": [
    "grafico_displot('Nota em Matemática')"
   ]
  },
  {
   "cell_type": "code",
   "execution_count": 82,
   "id": "eb49e764",
   "metadata": {},
   "outputs": [
    {
     "data": {
      "text/plain": [
       "<AxesSubplot:>"
      ]
     },
     "execution_count": 82,
     "metadata": {},
     "output_type": "execute_result"
    },
    {
     "data": {
      "image/png": "[encoded data removed]",
      "text/plain": [
       "<Figure size 432x288 with 1 Axes>"
      ]
     },
     "metadata": {},
     "output_type": "display_data"
    }
   ],
   "source": [
    "final_enem_df['UF'].value_counts().plot.bar()"
   ]
  },
  {
   "cell_type": "markdown",
   "id": "961cfe15",
   "metadata": {},
   "source": [
    "### Gráfico Matriz de correlação\n",
    "Para este gráfico, irei selecionar as features que em relação a variável independente, apresentem coeficiente de correlação positiva maior que 0.25 e também aquelas que tiveram correlação negativa (independente do coeficiente).\n",
    "Devido a remoção de outliers, será feita nova aferição dos coeficientes de correlação."
   ]
  },
  {
   "cell_type": "code",
   "execution_count": 17,
   "id": "e8ceb744",
   "metadata": {},
   "outputs": [],
   "source": [
    "def intervalo_coef(var_dependente, coluna, cond_maior_igual=0.25, cond_menor=0):\n",
    "    '''Obtém o coeficiente de correlação entre a variável dependente e outra variável.\n",
    "    E verifica se esse coeficiente está dentro de um intervalo desejado'''\n",
    "    \n",
    "    coeficiente = float(final_enem_df[[var_dependente, coluna]].corr(numeric_only=True).min().sample().values)\n",
    "    return coeficiente >= cond_maior_igual or coeficiente < cond_menor\n",
    "\n",
    "\n",
    "def criar_lista_matriz(var_dependente, lista_var_num):\n",
    "    '''Função responsável por criar lista com as colunas com resposta True à função intervalo_coef()'''\n",
    "    return [coluna for coluna in lista_var_num if intervalo_coef(var_dependente, coluna)]"
   ]
  },
  {
   "cell_type": "code",
   "execution_count": 19,
   "id": "12ed2dfc",
   "metadata": {},
   "outputs": [],
   "source": [
    "var_dependente = 'Nota em Matemática'\n",
    "lista_matriz = criar_lista_matriz(var_dependente, variaveis_numericas)"
   ]
  },
  {
   "cell_type": "code",
   "execution_count": 36,
   "id": "1c7e7aa9",
   "metadata": {},
   "outputs": [
    {
     "data": {
      "image/png": "[encoded data removed]",
      "text/plain": [
       "<Figure size 1152x720 with 2 Axes>"
      ]
     },
     "metadata": {},
     "output_type": "display_data"
    }
   ],
   "source": [
    "plt.figure(figsize=(16, 10))\n",
    "grafico = sns.heatmap(final_enem_df[lista_matriz].corr(), annot=True, cmap='Blues')\n",
    "grafico.tick_params(axis='x', rotation=45, labeltop=True, labelbottom=False, top=True, length=10)"
   ]
  },
  {
   "cell_type": "markdown",
   "id": "02865d01",
   "metadata": {},
   "source": [
    "#  <a name=\"secao_7\">7. Análise Geográfica</a>\n",
    "<hr style='border: 1px solid cyan;'>\n",
    "\n",
    "[voltar ao índice](#indice)"
   ]
  },
  {
   "cell_type": "markdown",
   "id": "d387feda",
   "metadata": {},
   "source": [
    "### Heatmap do Brasil"
   ]
  },
  {
   "cell_type": "markdown",
   "id": "404c8b77",
   "metadata": {},
   "source": [
    "#### Carregando os dados do mapa"
   ]
  },
  {
   "cell_type": "code",
   "execution_count": 93,
   "id": "bc4773af",
   "metadata": {},
   "outputs": [],
   "source": [
    "shape_brasil = gdp.read_file('dados/BR_UF_2021.shp')"
   ]
  },
  {
   "cell_type": "code",
   "execution_count": 268,
   "id": "5b8940fc",
   "metadata": {},
   "outputs": [],
   "source": [
    "shape_brasil.rename(columns={'SIGLA':'UF'}, inplace=True)"
   ]
  },
  {
   "cell_type": "markdown",
   "id": "098d7ac3",
   "metadata": {},
   "source": [
    "#### Funções para criar o gráfico"
   ]
  },
  {
   "cell_type": "code",
   "execution_count": 338,
   "id": "1e67f9f1",
   "metadata": {},
   "outputs": [],
   "source": [
    "def criar_coluna_geomap(coluna_base, modo):\n",
    "    '''A função recebe uma coluna que servirá de cálculo conforme o modo selecionado.     \n",
    "    Um sub-dataframe tem o nome de coluna alterado conforme o modo. \n",
    "    E é temporariamente mesclado a um dataframe com dados shape (Multi-polígonos).\n",
    "    \n",
    "    coluna_base: str\n",
    "    modo: str (percentual|média)'''\n",
    "    \n",
    "    if modo == 'percentual':\n",
    "        novo_modo = pd.DataFrame(round(final_enem_df[coluna_base].value_counts(normalize=True)*100,2))\n",
    "        novo_df = novo_modo.reset_index(drop=False)        \n",
    "        novo_df.rename(columns={'index':coluna_base, coluna_base:modo.capitalize()}, inplace=True)\n",
    "        \n",
    "    elif modo == 'média':\n",
    "        novo_modo = final_enem_df[coluna_base].groupby(by=final_enem_df.UF).median()    \n",
    "        novo_df = novo_modo.reset_index(drop=False)\n",
    "        novo_df.rename(columns={coluna_base:modo.capitalize()}, inplace=True)        \n",
    "    \n",
    "    return shape_brasil.merge(novo_df, on='UF')\n",
    "\n",
    "\n",
    "def grafico_heatmap_brasil(titulo, coluna, dataframe, src=True):\n",
    "    '''Essa funão cria um gráfico heat map com o delineamento do mapa do Brasil\n",
    "    titulo: str : título a ser atribuído ao gráfico\n",
    "    coluna: coluna de um dataframe\n",
    "    dataframe: o dataframe que contém os valores utilizados\n",
    "    src: True|False (opcional): exibe ou omite uma informação extra sobre o projeto'''\n",
    "    \n",
    "    if src == True:\n",
    "        source='Projeto Semantix: Análise do Enem 2021 - Thiago Pereira de Lima'\n",
    "    else:\n",
    "        source=''\n",
    "    \n",
    "    vmin = dataframe[coluna].min()\n",
    "    vmax = dataframe[coluna].max()\n",
    "    cmap = sns.color_palette('light:b', as_cmap=True)\n",
    "\n",
    "    fig, ax = plt.subplots(1, figsize=(10,10))\n",
    "    ax.axis('off')\n",
    "    dataframe.plot(column=coluna, ax=ax, edgecolor='0.8', linewidth=1, cmap=cmap)\n",
    "\n",
    "    ax.set_title(titulo, fontdict={'fontsize': '20', 'fontweight':'3'})\n",
    "    ax.annotate(source, xy=(0.1, .08), xycoords='figure fraction', horizontalalignment='left',\n",
    "               verticalalignment='bottom', fontsize=10)\n",
    "\n",
    "    sm = plt.cm.ScalarMappable(norm=plt.Normalize(vmin=vmin, vmax=vmax), cmap=cmap)\n",
    "    sm._A = []\n",
    "\n",
    "    cbaxes = fig.add_axes([0.20, 0.25, 0.01, 0.25])\n",
    "    cbar = fig.colorbar(sm, cax=cbaxes)"
   ]
  },
  {
   "cell_type": "markdown",
   "id": "210675c0",
   "metadata": {},
   "source": [
    "### Média da renda familiar por estado"
   ]
  },
  {
   "cell_type": "code",
   "execution_count": 339,
   "id": "47177696",
   "metadata": {},
   "outputs": [
    {
     "data": {
      "image/png": "[encoded data removed]",
      "text/plain": [
       "<Figure size 720x720 with 2 Axes>"
      ]
     },
     "metadata": {},
     "output_type": "display_data"
    }
   ],
   "source": [
    "coluna_base = 'Renda familiar'\n",
    "modo = 'média'\n",
    "\n",
    "shape_novo_df = criar_coluna_geomap(coluna_base, modo)\n",
    "coluna = modo.capitalize()\n",
    "titulo = '{} - {} por estado'.format(coluna, coluna_base)\n",
    "\n",
    "grafico_heatmap_brasil(titulo, coluna, shape_novo_df)"
   ]
  },
  {
   "cell_type": "markdown",
   "id": "e3c3d2cf",
   "metadata": {},
   "source": [
    "### Percentual de alunos inscritos em cada estado"
   ]
  },
  {
   "cell_type": "code",
   "execution_count": 340,
   "id": "a98b1ace",
   "metadata": {},
   "outputs": [
    {
     "data": {
      "image/png": "[encoded data removed]",
      "text/plain": [
       "<Figure size 720x720 with 2 Axes>"
      ]
     },
     "metadata": {},
     "output_type": "display_data"
    }
   ],
   "source": [
    "coluna_base = 'UF'\n",
    "modo = 'percentual'\n",
    "\n",
    "shape_novo_df = criar_coluna_geomap(coluna_base, modo)\n",
    "coluna = modo.capitalize()\n",
    "titulo = '{} - {} por estado'.format(coluna, 'alunos inscritos')\n",
    "\n",
    "grafico_heatmap_brasil(titulo, coluna, shape_novo_df)"
   ]
  },
  {
   "cell_type": "markdown",
   "id": "3ac12089",
   "metadata": {},
   "source": [
    "### Média das notas por estado"
   ]
  },
  {
   "cell_type": "code",
   "execution_count": 341,
   "id": "3a3b5968",
   "metadata": {},
   "outputs": [
    {
     "data": {
      "image/png": "[encoded data removed]",
      "text/plain": [
       "<Figure size 720x720 with 2 Axes>"
      ]
     },
     "metadata": {},
     "output_type": "display_data"
    }
   ],
   "source": [
    "coluna_base = 'Nota em Matemática'\n",
    "modo = 'média'\n",
    "\n",
    "shape_novo_df = criar_coluna_geomap(coluna_base, modo)\n",
    "coluna = modo.capitalize()\n",
    "titulo = '{} - {} por estado'.format(coluna, coluna_base)\n",
    "\n",
    "grafico_heatmap_brasil(titulo, coluna, shape_novo_df, src=False)"
   ]
  },
  {
   "cell_type": "code",
   "execution_count": null,
   "id": "b4bdb496",
   "metadata": {},
   "outputs": [],
   "source": []
  },
  {
   "cell_type": "markdown",
   "id": "a4d0f40a",
   "metadata": {},
   "source": [
    "Usar uma API para buscar o PIB de cada estado"
   ]
  },
  {
   "cell_type": "code",
   "execution_count": 48,
   "id": "ea42cf4f",
   "metadata": {},
   "outputs": [],
   "source": [
    "import requests\n",
    "import json\n",
    "\n"
   ]
  },
  {
   "cell_type": "markdown",
   "id": "2762e393",
   "metadata": {},
   "source": [
    "#  <a name=\"conclusao\">Conclusão</a>\n",
    "<hr style='border: 1px solid cyan;'>\n",
    "\n",
    "[voltar ao índice](#indice)\n",
    "\n",
    "Ipsum aliquam adipisci adipisci neque labore. Numquam sit eius etincidunt dolore ipsum amet consectetur. Etincidunt ut quiquia labore sed. Amet eius dolore amet labore tempora dolorem magnam. Amet porro est consectetur magnam aliquam dolorem. Modi est consectetur est quiquia. Adipisci aliquam est consectetur tempora."
   ]
  },
  {
   "cell_type": "code",
   "execution_count": null,
   "id": "5b7257bd",
   "metadata": {},
   "outputs": [],
   "source": []
  },
  {
   "cell_type": "markdown",
   "id": "a5444f47",
   "metadata": {},
   "source": [
    "Aplicar distplot para observar a nova distribuição de Frequências, ou outro tipo de gráfico a fim de observar os resultados das transformações."
   ]
  },
  {
   "cell_type": "markdown",
   "id": "f00980b7",
   "metadata": {},
   "source": [
    "#  <a name=\"secao_x\">X. Outras seções/etapas a depender do objetivo</a>\n",
    "<hr style='border: 1px solid cyan;'>\n",
    "\n",
    "[voltar ao índice](#indice)"
   ]
  },
  {
   "cell_type": "markdown",
   "id": "e33e6a99",
   "metadata": {},
   "source": [
    "8. Verificar Relação Linear"
   ]
  },
  {
   "cell_type": "markdown",
   "id": "416dd291",
   "metadata": {},
   "source": [
    "9. Separar o dataset entre dados de treino e de teste <br>\n",
    "importar train_test_split ou separar manualmente"
   ]
  },
  {
   "cell_type": "markdown",
   "id": "bebf58c8",
   "metadata": {},
   "source": [
    "10. importar, estanciar e treinar um ou mais modelos, seja este de Machine Learning tradicional ou deep learning (NLP, DNN, etc).\n",
    "<br> Alguns modelos tradicionais de Machine Learning:\n",
    "\n",
    "###### modelos de regressão linear (prever valores contínuos):\n",
    "* Regressão Linear\n",
    "* Regressão Polinomial\n",
    "* Ridge Regression\n",
    "* Lasso Regression\n",
    "* Stepwise Regression\n",
    "* Regressão Linar Bayesiana\n",
    "    \n",
    "###### modelos de clusterização (agrupar objetos similares):\n",
    "* K-Means\n",
    "* Mean-Shift\n",
    "* DBSCAN\n",
    "* EM/GMM\n",
    "* Hierarchical Clustering\n",
    "    \n",
    "###### modelos de classificação (identificar a qual categoria pertence)\n",
    "* Logistic Regression\n",
    "* Stochastic Gradient Descent\n",
    "* Naive Bayes\n",
    "* K-Nearest Neighbors (KNN)\n",
    "* Decision Tree\n",
    "* Random Forest\n",
    "* Support Vector Machine (SVM)"
   ]
  },
  {
   "cell_type": "markdown",
   "id": "03d27a63",
   "metadata": {},
   "source": [
    "11. comparar os modelos e selecionar o mais eficiente\n",
    "* Os métodos podem variar conforme os modelos"
   ]
  },
  {
   "cell_type": "markdown",
   "id": "6db2c420",
   "metadata": {},
   "source": [
    "12. Métricas para avaliar o modelo estimado\n",
    "* ex: modelo.summary()\n",
    "* usar biblioteca statsmodel (import statsmodels.api as sm)\n",
    "* Obter previsões e Coeficiente de Regressão. Por fim interpretar os coeficientes estimados\n",
    "\n",
    "* Modelos de Regressão:\n",
    "    * Mean Absolute Error (MAE)\n",
    "    * Mean Squared Error (MSE)\n",
    "    * Root Mean Squared Error (RMSE)\n",
    "    * R² (R-Squared) <br>\n",
    "    \n",
    "* Modelos de Classificação:\n",
    "    * Accuracy\n",
    "    * Confusion Matrix (não é uma métrica, mas para alguns pode ser fundamental)\n",
    "    * Precision and Recall\n",
    "    * F1-Score\n",
    "    * AU-ROC <br>\n",
    "    \n",
    "* Modelos de Clusterização\n",
    "    * Rand Index\n",
    "    * Mutual Information Based Scores\n",
    "    * Homogeneity, completeness and V-measure\n",
    "    * Fowlkes-Mallows Score\n",
    "    * Silhouette Coefficent\n",
    "    * Calinski-Harabsz Index\n",
    "    * Contingency Matrix\n",
    "    * Pair Confusion Matrix"
   ]
  },
  {
   "cell_type": "markdown",
   "id": "2829cdb9",
   "metadata": {},
   "source": [
    "13. Modificando e reavaliando modelo após ajuste"
   ]
  },
  {
   "cell_type": "markdown",
   "id": "aaa9fdaa",
   "metadata": {},
   "source": [
    "14. Efetuar análises gráficas dos resultados do modelo\n",
    "* ex: scatterplot entre valores estimados e reais\n",
    "* ex: distplot para análise de resíduos (y_treino - y_previsto_treino)"
   ]
  },
  {
   "cell_type": "markdown",
   "id": "b6ed5eec",
   "metadata": {},
   "source": [
    "15. Criar um simulador simples"
   ]
  },
  {
   "cell_type": "markdown",
   "id": "b7967819",
   "metadata": {},
   "source": [
    "16. Salvar o modelo estimado"
   ]
  },
  {
   "cell_type": "markdown",
   "id": "42801c9f",
   "metadata": {},
   "source": [
    "17. Efetuar o deploy do projeto\n",
    "ex:\n",
    "* Passo 1 -> Criar arquivo do Modelo(joblib)\n",
    "* Passo 2 -> Escolher a forma de deploy:\n",
    "    * Arquivo Executável + TKinter\n",
    "    * Deploy em um Microsite (Flask)\n",
    "    * Deploy apenas para uso direto (Streamlit)\n",
    "* Passo 3 -> Outro arquivo Python (pode ser Jupyter ou PyCharm)\n",
    "* Passo 4 -> Importar streamlit e criar código\n",
    "* Passo 5 -> Atribuir ao botão o carregamento do modelo\n",
    "* Passo 6 -> Deploy feito"
   ]
  },
  {
   "cell_type": "markdown",
   "id": "ca1d4511",
   "metadata": {},
   "source": [
    "18. Exportar dados criando dashboard PowerBI"
   ]
  }
 ],
 "metadata": {
  "kernelspec": {
   "display_name": "Python 3 (ipykernel)",
   "language": "python",
   "name": "python3"
  },
  "language_info": {
   "codemirror_mode": {
    "name": "ipython",
    "version": 3
   },
   "file_extension": ".py",
   "mimetype": "text/x-python",
   "name": "python",
   "nbconvert_exporter": "python",
   "pygments_lexer": "ipython3",
   "version": "3.9.7"
  }
 },
 "nbformat": 4,
 "nbformat_minor": 5
}
