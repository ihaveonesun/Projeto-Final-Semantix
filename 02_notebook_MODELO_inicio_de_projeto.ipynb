{
 "cells": [
  {
   "cell_type": "markdown",
   "id": "817daad8",
   "metadata": {},
   "source": [
    "<h1 style='color: green; font-size: 36px; font-weight: bold;'>Data Science - Nome do Projeto</h1>"
   ]
  },
  {
   "cell_type": "markdown",
   "id": "9113c594",
   "metadata": {},
   "source": [
    "# <a name='descricao'>Descrição</a>\n",
    "<i>Porro velit modi dolore non. Sed porro dolore amet sed consectetur. Adipisci etincidunt numquam eius. Magnam voluptatem consectetur porro. Porro tempora aliquam neque amet consectetur porro. Aliquam velit dolore eius eius adipisci. Dolor est dolor modi sit ut. Quiquia quisquam porro adipisci labore. Dolore numquam quaerat ipsum.</i>"
   ]
  },
  {
   "cell_type": "markdown",
   "id": "892f38af",
   "metadata": {},
   "source": [
    "### Features:\n",
    "<ul style='font-size: 14px; line-height: 1,5 ; text-align: justify;'>\n",
    "    <li><b>Feature_1</b> - xxxx</li>\n",
    "    <li><b>Feature_2</b> - Área do  - xxxx em m²</li>\n",
    "    <li><b>Feature_3</b> - Distância do imóvel até a praia (km) (em linha reta)</li>\n",
    "    <li><b>Feature_4</b> - Distância do imóvel até a farmácia mais próxima (km) (em linha reta)</li>\n",
    "</ul>"
   ]
  },
  {
   "cell_type": "markdown",
   "id": "1862d2cb",
   "metadata": {},
   "source": [
    "# <a name='indice'>Índice</a>\n",
    "* [Descrição](#descricao)\n",
    "* [Índice](#indice)\n",
    "* [1. Importando Bibliotecas e Base de Dados](#secao_1)\n",
    "* [2. Conhecendo e Tratando a Base de Dados](#secao_2)\n",
    "* [3. Análise Descritiva](#secao_3)\n",
    "* [4. Comportamento da Variável Dependente](#secao_4)\n",
    "* [5. Análise de Outliers](#secao_5)\n",
    "* [6. Gráficos](#secao_6) \n",
    "* [7. Transformação dos Dados](#secao_7)\n",
    "* [X. Outras seções/etapas a depender do objetivo](#secao_x)\n",
    "* [Conclusão](#conclusao)"
   ]
  },
  {
   "cell_type": "markdown",
   "id": "31e57ed4",
   "metadata": {},
   "source": [
    "#  <a name=\"secao_1\"><font style='font-size: 30px;'>1 Importando Bibliotecas e Base de Dados</font></a>\n",
    "<hr style='border: 1px solid cyan;'>\n",
    "\n",
    "[voltar ao índice](#indice)"
   ]
  },
  {
   "cell_type": "code",
   "execution_count": null,
   "id": "e9263a00",
   "metadata": {},
   "outputs": [],
   "source": []
  },
  {
   "cell_type": "markdown",
   "id": "4f17def4",
   "metadata": {},
   "source": [
    "#  <a name=\"secao_2\">2. Conhecendo e Tratando a Base de Dados</a>\n",
    "<hr style='border: 1px solid cyan;'>\n",
    "\n",
    "[voltar ao índice](#indice)"
   ]
  },
  {
   "cell_type": "markdown",
   "id": "9d2b1f3b",
   "metadata": {},
   "source": [
    "#### Informações gerais"
   ]
  },
  {
   "cell_type": "markdown",
   "id": "0bd8102d",
   "metadata": {},
   "source": [
    "Aplicar: \n",
    "* .info()\n",
    "* .head()\n",
    "* .shape\n",
    "* .dtypes\n",
    "* etc"
   ]
  },
  {
   "cell_type": "markdown",
   "id": "86956c66",
   "metadata": {},
   "source": [
    "### Consolidando base de dados"
   ]
  },
  {
   "cell_type": "markdown",
   "id": "8aeffc83",
   "metadata": {},
   "source": [
    "#### Tratando de valores nulos(?)"
   ]
  },
  {
   "cell_type": "code",
   "execution_count": null,
   "id": "8bd5970f",
   "metadata": {},
   "outputs": [],
   "source": []
  },
  {
   "cell_type": "markdown",
   "id": "2c82c7ac",
   "metadata": {},
   "source": [
    "#  <a name=\"secao_3\">3. Análise Descritiva</a>\n",
    "<hr style='border: 1px solid cyan;'>\n",
    "\n",
    "[voltar ao índice](#indice)"
   ]
  },
  {
   "cell_type": "markdown",
   "id": "b5bc25a4",
   "metadata": {},
   "source": [
    "#### Tratar features qualitativas(?)"
   ]
  },
  {
   "cell_type": "code",
   "execution_count": null,
   "id": "1bbefa7e",
   "metadata": {},
   "outputs": [],
   "source": []
  },
  {
   "cell_type": "markdown",
   "id": "2361abe6",
   "metadata": {},
   "source": [
    "#### Tratar features quantitativas(?)"
   ]
  },
  {
   "cell_type": "code",
   "execution_count": null,
   "id": "a3aa3d82",
   "metadata": {},
   "outputs": [],
   "source": []
  },
  {
   "cell_type": "markdown",
   "id": "425d9075",
   "metadata": {},
   "source": [
    "#### Descrição\n",
    "* .describe().round(2)\n"
   ]
  },
  {
   "cell_type": "markdown",
   "id": "3d9d9de5",
   "metadata": {},
   "source": [
    "#### Coeficiente de Variação(?)"
   ]
  },
  {
   "cell_type": "code",
   "execution_count": null,
   "id": "2b8f36a1",
   "metadata": {},
   "outputs": [],
   "source": []
  },
  {
   "cell_type": "markdown",
   "id": "823dc22f",
   "metadata": {},
   "source": [
    "#### Matriz (simples) de correlação"
   ]
  },
  {
   "cell_type": "code",
   "execution_count": 3,
   "id": "16fb4ab9",
   "metadata": {},
   "outputs": [],
   "source": [
    "# x.corr().round(2)"
   ]
  },
  {
   "cell_type": "markdown",
   "id": "28fdcf42",
   "metadata": {},
   "source": [
    "#  <a name=\"secao_4\">4. Comportamento da Variável Dependente (Y)</a>\n",
    "[voltar ao índice](#indice)\n",
    "\n",
    "<hr style='border: 1px solid cyan;'>"
   ]
  },
  {
   "cell_type": "markdown",
   "id": "7e095789",
   "metadata": {},
   "source": [
    "* Às principais features .value_counts(normalize=True)\n",
    "* box plot inicial\n",
    "* algum gráfico de linha (a depender do tipo de dado)\n",
    "* etc."
   ]
  },
  {
   "cell_type": "code",
   "execution_count": null,
   "id": "69112efb",
   "metadata": {},
   "outputs": [],
   "source": []
  },
  {
   "cell_type": "markdown",
   "id": "4f7dfd8d",
   "metadata": {},
   "source": [
    "#  <a name=\"secao_5\">5.  Análise de Outliers</a>\n",
    "<hr style='border: 1px solid cyan;'>\n",
    "\n",
    "[voltar ao índice](#indice)"
   ]
  },
  {
   "cell_type": "markdown",
   "id": "e36688df",
   "metadata": {},
   "source": [
    "Para a exclusão de outliers, usarei como regra os valores abaixo de Q1 - 1.5 x Amplitude e valores acima de Q3 + 1.5 x Amplitude. Sendo que a amplitude é definida pelo valor Q1-Q3."
   ]
  },
  {
   "cell_type": "markdown",
   "id": "ca8e35d4",
   "metadata": {},
   "source": [
    "* função de limites\n",
    "* função de exclusão\n",
    "* função de gráficos boxplot, histograma e boxplot bivariada"
   ]
  },
  {
   "cell_type": "markdown",
   "id": "15ce9101",
   "metadata": {},
   "source": [
    "#### Feature x\n",
    "(aplicar as funções necessárias para cada feature)"
   ]
  },
  {
   "cell_type": "markdown",
   "id": "08bde0eb",
   "metadata": {},
   "source": [
    "#  <a name=\"secao_6\">6. Gráficos</a>\n",
    "<hr style='border: 1px solid cyan;'>\n",
    "\n",
    "[voltar ao índice](#indice)"
   ]
  },
  {
   "cell_type": "markdown",
   "id": "33a2c54d",
   "metadata": {},
   "source": [
    "A aplicação de alguns gráficos que sejam pertinentes, tais como:\n",
    "* Distribuição de frequências (distplot)\n",
    "* Gráficos de dispersão (pairplot). Variável dependente x variáveis explicativas.\n",
    "* Jointplot é outra opção.\n",
    "* lmplot. Plota uma reta de regressão entre duas variáveis juntamente com a dispersão entre elas.\n",
    "* Análise bivariada com gráficos de barras ou boxplot* \n",
    "* Gráfico de matriz de correlação (essencial)\n",
    "* Para dados geográficos/geolocalização density_mapbox, etc.\n"
   ]
  },
  {
   "cell_type": "markdown",
   "id": "02865d01",
   "metadata": {},
   "source": [
    "#  <a name=\"secao_7\">7. Transformação dos Dados</a>\n",
    "<hr style='border: 1px solid cyan;'>\n",
    "\n",
    "[voltar ao índice](#indice)"
   ]
  },
  {
   "cell_type": "markdown",
   "id": "f1f3354c",
   "metadata": {},
   "source": [
    "AVISO: <i>Desta etapa em diante, os passos são aplicáveis somente se for utilizar os dados para criação de um modelo linear ou para outros modelos de machine learning</i>"
   ]
  },
  {
   "cell_type": "markdown",
   "id": "10cb2a1e",
   "metadata": {},
   "source": [
    "* ex: transformar valores numéricos em valor logarítimo com np.log(feature)\n",
    "* ex normalizar(?)\n",
    "* boolean para binário\n",
    "* criar variáveis dummies para valores de texto\n",
    "* outros exemplos a serem recuperados de encoding"
   ]
  },
  {
   "cell_type": "code",
   "execution_count": null,
   "id": "5b7257bd",
   "metadata": {},
   "outputs": [],
   "source": []
  },
  {
   "cell_type": "markdown",
   "id": "a5444f47",
   "metadata": {},
   "source": [
    "Aplicar distplot para observar a nova distribuição de Frequências, ou outro tipo de gráfico a fim de observar os resultados das transformações."
   ]
  },
  {
   "cell_type": "markdown",
   "id": "f00980b7",
   "metadata": {},
   "source": [
    "#  <a name=\"secao_x\">X. Outras seções/etapas a depender do objetivo</a>\n",
    "<hr style='border: 1px solid cyan;'>\n",
    "\n",
    "[voltar ao índice](#indice)"
   ]
  },
  {
   "cell_type": "markdown",
   "id": "e33e6a99",
   "metadata": {},
   "source": [
    "8. Verificar Relação Linear"
   ]
  },
  {
   "cell_type": "markdown",
   "id": "416dd291",
   "metadata": {},
   "source": [
    "9. Separar o dataset entre dados de treino e de teste <br>\n",
    "importar train_test_split ou separar manualmente"
   ]
  },
  {
   "cell_type": "markdown",
   "id": "bebf58c8",
   "metadata": {},
   "source": [
    "10. importar, estanciar e treinar um ou mais modelos, seja este de Machine Learning tradicional ou deep learning (NLP, DNN, etc).\n",
    "<br> Alguns modelos tradicionais de Machine Learning:\n",
    "\n",
    "###### modelos de regressão linear (prever valores contínuos):\n",
    "* Regressão Linear\n",
    "* Regressão Polinomial\n",
    "* Ridge Regression\n",
    "* Lasso Regression\n",
    "* Stepwise Regression\n",
    "* Regressão Linar Bayesiana\n",
    "    \n",
    "###### modelos de clusterização (agrupar objetos similares):\n",
    "* K-Means\n",
    "* Mean-Shift\n",
    "* DBSCAN\n",
    "* EM/GMM\n",
    "* Hierarchical Clustering\n",
    "    \n",
    "###### modelos de classificação (identificar a qual categoria pertence)\n",
    "* Logistic Regression\n",
    "* Stochastic Gradient Descent\n",
    "* Naive Bayes\n",
    "* K-Nearest Neighbors (KNN)\n",
    "* Decision Tree\n",
    "* Random Forest\n",
    "* Support Vector Machine (SVM)"
   ]
  },
  {
   "cell_type": "markdown",
   "id": "03d27a63",
   "metadata": {},
   "source": [
    "11. comparar os modelos e selecionar o mais eficiente\n",
    "* Os métodos podem variar conforme os modelos"
   ]
  },
  {
   "cell_type": "markdown",
   "id": "6db2c420",
   "metadata": {},
   "source": [
    "12. Métricas para avaliar o modelo estimado\n",
    "* ex: modelo.summary()\n",
    "* usar biblioteca statsmodel (import statsmodels.api as sm)\n",
    "* Obter previsões e Coeficiente de Regressão. Por fim interpretar os coeficientes estimados\n",
    "\n",
    "* Modelos de Regressão:\n",
    "    * Mean Absolute Error (MAE)\n",
    "    * Mean Squared Error (MSE)\n",
    "    * Root Mean Squared Error (RMSE)\n",
    "    * R² (R-Squared) <br>\n",
    "    \n",
    "* Modelos de Classificação:\n",
    "    * Accuracy\n",
    "    * Confusion Matrix (não é uma métrica, mas para alguns pode ser fundamental)\n",
    "    * Precision and Recall\n",
    "    * F1-Score\n",
    "    * AU-ROC <br>\n",
    "    \n",
    "* Modelos de Clusterização\n",
    "    * Rand Index\n",
    "    * Mutual Information Based Scores\n",
    "    * Homogeneity, completeness and V-measure\n",
    "    * Fowlkes-Mallows Score\n",
    "    * Silhouette Coefficent\n",
    "    * Calinski-Harabsz Index\n",
    "    * Contingency Matrix\n",
    "    * Pair Confusion Matrix"
   ]
  },
  {
   "cell_type": "markdown",
   "id": "2829cdb9",
   "metadata": {},
   "source": [
    "13. Modificando e reavaliando modelo após ajuste"
   ]
  },
  {
   "cell_type": "markdown",
   "id": "aaa9fdaa",
   "metadata": {},
   "source": [
    "14. Efetuar análises gráficas dos resultados do modelo\n",
    "* ex: scatterplot entre valores estimados e reais\n",
    "* ex: distplot para análise de resíduos (y_treino - y_previsto_treino)"
   ]
  },
  {
   "cell_type": "markdown",
   "id": "b6ed5eec",
   "metadata": {},
   "source": [
    "15. Criar um simulador simples"
   ]
  },
  {
   "cell_type": "markdown",
   "id": "b7967819",
   "metadata": {},
   "source": [
    "16. Salvar o modelo estimado"
   ]
  },
  {
   "cell_type": "markdown",
   "id": "42801c9f",
   "metadata": {},
   "source": [
    "17. Efetuar o deploy do projeto\n",
    "ex:\n",
    "* Passo 1 -> Criar arquivo do Modelo(joblib)\n",
    "* Passo 2 -> Escolher a forma de deploy:\n",
    "    * Arquivo Executável + TKinter\n",
    "    * Deploy em um Microsite (Flask)\n",
    "    * Deploy apenas para uso direto (Streamlit)\n",
    "* Passo 3 -> Outro arquivo Python (pode ser Jupyter ou PyCharm)\n",
    "* Passo 4 -> Importar streamlit e criar código\n",
    "* Passo 5 -> Atribuir ao botão o carregamento do modelo\n",
    "* Passo 6 -> Deploy feito"
   ]
  },
  {
   "cell_type": "markdown",
   "id": "ca1d4511",
   "metadata": {},
   "source": [
    "18. Exportar dados criando dashboard PowerBI"
   ]
  },
  {
   "cell_type": "markdown",
   "id": "2762e393",
   "metadata": {},
   "source": [
    "#  <a name=\"conclusao\">Conclusão</a>\n",
    "<hr style='border: 1px solid cyan;'>\n",
    "\n",
    "[voltar ao índice](#indice)\n",
    "\n",
    "Ipsum aliquam adipisci adipisci neque labore. Numquam sit eius etincidunt dolore ipsum amet consectetur. Etincidunt ut quiquia labore sed. Amet eius dolore amet labore tempora dolorem magnam. Amet porro est consectetur magnam aliquam dolorem. Modi est consectetur est quiquia. Adipisci aliquam est consectetur tempora."
   ]
  }
 ],
 "metadata": {
  "kernelspec": {
   "display_name": "Python 3 (ipykernel)",
   "language": "python",
   "name": "python3"
  },
  "language_info": {
   "codemirror_mode": {
    "name": "ipython",
    "version": 3
   },
   "file_extension": ".py",
   "mimetype": "text/x-python",
   "name": "python",
   "nbconvert_exporter": "python",
   "pygments_lexer": "ipython3",
   "version": "3.9.7"
  }
 },
 "nbformat": 4,
 "nbformat_minor": 5
}
